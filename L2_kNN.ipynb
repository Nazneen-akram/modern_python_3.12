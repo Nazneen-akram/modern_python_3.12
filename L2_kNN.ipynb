{
  "cells": [
    {
      "cell_type": "markdown",
      "metadata": {
        "id": "view-in-github",
        "colab_type": "text"
      },
      "source": [
        "<a href=\"https://colab.research.google.com/github/Nazneen-akram/modern_python_3.12/blob/main/L2_kNN.ipynb\" target=\"_parent\"><img src=\"https://colab.research.google.com/assets/colab-badge.svg\" alt=\"Open In Colab\"/></a>"
      ]
    },
    {
      "cell_type": "markdown",
      "id": "fe548d4c-0ae6-4490-85e9-9a08b324e523",
      "metadata": {
        "id": "fe548d4c-0ae6-4490-85e9-9a08b324e523"
      },
      "source": [
        "# K Nearest Neighbors"
      ]
    },
    {
      "cell_type": "code",
      "execution_count": 1,
      "id": "1dffa51f",
      "metadata": {
        "height": 98,
        "id": "1dffa51f"
      },
      "outputs": [],
      "source": [
        "import numpy as np\n",
        "import matplotlib.pyplot as plt\n",
        "from sklearn.neighbors import NearestNeighbors\n",
        "import time\n",
        "np.random.seed(42)"
      ]
    },
    {
      "cell_type": "code",
      "execution_count": 11,
      "id": "c6507163-f256-4969-b39a-42e4fe87e16e",
      "metadata": {
        "height": 47,
        "colab": {
          "base_uri": "https://localhost:8080/"
        },
        "id": "c6507163-f256-4969-b39a-42e4fe87e16e",
        "outputId": "234746df-418f-4853-b2b9-835426f4e9c1"
      },
      "outputs": [
        {
          "output_type": "execute_result",
          "data": {
            "text/plain": [
              "array([[0.36778313, 0.63230583],\n",
              "       [0.63352971, 0.53577468],\n",
              "       [0.09028977, 0.8353025 ],\n",
              "       [0.32078006, 0.18651851],\n",
              "       [0.04077514, 0.59089294],\n",
              "       [0.67756436, 0.01658783],\n",
              "       [0.51209306, 0.22649578],\n",
              "       [0.64517279, 0.17436643],\n",
              "       [0.69093774, 0.38673535],\n",
              "       [0.93672999, 0.13752094],\n",
              "       [0.34106635, 0.11347352],\n",
              "       [0.92469362, 0.87733935],\n",
              "       [0.25794163, 0.65998405],\n",
              "       [0.8172222 , 0.55520081],\n",
              "       [0.52965058, 0.24185229],\n",
              "       [0.09310277, 0.89721576],\n",
              "       [0.90041806, 0.63310146],\n",
              "       [0.33902979, 0.34920957],\n",
              "       [0.72595568, 0.89711026],\n",
              "       [0.88708642, 0.77987555]])"
            ]
          },
          "metadata": {},
          "execution_count": 11
        }
      ],
      "source": [
        "# Generate 20 data points with 2 dimensions\n",
        "X = np.random.rand(20,2)\n",
        "X"
      ]
    },
    {
      "cell_type": "code",
      "source": [
        "X.shape"
      ],
      "metadata": {
        "colab": {
          "base_uri": "https://localhost:8080/"
        },
        "id": "y7850mKRiRuv",
        "outputId": "7e5478b1-318c-47a8-e101-948355f54196"
      },
      "id": "y7850mKRiRuv",
      "execution_count": 12,
      "outputs": [
        {
          "output_type": "execute_result",
          "data": {
            "text/plain": [
              "(20, 2)"
            ]
          },
          "metadata": {},
          "execution_count": 12
        }
      ]
    },
    {
      "cell_type": "code",
      "source": [
        "Y = X.flatten()\n",
        "Y.shape"
      ],
      "metadata": {
        "colab": {
          "base_uri": "https://localhost:8080/"
        },
        "id": "sXYZHo-giUlv",
        "outputId": "42947f51-6b95-4740-e54d-60a0e68c6c9f"
      },
      "id": "sXYZHo-giUlv",
      "execution_count": 9,
      "outputs": [
        {
          "output_type": "execute_result",
          "data": {
            "text/plain": [
              "(40,)"
            ]
          },
          "metadata": {},
          "execution_count": 9
        }
      ]
    },
    {
      "cell_type": "code",
      "source": [
        "Y"
      ],
      "metadata": {
        "colab": {
          "base_uri": "https://localhost:8080/"
        },
        "id": "tLZ0_gEriieQ",
        "outputId": "5ba48d7b-46c0-4536-86b4-db92b55af330"
      },
      "id": "tLZ0_gEriieQ",
      "execution_count": 10,
      "outputs": [
        {
          "output_type": "execute_result",
          "data": {
            "text/plain": [
              "array([0.80744016, 0.8960913 , 0.31800347, 0.11005192, 0.22793516,\n",
              "       0.42710779, 0.81801477, 0.86073058, 0.00695213, 0.5107473 ,\n",
              "       0.417411  , 0.22210781, 0.11986537, 0.33761517, 0.9429097 ,\n",
              "       0.32320293, 0.51879062, 0.70301896, 0.3636296 , 0.97178208,\n",
              "       0.96244729, 0.2517823 , 0.49724851, 0.30087831, 0.28484049,\n",
              "       0.03688695, 0.60956433, 0.50267902, 0.05147875, 0.27864646,\n",
              "       0.90826589, 0.23956189, 0.14489487, 0.48945276, 0.98565045,\n",
              "       0.24205527, 0.67213555, 0.76161962, 0.23763754, 0.72821635])"
            ]
          },
          "metadata": {},
          "execution_count": 10
        }
      ]
    },
    {
      "cell_type": "code",
      "execution_count": 13,
      "id": "0d57be60-f38c-40ec-9a79-6abe351ff8e1",
      "metadata": {
        "height": 166,
        "colab": {
          "base_uri": "https://localhost:8080/",
          "height": 430
        },
        "id": "0d57be60-f38c-40ec-9a79-6abe351ff8e1",
        "outputId": "47cf1084-4521-4d29-e979-843750f7b7c3"
      },
      "outputs": [
        {
          "output_type": "display_data",
          "data": {
            "text/plain": [
              "<Figure size 640x480 with 1 Axes>"
            ],
            "image/png": "[encoded data removed]"
          },
          "metadata": {}
        }
      ],
      "source": [
        "# Display Embeddings\n",
        "n = range(len(X))\n",
        "\n",
        "fig, ax = plt.subplots()\n",
        "ax.scatter(X[:,0], X[:,1], label='Embeddings')\n",
        "ax.legend()\n",
        "\n",
        "for i, txt in enumerate(n):\n",
        "    ax.annotate(txt, (X[i,0], X[i,1]))"
      ]
    },
    {
      "cell_type": "code",
      "execution_count": 14,
      "id": "f7607bd1-41e2-4f8b-9c25-9deba45c1bc4",
      "metadata": {
        "height": 98,
        "colab": {
          "base_uri": "https://localhost:8080/",
          "height": 75
        },
        "id": "f7607bd1-41e2-4f8b-9c25-9deba45c1bc4",
        "outputId": "f6d11391-bbc2-4295-d7fa-1ff18b0f20a1"
      },
      "outputs": [
        {
          "output_type": "execute_result",
          "data": {
            "text/plain": [
              "NearestNeighbors(algorithm='brute', metric='euclidean', n_neighbors=4)"
            ],
            "text/html": [
              "<style>#sk-container-id-1 {color: black;background-color: white;}#sk-container-id-1 pre{padding: 0;}#sk-container-id-1 div.sk-toggleable {background-color: white;}#sk-container-id-1 label.sk-toggleable__label {cursor: pointer;display: block;width: 100%;margin-bottom: 0;padding: 0.3em;box-sizing: border-box;text-align: center;}#sk-container-id-1 label.sk-toggleable__label-arrow:before {content: \"▸\";float: left;margin-right: 0.25em;color: #696969;}#sk-container-id-1 label.sk-toggleable__label-arrow:hover:before {color: black;}#sk-container-id-1 div.sk-estimator:hover label.sk-toggleable__label-arrow:before {color: black;}#sk-container-id-1 div.sk-toggleable__content {max-height: 0;max-width: 0;overflow: hidden;text-align: left;background-color: #f0f8ff;}#sk-container-id-1 div.sk-toggleable__content pre {margin: 0.2em;color: black;border-radius: 0.25em;background-color: #f0f8ff;}#sk-container-id-1 input.sk-toggleable__control:checked~div.sk-toggleable__content {max-height: 200px;max-width: 100%;overflow: auto;}#sk-container-id-1 input.sk-toggleable__control:checked~label.sk-toggleable__label-arrow:before {content: \"▾\";}#sk-container-id-1 div.sk-estimator input.sk-toggleable__control:checked~label.sk-toggleable__label {background-color: #d4ebff;}#sk-container-id-1 div.sk-label input.sk-toggleable__control:checked~label.sk-toggleable__label {background-color: #d4ebff;}#sk-container-id-1 input.sk-hidden--visually {border: 0;clip: rect(1px 1px 1px 1px);clip: rect(1px, 1px, 1px, 1px);height: 1px;margin: -1px;overflow: hidden;padding: 0;position: absolute;width: 1px;}#sk-container-id-1 div.sk-estimator {font-family: monospace;background-color: #f0f8ff;border: 1px dotted black;border-radius: 0.25em;box-sizing: border-box;margin-bottom: 0.5em;}#sk-container-id-1 div.sk-estimator:hover {background-color: #d4ebff;}#sk-container-id-1 div.sk-parallel-item::after {content: \"\";width: 100%;border-bottom: 1px solid gray;flex-grow: 1;}#sk-container-id-1 div.sk-label:hover label.sk-toggleable__label {background-color: #d4ebff;}#sk-container-id-1 div.sk-serial::before {content: \"\";position: absolute;border-left: 1px solid gray;box-sizing: border-box;top: 0;bottom: 0;left: 50%;z-index: 0;}#sk-container-id-1 div.sk-serial {display: flex;flex-direction: column;align-items: center;background-color: white;padding-right: 0.2em;padding-left: 0.2em;position: relative;}#sk-container-id-1 div.sk-item {position: relative;z-index: 1;}#sk-container-id-1 div.sk-parallel {display: flex;align-items: stretch;justify-content: center;background-color: white;position: relative;}#sk-container-id-1 div.sk-item::before, #sk-container-id-1 div.sk-parallel-item::before {content: \"\";position: absolute;border-left: 1px solid gray;box-sizing: border-box;top: 0;bottom: 0;left: 50%;z-index: -1;}#sk-container-id-1 div.sk-parallel-item {display: flex;flex-direction: column;z-index: 1;position: relative;background-color: white;}#sk-container-id-1 div.sk-parallel-item:first-child::after {align-self: flex-end;width: 50%;}#sk-container-id-1 div.sk-parallel-item:last-child::after {align-self: flex-start;width: 50%;}#sk-container-id-1 div.sk-parallel-item:only-child::after {width: 0;}#sk-container-id-1 div.sk-dashed-wrapped {border: 1px dashed gray;margin: 0 0.4em 0.5em 0.4em;box-sizing: border-box;padding-bottom: 0.4em;background-color: white;}#sk-container-id-1 div.sk-label label {font-family: monospace;font-weight: bold;display: inline-block;line-height: 1.2em;}#sk-container-id-1 div.sk-label-container {text-align: center;}#sk-container-id-1 div.sk-container {/* jupyter's `normalize.less` sets `[hidden] { display: none; }` but bootstrap.min.css set `[hidden] { display: none !important; }` so we also need the `!important` here to be able to override the default hidden behavior on the sphinx rendered scikit-learn.org. See: https://github.com/scikit-learn/scikit-learn/issues/21755 */display: inline-block !important;position: relative;}#sk-container-id-1 div.sk-text-repr-fallback {display: none;}</style><div id=\"sk-container-id-1\" class=\"sk-top-container\"><div class=\"sk-text-repr-fallback\"><pre>NearestNeighbors(algorithm=&#x27;brute&#x27;, metric=&#x27;euclidean&#x27;, n_neighbors=4)</pre><b>In a Jupyter environment, please rerun this cell to show the HTML representation or trust the notebook. <br />On GitHub, the HTML representation is unable to render, please try loading this page with nbviewer.org.</b></div><div class=\"sk-container\" hidden><div class=\"sk-item\"><div class=\"sk-estimator sk-toggleable\"><input class=\"sk-toggleable__control sk-hidden--visually\" id=\"sk-estimator-id-1\" type=\"checkbox\" checked><label for=\"sk-estimator-id-1\" class=\"sk-toggleable__label sk-toggleable__label-arrow\">NearestNeighbors</label><div class=\"sk-toggleable__content\"><pre>NearestNeighbors(algorithm=&#x27;brute&#x27;, metric=&#x27;euclidean&#x27;, n_neighbors=4)</pre></div></div></div></div></div>"
            ]
          },
          "metadata": {},
          "execution_count": 14
        }
      ],
      "source": [
        "k = 4\n",
        "\n",
        "neigh = NearestNeighbors(n_neighbors=k, algorithm='brute', metric='euclidean')\n",
        "neigh.fit(X)"
      ]
    },
    {
      "cell_type": "code",
      "execution_count": 15,
      "id": "0dfb6e89-cfb6-4ef3-a5b9-b8ba65cfe7b1",
      "metadata": {
        "height": 183,
        "colab": {
          "base_uri": "https://localhost:8080/",
          "height": 430
        },
        "id": "0dfb6e89-cfb6-4ef3-a5b9-b8ba65cfe7b1",
        "outputId": "cece8485-ab0d-4b91-fbbf-f893d4172c89"
      },
      "outputs": [
        {
          "output_type": "display_data",
          "data": {
            "text/plain": [
              "<Figure size 640x480 with 1 Axes>"
            ],
            "image/png": "[encoded data removed]"
          },
          "metadata": {}
        }
      ],
      "source": [
        "# Display Query with data\n",
        "n = range(len(X))\n",
        "\n",
        "fig, ax = plt.subplots()\n",
        "ax.scatter(X[:,0], X[:,1])\n",
        "ax.scatter(0.45,0.2, c='red',label='Query')\n",
        "ax.legend()\n",
        "\n",
        "for i, txt in enumerate(n):\n",
        "    ax.annotate(txt, (X[i,0], X[i,1]))"
      ]
    },
    {
      "cell_type": "code",
      "execution_count": 16,
      "id": "cd20c13b-c830-47fc-9bde-824b81607ebc",
      "metadata": {
        "height": 64,
        "colab": {
          "base_uri": "https://localhost:8080/"
        },
        "id": "cd20c13b-c830-47fc-9bde-824b81607ebc",
        "outputId": "373f8127-eb6b-4766-9c85-886a418f29e5"
      },
      "outputs": [
        {
          "output_type": "stream",
          "name": "stdout",
          "text": [
            "(array([[0.06750981, 0.08997682, 0.12992129, 0.1391164 ]]), array([[ 6, 14,  3, 10]]))\n"
          ]
        }
      ],
      "source": [
        "neighbours = neigh.kneighbors([[0.45,0.2]], k, return_distance=True)\n",
        "print(neighbours)"
      ]
    },
    {
      "cell_type": "code",
      "execution_count": 17,
      "id": "31e7e76f-f26e-46a5-9778-8e1aa46e18b5",
      "metadata": {
        "height": 132,
        "colab": {
          "base_uri": "https://localhost:8080/"
        },
        "id": "31e7e76f-f26e-46a5-9778-8e1aa46e18b5",
        "outputId": "eb6ec409-7820-49ee-d6dc-d268ba35b74d"
      },
      "outputs": [
        {
          "output_type": "stream",
          "name": "stdout",
          "text": [
            "Runtime:  0.0020 seconds\n"
          ]
        }
      ],
      "source": [
        "t0 = time.time()\n",
        "neighbours = neigh.kneighbors([[0.45,0.2]], k, return_distance=True)\n",
        "t1 = time.time()\n",
        "\n",
        "query_time = t1-t0\n",
        "print(f\"Runtime: {query_time: .4f} seconds\")"
      ]
    },
    {
      "cell_type": "code",
      "execution_count": 18,
      "id": "b4827c91-797a-469d-9679-1dbba2e864d1",
      "metadata": {
        "height": 336,
        "id": "b4827c91-797a-469d-9679-1dbba2e864d1"
      },
      "outputs": [],
      "source": [
        "def speed_test(count):\n",
        "    # generate random objects\n",
        "    data = np.random.rand(count,2)\n",
        "\n",
        "    # prepare brute force index\n",
        "    k=4\n",
        "    neigh = NearestNeighbors(n_neighbors=k, algorithm='brute', metric='euclidean')\n",
        "    neigh.fit(data)\n",
        "\n",
        "    # measure time for a brute force query\n",
        "    t0 = time.time()\n",
        "    neighbours = neigh.kneighbors([[0.45,0.2]], k, return_distance=True)\n",
        "    t1 = time.time()\n",
        "\n",
        "    total_time = t1-t0\n",
        "    print (f\"Runtime: {total_time: .4f}\")\n",
        "\n",
        "    return total_time"
      ]
    },
    {
      "cell_type": "code",
      "execution_count": 19,
      "id": "cae5ed6a-9fb8-4fc3-85c6-b9eff573ad5a",
      "metadata": {
        "height": 30,
        "colab": {
          "base_uri": "https://localhost:8080/"
        },
        "id": "cae5ed6a-9fb8-4fc3-85c6-b9eff573ad5a",
        "outputId": "71a2f8da-b92b-4862-b716-d92dd9460a98"
      },
      "outputs": [
        {
          "output_type": "stream",
          "name": "stdout",
          "text": [
            "Runtime:  0.0027\n"
          ]
        }
      ],
      "source": [
        "time20k = speed_test(20_000)"
      ]
    },
    {
      "cell_type": "code",
      "execution_count": 20,
      "id": "1f114314-b875-40b0-be81-bae6b1762765",
      "metadata": {
        "height": 98,
        "colab": {
          "base_uri": "https://localhost:8080/"
        },
        "id": "1f114314-b875-40b0-be81-bae6b1762765",
        "outputId": "75cc4327-dd10-4da9-9c0a-f14c3a986b93"
      },
      "outputs": [
        {
          "output_type": "stream",
          "name": "stdout",
          "text": [
            "Runtime:  0.0072\n",
            "Runtime:  0.0344\n",
            "Runtime:  0.3737\n",
            "Runtime:  3.4867\n"
          ]
        }
      ],
      "source": [
        "# Brute force examples\n",
        "time200k = speed_test(200_000)\n",
        "time2m = speed_test(2_000_000)\n",
        "time20m = speed_test(20_000_000)\n",
        "time200m = speed_test(200_000_000)"
      ]
    },
    {
      "cell_type": "markdown",
      "id": "1760c511-c422-42dc-a41c-b125623a8619",
      "metadata": {
        "id": "1760c511-c422-42dc-a41c-b125623a8619"
      },
      "source": [
        "## Brute force kNN implemented by hand on `768` dimensional embeddings"
      ]
    },
    {
      "cell_type": "code",
      "execution_count": 21,
      "id": "d140b5d1-e110-4a42-9e3c-00beab03694d",
      "metadata": {
        "height": 166,
        "id": "d140b5d1-e110-4a42-9e3c-00beab03694d"
      },
      "outputs": [],
      "source": [
        "documents = 1000\n",
        "dimensions = 768\n",
        "\n",
        "embeddings = np.random.randn(documents, dimensions) # 1000 documents, 768-dimensional embeddings\n",
        "embeddings = embeddings / np.sqrt((embeddings**2).sum(1, keepdims=True)) # L2 normalize the rows, as is common\n",
        "\n",
        "query = np.random.randn(768) # the query vector\n",
        "query = query / np.sqrt((query**2).sum()) # normalize query"
      ]
    },
    {
      "cell_type": "code",
      "execution_count": 22,
      "id": "e8cfca36-3b4e-4103-bae1-98939b48c78c",
      "metadata": {
        "height": 268,
        "colab": {
          "base_uri": "https://localhost:8080/"
        },
        "id": "e8cfca36-3b4e-4103-bae1-98939b48c78c",
        "outputId": "037564d7-8d91-4c98-8bf1-45cbe9b0956b"
      },
      "outputs": [
        {
          "output_type": "stream",
          "name": "stdout",
          "text": [
            "Runtime for dim=768, documents_n=1000: 0.008 seconds\n",
            "Top 5 results:\n",
            "Point: 41, Similarity: 0.09255669806429376\n",
            "Point: 930, Similarity: 0.0912314364392932\n",
            "Point: 262, Similarity: 0.08984100454615689\n",
            "Point: 376, Similarity: 0.08517047613854783\n",
            "Point: 313, Similarity: 0.08361981061441696\n"
          ]
        }
      ],
      "source": [
        "# kNN\n",
        "t0 = time.time()\n",
        "# Calculate Dot Product between the query and all data items\n",
        "similarities = embeddings.dot(query)\n",
        "# Sort results\n",
        "sorted_ix = np.argsort(-similarities)\n",
        "t1 = time.time()\n",
        "\n",
        "total = t1-t0\n",
        "print(f\"Runtime for dim={dimensions}, documents_n={documents}: {np.round(total,3)} seconds\")\n",
        "\n",
        "print(\"Top 5 results:\")\n",
        "for k in sorted_ix[:5]:\n",
        "    print(f\"Point: {k}, Similarity: {similarities[k]}\")"
      ]
    },
    {
      "cell_type": "code",
      "execution_count": 23,
      "id": "51493604-ca06-4129-a026-007b6ecbb478",
      "metadata": {
        "height": 251,
        "colab": {
          "base_uri": "https://localhost:8080/"
        },
        "id": "51493604-ca06-4129-a026-007b6ecbb478",
        "outputId": "faff4f8c-36b3-46ff-e122-fa0dbc505a87"
      },
      "outputs": [
        {
          "output_type": "stream",
          "name": "stdout",
          "text": [
            "Runtime for 1 query with dim=768, documents_n=1000: 0.001 seconds\n",
            "Runtime for 1 query with dim=768, documents_n=10000: 0.006 seconds\n",
            "Runtime for 1 query with dim=768, documents_n=100000: 0.053 seconds\n",
            "Runtime for 1 query with dim=768, documents_n=500000: 0.276 seconds\n"
          ]
        }
      ],
      "source": [
        "n_runs = [1_000, 10_000, 100_000, 500_000]\n",
        "\n",
        "for n in n_runs:\n",
        "    embeddings = np.random.randn(n, dimensions) #768-dimensional embeddings\n",
        "    query = np.random.randn(768) # the query vector\n",
        "\n",
        "    t0 = time.time()\n",
        "    similarities = embeddings.dot(query)\n",
        "    sorted_ix = np.argsort(-similarities)\n",
        "    t1 = time.time()\n",
        "\n",
        "    total = t1-t0\n",
        "    print(f\"Runtime for 1 query with dim={dimensions}, documents_n={n}: {np.round(total,3)} seconds\")"
      ]
    },
    {
      "cell_type": "code",
      "execution_count": 24,
      "id": "9748863e-5640-42c4-8223-3d0897867c58",
      "metadata": {
        "height": 47,
        "colab": {
          "base_uri": "https://localhost:8080/"
        },
        "id": "9748863e-5640-42c4-8223-3d0897867c58",
        "outputId": "6117028f-c4e2-482f-e0d3-25207c75190d"
      },
      "outputs": [
        {
          "output_type": "stream",
          "name": "stdout",
          "text": [
            "To run 1,000 queries:  4.59 minutes\n"
          ]
        }
      ],
      "source": [
        "print (f\"To run 1,000 queries: {total * 1_000/60 : .2f} minutes\")"
      ]
    }
  ],
  "metadata": {
    "kernelspec": {
      "display_name": "Python 3",
      "name": "python3"
    },
    "language_info": {
      "codemirror_mode": {
        "name": "ipython",
        "version": 3
      },
      "file_extension": ".py",
      "mimetype": "text/x-python",
      "name": "python",
      "nbconvert_exporter": "python",
      "pygments_lexer": "ipython3",
      "version": "3.9.18"
    },
    "colab": {
      "provenance": [],
      "gpuType": "T4",
      "include_colab_link": true
    },
    "accelerator": "GPU"
  },
  "nbformat": 4,
  "nbformat_minor": 5
}