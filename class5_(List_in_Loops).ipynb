{
  "cells": [
    {
      "cell_type": "markdown",
      "metadata": {
        "id": "view-in-github",
        "colab_type": "text"
      },
      "source": [
        "<a href=\"https://colab.research.google.com/github/Nazneen-akram/modern_python_3.12/blob/main/class5_(List_in_Loops).ipynb\" target=\"_parent\"><img src=\"https://colab.research.google.com/assets/colab-badge.svg\" alt=\"Open In Colab\"/></a>"
      ]
    },
    {
      "cell_type": "markdown",
      "id": "f7caeae0-3232-49b7-9902-33b7912827dc",
      "metadata": {
        "id": "f7caeae0-3232-49b7-9902-33b7912827dc"
      },
      "source": [
        "# List\n",
        "* iteration operation with loop\n",
        "* apply any operation on element"
      ]
    },
    {
      "cell_type": "code",
      "execution_count": 1,
      "id": "a6ea945f-2115-4dea-b15e-b5915143fb4c",
      "metadata": {
        "colab": {
          "base_uri": "https://localhost:8080/"
        },
        "id": "a6ea945f-2115-4dea-b15e-b5915143fb4c",
        "outputId": "a4de117e-d76f-4da3-ee20-6f720d1a7be0"
      },
      "outputs": [
        {
          "output_type": "stream",
          "name": "stdout",
          "text": [
            "['Lahore', 'Karachi', 'Islamabad', 'Peshawar']\n"
          ]
        }
      ],
      "source": [
        "cities : list[str] = [\"Lahore\",\"Karachi\",\"Islamabad\",\"Peshawar\"]\n",
        "print(cities)"
      ]
    },
    {
      "cell_type": "code",
      "execution_count": 5,
      "id": "b0d1fdda-e86a-4946-9e42-8c8f8b028522",
      "metadata": {
        "colab": {
          "base_uri": "https://localhost:8080/"
        },
        "id": "b0d1fdda-e86a-4946-9e42-8c8f8b028522",
        "outputId": "81798078-9071-4243-bd18-70b4b7e2c712"
      },
      "outputs": [
        {
          "output_type": "stream",
          "name": "stdout",
          "text": [
            "Lahore\n",
            "Karachi\n",
            "Islamabad\n",
            "Peshawar\n"
          ]
        }
      ],
      "source": [
        "cities : list[str] = [\"Lahore\",\"Karachi\",\"Islamabad\",\"Peshawar\"]\n",
        "\n",
        "for city_name in cities:\n",
        "    print(city_name)\n",
        "\n"
      ]
    },
    {
      "cell_type": "markdown",
      "id": "1b89aff4-46fb-404b-983e-bd5be1c66f3d",
      "metadata": {
        "id": "1b89aff4-46fb-404b-983e-bd5be1c66f3d"
      },
      "source": [
        "```\n",
        "names = names = ['Sir Zia', \"Muhammad Qasim\", \"DR Noman\"]\n",
        "\n",
        "for(i=0; i<names.length; i++){\n",
        "    names[i]\n",
        "}\n",
        "\n",
        "```"
      ]
    },
    {
      "cell_type": "code",
      "execution_count": null,
      "id": "822733b5-08c9-44e3-92bf-9c953c613c78",
      "metadata": {
        "id": "822733b5-08c9-44e3-92bf-9c953c613c78",
        "outputId": "4d50bca1-1fa0-4bfb-8415-630095af3c69"
      },
      "outputs": [
        {
          "name": "stdout",
          "output_type": "stream",
          "text": [
            "Sir Zia\n",
            "Muhammad Qasim\n",
            "DR Noman\n"
          ]
        }
      ],
      "source": [
        "names = ['Sir Zia', \"Muhammad Qasim\", \"DR Noman\"]\n",
        "\n",
        "i:int = 0 # counter = 0\n",
        "\n",
        "while i<len(names): # names length =3\n",
        "    print(names[i])\n",
        "    i += 1\n",
        "\n"
      ]
    },
    {
      "cell_type": "code",
      "execution_count": null,
      "id": "82285b0b-62f2-4233-a56a-560fb42c1a4f",
      "metadata": {
        "id": "82285b0b-62f2-4233-a56a-560fb42c1a4f",
        "outputId": "212d51cf-58d9-438a-f053-47d88812dbae"
      },
      "outputs": [
        {
          "name": "stdout",
          "output_type": "stream",
          "text": [
            "Sir Zia\n",
            "Muhammad Qasim\n",
            "DR Noman\n"
          ]
        }
      ],
      "source": [
        "names:list[str] = ['Sir Zia', \"Muhammad Qasim\", \"DR Noman\"]\n",
        "\n",
        "for name in names:\n",
        "    print(name)\n"
      ]
    },
    {
      "cell_type": "code",
      "execution_count": null,
      "id": "f7b8fbbc-2662-4700-8de6-d64d2ca53044",
      "metadata": {
        "id": "f7b8fbbc-2662-4700-8de6-d64d2ca53044",
        "outputId": "a917900d-8320-40b2-84c9-caccbf4d0b7e"
      },
      "outputs": [
        {
          "name": "stdout",
          "output_type": "stream",
          "text": [
            "Welcome Dear Tacher Sir Zia\n",
            "Welcome Dear Tacher Muhammad Qasim\n",
            "Welcome Dear Tacher Dr Noman\n"
          ]
        }
      ],
      "source": [
        "for name in names:\n",
        "    print(f'Welcome Dear Tacher {name.title()}')"
      ]
    },
    {
      "cell_type": "code",
      "execution_count": null,
      "id": "9c24c9df-e49a-4ab1-95ff-5d4fdb0ba86b",
      "metadata": {
        "id": "9c24c9df-e49a-4ab1-95ff-5d4fdb0ba86b",
        "outputId": "34b98b03-6a83-47fb-e65c-3a7256ae3f08"
      },
      "outputs": [
        {
          "name": "stdout",
          "output_type": "stream",
          "text": [
            "Welcome Dear Tacher Sir Zia\n",
            "PIAIC Gen AI Team\n",
            "\n",
            "Welcome Dear Tacher Muhammad Qasim\n",
            "PIAIC Gen AI Team\n",
            "\n",
            "Welcome Dear Tacher Dr Noman\n",
            "PIAIC Gen AI Team\n",
            "\n"
          ]
        }
      ],
      "source": [
        "names:list[str] = ['Sir Zia', \"Muhammad Qasim\", \"DR Noman\"]\n",
        "\n",
        "for name in names:\n",
        "    print(f'Welcome Dear Tacher {name.title()}')\n",
        "    print(\"PIAIC Gen AI Team\\n\")"
      ]
    },
    {
      "cell_type": "code",
      "execution_count": null,
      "id": "6796dd6e-5729-45fe-b0e1-af8303b1817e",
      "metadata": {
        "id": "6796dd6e-5729-45fe-b0e1-af8303b1817e",
        "outputId": "93ff6e43-2ac5-4576-bf4c-50c7a25e7dfa"
      },
      "outputs": [
        {
          "name": "stdout",
          "output_type": "stream",
          "text": [
            "Welcome Dear Tacher Sir Zia\n",
            "PIAIC Gen AI Team\n",
            "\n",
            "Welcome Dear Tacher Muhammad Qasim\n",
            "PIAIC Gen AI Team\n",
            "\n",
            "Welcome Dear Tacher Dr Noman\n",
            "PIAIC Gen AI Team\n",
            "\n",
            "Pakistan zinda bad\n"
          ]
        }
      ],
      "source": [
        "names:list[str] = ['Sir Zia', \"Muhammad Qasim\", \"DR Noman\"]\n",
        "\n",
        "for name in names:\n",
        "    print(f'Welcome Dear Tacher {name.title()}')\n",
        "    print(\"PIAIC Gen AI Team\\n\")\n",
        "\n",
        "print(\"Pakistan zinda bad\")"
      ]
    },
    {
      "cell_type": "code",
      "execution_count": null,
      "id": "7f08106e-c764-4970-a89d-9c494b7eddf8",
      "metadata": {
        "id": "7f08106e-c764-4970-a89d-9c494b7eddf8",
        "outputId": "dee45b79-d28e-4e68-e1db-f6e417a76116"
      },
      "outputs": [
        {
          "name": "stdout",
          "output_type": "stream",
          "text": [
            "Welcome Dear Tacher Muhammad Qasim\n",
            "PIAIC Gen AI Team\n",
            "\n",
            "Welcome Dear Tacher Dr Noman\n",
            "PIAIC Gen AI Team\n",
            "\n",
            "Pakistan zinda bad\n"
          ]
        }
      ],
      "source": [
        "names:list[str] = ['Sir Zia', \"Muhammad Qasim\", \"DR Noman\"]\n",
        "\n",
        "for name in names[-2:]:\n",
        "    print(f'Welcome Dear Tacher {name.title()}')\n",
        "    print(\"PIAIC Gen AI Team\\n\")\n",
        "\n",
        "print(\"Pakistan zinda bad\")"
      ]
    },
    {
      "cell_type": "code",
      "execution_count": null,
      "id": "0944a263-2b75-493a-8371-65c5e02d9a5e",
      "metadata": {
        "id": "0944a263-2b75-493a-8371-65c5e02d9a5e",
        "outputId": "cca40dfc-48fc-4628-a8a8-12f69144f439"
      },
      "outputs": [
        {
          "name": "stdout",
          "output_type": "stream",
          "text": [
            "Welcome Dear Tacher DR NOMAN\n",
            "PIAIC Gen AI Team\n",
            "\n",
            "Welcome Dear Tacher MUHAMMAD QASIM\n",
            "PIAIC Gen AI Team\n",
            "\n",
            "Welcome Dear Tacher SIR ZIA\n",
            "PIAIC Gen AI Team\n",
            "\n",
            "Pakistan zinda bad\n",
            "\n"
          ]
        }
      ],
      "source": [
        "names:list[str] = ['Sir Zia', \"Muhammad Qasim\", \"DR Noman\"]\n",
        "\n",
        "for name in names[::-1]:\n",
        "    print(f'Welcome Dear Tacher {name.upper()}')\n",
        "    print(\"PIAIC Gen AI Team\\n\")\n",
        "print(\"Pakistan zinda bad\\n\")"
      ]
    },
    {
      "cell_type": "code",
      "execution_count": null,
      "id": "a7a0a98e-c0e0-4c86-91a9-5304005a2cc0",
      "metadata": {
        "id": "a7a0a98e-c0e0-4c86-91a9-5304005a2cc0",
        "outputId": "a76a60c8-4557-4f6d-e5e1-6aebd2b2d224"
      },
      "outputs": [
        {
          "name": "stdout",
          "output_type": "stream",
          "text": [
            "('qasim', '123')\n",
            "('sirzia', '345')\n",
            "('ikhlas', '789')\n"
          ]
        }
      ],
      "source": [
        "data_base : list[tuple[str,str]] = [(\"qasim\",'123'),\n",
        "                                    (\"sirzia\",'345'),\n",
        "                                    ('ikhlas','789')\n",
        "                                    ]\n",
        "\n",
        "for row in data_base:\n",
        "    print(row)"
      ]
    },
    {
      "cell_type": "code",
      "execution_count": null,
      "id": "06b347c5-67ac-4b21-a2f1-c0ea44d246b0",
      "metadata": {
        "id": "06b347c5-67ac-4b21-a2f1-c0ea44d246b0",
        "outputId": "0b508e4b-0d3c-4c7e-cd47-e4297192d68e"
      },
      "outputs": [
        {
          "name": "stdout",
          "output_type": "stream",
          "text": [
            "qasim 123\n",
            "sirzia 345\n",
            "ikhlas 789\n"
          ]
        }
      ],
      "source": [
        "data_base : list[tuple[str,str]] = [(\"qasim\",'123'),\n",
        "                                    (\"sirzia\",'345'),\n",
        "                                    ('ikhlas','789')\n",
        "                                    ]\n",
        "\n",
        "for row in data_base:\n",
        "    user, password = row\n",
        "    print(user, password)"
      ]
    },
    {
      "cell_type": "code",
      "execution_count": null,
      "id": "9a23924f-9076-4e79-9095-e8585af969ee",
      "metadata": {
        "id": "9a23924f-9076-4e79-9095-e8585af969ee",
        "outputId": "b123fcfd-d8cc-4733-ab22-0a6c22923bba"
      },
      "outputs": [
        {
          "name": "stdin",
          "output_type": "stream",
          "text": [
            "Enter user name Muhammad Qasim Pakistan zinda bad\n"
          ]
        },
        {
          "name": "stdout",
          "output_type": "stream",
          "text": [
            "Muhammad Qasim Pakistan zinda bad\n"
          ]
        }
      ],
      "source": [
        "input_user : str = input(\"Enter user name\")\n",
        "print(input_user)"
      ]
    },
    {
      "cell_type": "code",
      "execution_count": null,
      "id": "2b5a86f4-7eb6-4ee6-8687-21310b6cae5d",
      "metadata": {
        "id": "2b5a86f4-7eb6-4ee6-8687-21310b6cae5d",
        "outputId": "c73d7082-3d32-4f4d-ed26-e51873625360"
      },
      "outputs": [
        {
          "name": "stdin",
          "output_type": "stream",
          "text": [
            "Enter user name qasim\n",
            "Enter user password 123\n"
          ]
        },
        {
          "name": "stdout",
          "output_type": "stream",
          "text": [
            "Valid User qasim\n"
          ]
        }
      ],
      "source": [
        "data_base : list[tuple[str,str]] = [(\"qasim\",'123'),\n",
        "                                    (\"sirzia\",'345'),\n",
        "                                    ('ikhlas','789')\n",
        "                                    ]\n",
        "input_user : str = input(\"Enter user name\")\n",
        "input_password : str = input(\"Enter user password\")\n",
        "\n",
        "\n",
        "\n",
        "for row in data_base:\n",
        "    user, password = row\n",
        "    if input_user == user and input_password == password:\n",
        "        print(f\"Valid User {user}\")\n",
        "        break\n",
        "else:\n",
        "    print(\"Not found or Invalid user name\")\n",
        ""
      ]
    },
    {
      "cell_type": "code",
      "execution_count": null,
      "id": "1157b366-5191-4daf-9c28-df9fa93ef758",
      "metadata": {
        "id": "1157b366-5191-4daf-9c28-df9fa93ef758",
        "outputId": "92f49df6-b8b5-4a39-8542-e617dc76f24b"
      },
      "outputs": [
        {
          "name": "stdin",
          "output_type": "stream",
          "text": [
            "Enter user name asif\n",
            "Enter user password 122\n"
          ]
        },
        {
          "name": "stdout",
          "output_type": "stream",
          "text": [
            "Not found or Invalid user name\n"
          ]
        }
      ],
      "source": [
        "data_base : list[tuple[str,str]] = [(\"qasim\",'123'),\n",
        "                                    (\"sirzia\",'345'),\n",
        "                                    ('ikhlas','789')\n",
        "                                    ]\n",
        "input_user : str = input(\"Enter user name\")\n",
        "input_password : str = input(\"Enter user password\")\n",
        "\n",
        "\n",
        "\n",
        "for row in data_base:\n",
        "    user, password = row # (\"qasim\",'123')\n",
        "    if input_user == user and input_password == password:\n",
        "        print(\"Valid User\")\n",
        "        break\n",
        "else:\n",
        "    print(\"Not found or Invalid user name\")\n",
        ""
      ]
    },
    {
      "cell_type": "code",
      "execution_count": null,
      "id": "c3928efe-127b-46af-9f6a-129f88c42107",
      "metadata": {
        "id": "c3928efe-127b-46af-9f6a-129f88c42107",
        "outputId": "cfa18e46-3aaa-47e1-a9e7-55a4db918f53"
      },
      "outputs": [
        {
          "name": "stdin",
          "output_type": "stream",
          "text": [
            "Enter user name sirzia\n",
            "Enter user password 345\n"
          ]
        },
        {
          "name": "stdout",
          "output_type": "stream",
          "text": [
            "Valid User\n"
          ]
        }
      ],
      "source": [
        "data_base : list[tuple[str,str]] = [(\"qasim\",'123'),\n",
        "                                    (\"sirzia\",'345'),\n",
        "                                    ('ikhlas','789')\n",
        "                                    ]\n",
        "input_user : str = input(\"Enter user name\")\n",
        "input_password : str = input(\"Enter user password\")\n",
        "\n",
        "# user , password = (\"qasim\",'123')\n",
        "# user = name[0]\n",
        "# password = name[1]\n",
        "\n",
        "for row in data_base:\n",
        "    user, password = row  # (\"qasim\",'123')\n",
        "    if input_user == user and input_password == password:\n",
        "        print(\"Valid User\")\n",
        "        break\n",
        "else:\n",
        "    print(\"Not found or Invalid user name\")\n",
        ""
      ]
    },
    {
      "cell_type": "code",
      "execution_count": null,
      "id": "20b15c67-cc62-49a2-9d0c-f8e4e9bf62da",
      "metadata": {
        "id": "20b15c67-cc62-49a2-9d0c-f8e4e9bf62da",
        "outputId": "31a3c678-29a7-4bc0-9765-fe73511813bd"
      },
      "outputs": [
        {
          "name": "stdout",
          "output_type": "stream",
          "text": [
            "Sir Zia\n",
            "Muhammad Qasim\n",
            "DR Noman\n",
            "Hello world\n"
          ]
        }
      ],
      "source": [
        "names:list[str] = ['Sir Zia', \"Muhammad Qasim\", \"DR Noman\"]\n",
        "\n",
        "for name in names:\n",
        "    print(name)\n",
        "else:\n",
        "    print(\"Hello world\")\n",
        ""
      ]
    },
    {
      "cell_type": "code",
      "execution_count": null,
      "id": "80cca4d5-a906-4a61-be7b-3a96e5b2f458",
      "metadata": {
        "id": "80cca4d5-a906-4a61-be7b-3a96e5b2f458",
        "outputId": "6a40e7c1-ccfb-46fd-e835-c32071ee4409"
      },
      "outputs": [
        {
          "name": "stdout",
          "output_type": "stream",
          "text": [
            "Sir Zia\n"
          ]
        }
      ],
      "source": [
        "names:list[str] = ['Sir Zia', \"Muhammad Qasim\", \"DR Noman\"]\n",
        "\n",
        "for name in names:\n",
        "    print(name)\n",
        "    break\n",
        "else:\n",
        "    print(\"Hello world\")\n",
        ""
      ]
    },
    {
      "cell_type": "code",
      "execution_count": null,
      "id": "88326702-d5a4-4cc8-b27b-dd4a9153af35",
      "metadata": {
        "id": "88326702-d5a4-4cc8-b27b-dd4a9153af35",
        "outputId": "ae3f5939-e1a8-405e-9b04-88c0237344f0"
      },
      "outputs": [
        {
          "name": "stdout",
          "output_type": "stream",
          "text": [
            "Sir Zia\n",
            "Muhammad Qasim\n",
            "DR Noman\n",
            "Hello world\n"
          ]
        }
      ],
      "source": [
        "names:list[str] = ['Sir Zia', \"Muhammad Qasim\", \"DR Noman\"]\n",
        "\n",
        "for name in names:\n",
        "    print(name)\n",
        "print(\"Hello world\")\n",
        ""
      ]
    },
    {
      "cell_type": "code",
      "execution_count": null,
      "id": "40087d3f-89e0-4a68-9360-2b4c7c85391b",
      "metadata": {
        "id": "40087d3f-89e0-4a68-9360-2b4c7c85391b",
        "outputId": "7e081811-88a0-4974-93ec-b8c601705822"
      },
      "outputs": [
        {
          "name": "stdout",
          "output_type": "stream",
          "text": [
            "Sir Zia\n",
            "Hello world\n"
          ]
        }
      ],
      "source": [
        "names:list[str] = ['Sir Zia', \"Muhammad Qasim\", \"DR Noman\"]\n",
        "\n",
        "for name in names:\n",
        "    print(name)\n",
        "    break\n",
        "\n",
        "print(\"Hello world\")\n",
        ""
      ]
    },
    {
      "cell_type": "code",
      "execution_count": null,
      "id": "cc5214ff-69f8-4e1d-b6a4-24bb8741b5ba",
      "metadata": {
        "id": "cc5214ff-69f8-4e1d-b6a4-24bb8741b5ba",
        "outputId": "ed391837-9c8b-476a-d704-a9df5bcb1a01"
      },
      "outputs": [
        {
          "ename": "IndentationError",
          "evalue": "expected an indented block after 'for' statement on line 3 (2614519669.py, line 4)",
          "output_type": "error",
          "traceback": [
            "\u001b[0;36m  Cell \u001b[0;32mIn[35], line 4\u001b[0;36m\u001b[0m\n\u001b[0;31m    print(name)\u001b[0m\n\u001b[0m    ^\u001b[0m\n\u001b[0;31mIndentationError\u001b[0m\u001b[0;31m:\u001b[0m expected an indented block after 'for' statement on line 3\n"
          ]
        }
      ],
      "source": [
        "names:list[str] = ['Sir Zia', \"Muhammad Qasim\", \"DR Noman\"]\n",
        "\n",
        "for name in names:\n",
        "print(name)"
      ]
    },
    {
      "cell_type": "code",
      "execution_count": null,
      "id": "475c267f-a5de-45d5-b222-35f648344cc2",
      "metadata": {
        "id": "475c267f-a5de-45d5-b222-35f648344cc2",
        "outputId": "ce91cc26-d180-4d05-ac5e-d5ca3ebf5bf8"
      },
      "outputs": [
        {
          "ename": "SyntaxError",
          "evalue": "expected ':' (1472454235.py, line 3)",
          "output_type": "error",
          "traceback": [
            "\u001b[0;36m  Cell \u001b[0;32mIn[36], line 3\u001b[0;36m\u001b[0m\n\u001b[0;31m    for name in names\u001b[0m\n\u001b[0m                     ^\u001b[0m\n\u001b[0;31mSyntaxError\u001b[0m\u001b[0;31m:\u001b[0m expected ':'\n"
          ]
        }
      ],
      "source": [
        "names:list[str] = ['Sir Zia', \"Muhammad Qasim\", \"DR Noman\"]\n",
        "\n",
        "for name in names\n",
        "    print(name)"
      ]
    },
    {
      "cell_type": "code",
      "execution_count": null,
      "id": "ecc96975-6896-4a8c-b3fa-fdfbf1cb8468",
      "metadata": {
        "id": "ecc96975-6896-4a8c-b3fa-fdfbf1cb8468",
        "outputId": "5c30edf6-3db0-4fcb-e4e0-8aad36f819c7"
      },
      "outputs": [
        {
          "name": "stdout",
          "output_type": "stream",
          "text": [
            "Alice, that was a great trick!\n",
            "David, that was a great trick!\n",
            "Carolina, that was a great trick!\n",
            "I can't wait to see your next trick, Carolina.\n",
            "\n"
          ]
        }
      ],
      "source": [
        "magicians: list[str] = ['alice', 'david', 'carolina']\n",
        "for magician in magicians:\n",
        "    print(f\"{magician.title()}, that was a great trick!\")\n",
        "\n",
        "\n",
        "print(f\"I can't wait to see your next trick, {magician.title()}.\\n\")"
      ]
    },
    {
      "cell_type": "code",
      "execution_count": null,
      "id": "57650a9b-a8d7-46c8-8255-e9a5053473e2",
      "metadata": {
        "id": "57650a9b-a8d7-46c8-8255-e9a5053473e2",
        "outputId": "34e9c78e-20c7-4ad1-9a0e-39bfe82f6cbe"
      },
      "outputs": [
        {
          "ename": "IndentationError",
          "evalue": "unexpected indent (1223476688.py, line 2)",
          "output_type": "error",
          "traceback": [
            "\u001b[0;36m  Cell \u001b[0;32mIn[41], line 2\u001b[0;36m\u001b[0m\n\u001b[0;31m    print(message)\u001b[0m\n\u001b[0m    ^\u001b[0m\n\u001b[0;31mIndentationError\u001b[0m\u001b[0;31m:\u001b[0m unexpected indent\n"
          ]
        }
      ],
      "source": [
        "message = \"Hello Python world!\"\n",
        "    print(message)"
      ]
    },
    {
      "cell_type": "code",
      "execution_count": null,
      "id": "e274865d-4bd1-468e-8e66-8181661c83bf",
      "metadata": {
        "id": "e274865d-4bd1-468e-8e66-8181661c83bf",
        "outputId": "fa811a5d-3b52-443a-84f1-6a5659253309"
      },
      "outputs": [
        {
          "ename": "IndentationError",
          "evalue": "unexpected indent (1223476688.py, line 2)",
          "output_type": "error",
          "traceback": [
            "\u001b[0;36m  Cell \u001b[0;32mIn[42], line 2\u001b[0;36m\u001b[0m\n\u001b[0;31m    print(message)\u001b[0m\n\u001b[0m    ^\u001b[0m\n\u001b[0;31mIndentationError\u001b[0m\u001b[0;31m:\u001b[0m unexpected indent\n"
          ]
        }
      ],
      "source": [
        "message = \"Hello Python world!\"\n",
        " print(message)"
      ]
    },
    {
      "cell_type": "code",
      "execution_count": null,
      "id": "e7be2d1a-52ab-42a0-b846-41a5158804b2",
      "metadata": {
        "id": "e7be2d1a-52ab-42a0-b846-41a5158804b2",
        "outputId": "85439c7e-a6a4-4f97-f9a5-e88bf7749910"
      },
      "outputs": [
        {
          "name": "stdout",
          "output_type": "stream",
          "text": [
            "Alice, that was a great trick!\n",
            "I can't wait to see your next trick, Alice.\n",
            "\n",
            "David, that was a great trick!\n",
            "I can't wait to see your next trick, David.\n",
            "\n",
            "Carolina, that was a great trick!\n",
            "I can't wait to see your next trick, Carolina.\n",
            "\n",
            "Thank you everyone, that was a great magic show!\n"
          ]
        }
      ],
      "source": [
        "magicians = ['alice', 'david', 'carolina']\n",
        "for magician in magicians:\n",
        "    print(f\"{magician.title()}, that was a great trick!\")\n",
        "    print(f\"I can't wait to see your next trick, {magician.title()}.\\n\")\n",
        "\n",
        "print(\"Thank you everyone, that was a great magic show!\")# last message for everyone"
      ]
    },
    {
      "cell_type": "code",
      "execution_count": null,
      "id": "c1767cba-1913-4deb-ba70-af28e388038f",
      "metadata": {
        "id": "c1767cba-1913-4deb-ba70-af28e388038f",
        "outputId": "4717a217-cced-45c9-b67c-e84380cfda1d"
      },
      "outputs": [
        {
          "data": {
            "text/plain": [
              "[(0, 'alice'), (1, 'david'), (2, 'carolina')]"
            ]
          },
          "execution_count": 52,
          "metadata": {},
          "output_type": "execute_result"
        }
      ],
      "source": [
        "#              0        1         2\n",
        "magicians = ['alice', 'david', 'carolina']\n",
        "\n",
        "list(enumerate(magicians))"
      ]
    },
    {
      "cell_type": "code",
      "execution_count": null,
      "id": "fe5eb757-d196-4a69-8859-f7a132d4054c",
      "metadata": {
        "id": "fe5eb757-d196-4a69-8859-f7a132d4054c",
        "outputId": "91ac0b24-839b-4d10-9711-2b365640577e"
      },
      "outputs": [
        {
          "name": "stdout",
          "output_type": "stream",
          "text": [
            "0 alice\n",
            "1 david\n",
            "2 carolina\n"
          ]
        }
      ],
      "source": [
        "#              0        1         2\n",
        "magicians = ['alice', 'david', 'carolina']\n",
        "\n",
        "for index, name in enumerate(magicians):\n",
        "    print(index, name)"
      ]
    },
    {
      "cell_type": "markdown",
      "id": "8f727474-ad5f-4bf9-9902-1f58ea93468b",
      "metadata": {
        "id": "8f727474-ad5f-4bf9-9902-1f58ea93468b"
      },
      "source": [
        "# Numbers with loop\n",
        "* `range(start,end,step)`"
      ]
    },
    {
      "cell_type": "code",
      "execution_count": null,
      "id": "99f3c492-6a0d-4c02-899c-1d8bd48362bb",
      "metadata": {
        "id": "99f3c492-6a0d-4c02-899c-1d8bd48362bb",
        "outputId": "63e1637b-a3a0-4180-d3b5-87c56268c0f2"
      },
      "outputs": [
        {
          "data": {
            "text/plain": [
              "range(0, 10)"
            ]
          },
          "execution_count": 46,
          "metadata": {},
          "output_type": "execute_result"
        }
      ],
      "source": [
        "range(10)"
      ]
    },
    {
      "cell_type": "code",
      "execution_count": null,
      "id": "5c8cefef-5a2c-4590-a600-fffe91d45961",
      "metadata": {
        "id": "5c8cefef-5a2c-4590-a600-fffe91d45961",
        "outputId": "58538c09-ff94-45e7-cf94-e6bd10e78b92"
      },
      "outputs": [
        {
          "data": {
            "text/plain": [
              "[0, 1, 2, 3, 4, 5, 6, 7, 8, 9]"
            ]
          },
          "execution_count": 47,
          "metadata": {},
          "output_type": "execute_result"
        }
      ],
      "source": [
        "list(range(10))# starting=0, ending = n-1"
      ]
    },
    {
      "cell_type": "code",
      "execution_count": null,
      "id": "ef525384-6d31-4a3a-b3e4-ef2c12680088",
      "metadata": {
        "id": "ef525384-6d31-4a3a-b3e4-ef2c12680088",
        "outputId": "af6457a6-6927-4ef8-ad21-d247c53a9d44"
      },
      "outputs": [
        {
          "data": {
            "text/plain": [
              "[2, 3, 4, 5, 6, 7, 8, 9]"
            ]
          },
          "execution_count": 48,
          "metadata": {},
          "output_type": "execute_result"
        }
      ],
      "source": [
        "list(range(2,10))# starting=0, ending = n-1"
      ]
    },
    {
      "cell_type": "code",
      "execution_count": null,
      "id": "3644ae82-1a1b-41ab-93bd-2fd37422378b",
      "metadata": {
        "id": "3644ae82-1a1b-41ab-93bd-2fd37422378b",
        "outputId": "c0a48ac8-b170-46c3-b5a4-4c0379441b13"
      },
      "outputs": [
        {
          "data": {
            "text/plain": [
              "[2, 4, 6, 8, 10, 12, 14, 16, 18, 20]"
            ]
          },
          "execution_count": 49,
          "metadata": {},
          "output_type": "execute_result"
        }
      ],
      "source": [
        "list(range(2,21,2))# starting=0, ending = n-1 21-1=20, step"
      ]
    },
    {
      "cell_type": "code",
      "execution_count": null,
      "id": "243279c4-d86f-4c19-843b-921187597945",
      "metadata": {
        "id": "243279c4-d86f-4c19-843b-921187597945",
        "outputId": "a94eef7c-6413-4947-b00b-7317beb44a2d"
      },
      "outputs": [
        {
          "name": "stdout",
          "output_type": "stream",
          "text": [
            "1\n",
            "2\n",
            "3\n",
            "4\n",
            "5\n",
            "6\n",
            "7\n",
            "8\n",
            "9\n",
            "10\n"
          ]
        }
      ],
      "source": [
        "for n in range(1,11):\n",
        "    print(n)"
      ]
    },
    {
      "cell_type": "code",
      "execution_count": null,
      "id": "c4826b50-f100-4836-abeb-139ec15f0b47",
      "metadata": {
        "id": "c4826b50-f100-4836-abeb-139ec15f0b47",
        "outputId": "a721225e-24d9-435f-c62d-eb6b2d82ec4a"
      },
      "outputs": [
        {
          "name": "stdout",
          "output_type": "stream",
          "text": [
            "2 X 1 = 2\n",
            "2 X 2 = 4\n",
            "2 X 3 = 6\n",
            "2 X 4 = 8\n",
            "2 X 5 = 10\n",
            "2 X 6 = 12\n",
            "2 X 7 = 14\n",
            "2 X 8 = 16\n",
            "2 X 9 = 18\n",
            "2 X 10 = 20\n"
          ]
        }
      ],
      "source": [
        "for n in range(1,11):\n",
        "    print(f\"{2} X {n} = {n*2}\")"
      ]
    },
    {
      "cell_type": "code",
      "execution_count": null,
      "id": "4c773dc2-d830-4b55-88c9-195aa2c7c7ed",
      "metadata": {
        "id": "4c773dc2-d830-4b55-88c9-195aa2c7c7ed",
        "outputId": "fb7f675e-8c89-474c-dc6f-c4ad6db2c8b3"
      },
      "outputs": [
        {
          "name": "stdout",
          "output_type": "stream",
          "text": [
            "[1, 4, 9, 16, 25, 36, 49, 64, 81, 100]\n"
          ]
        }
      ],
      "source": [
        "squares:list[int] = []\n",
        "for value in range(1, 11):\n",
        "    square = value ** 2\n",
        "    squares.append(square)\n",
        "print(squares)"
      ]
    },
    {
      "cell_type": "markdown",
      "id": "9ed4dd5e-0a0a-4e12-ae2b-331ae7e7f72a",
      "metadata": {
        "id": "9ed4dd5e-0a0a-4e12-ae2b-331ae7e7f72a"
      },
      "source": [
        "# List comprehensive\n",
        "```\n",
        "for item in items_list:\n",
        "    loop_body\n",
        "```\n",
        "\n",
        "### Comprehensive Style\n",
        "\n",
        "```\n",
        "[loop_body for item in items_list]\n",
        "    \n",
        "```\n"
      ]
    },
    {
      "cell_type": "code",
      "execution_count": null,
      "id": "0b837388-4e10-4993-8eb9-2e3b15c153ae",
      "metadata": {
        "id": "0b837388-4e10-4993-8eb9-2e3b15c153ae",
        "outputId": "871bc8b6-1489-42f9-cd65-ab144abb0fb2"
      },
      "outputs": [
        {
          "data": {
            "text/plain": [
              "[1, 2, 3, 4, 5, 6, 7, 8, 9, 10]"
            ]
          },
          "execution_count": 58,
          "metadata": {},
          "output_type": "execute_result"
        }
      ],
      "source": [
        "list(range(1,11))"
      ]
    },
    {
      "cell_type": "code",
      "execution_count": null,
      "id": "ea9a5e92-366f-4830-98a8-ac38a0b01005",
      "metadata": {
        "id": "ea9a5e92-366f-4830-98a8-ac38a0b01005",
        "outputId": "3e162f0c-1f85-4b1f-e100-78d1cd063f5b"
      },
      "outputs": [
        {
          "name": "stdout",
          "output_type": "stream",
          "text": [
            "1\n",
            "4\n",
            "9\n",
            "16\n",
            "25\n",
            "36\n",
            "49\n",
            "64\n",
            "81\n",
            "100\n"
          ]
        }
      ],
      "source": [
        "for i in range(1,11):\n",
        "    print(i**2)"
      ]
    },
    {
      "cell_type": "code",
      "execution_count": null,
      "id": "42faac9d-2e44-4f44-8df0-9e306530acd1",
      "metadata": {
        "id": "42faac9d-2e44-4f44-8df0-9e306530acd1",
        "outputId": "f2090fae-ab30-4856-9e6d-8d1e33e66dfd"
      },
      "outputs": [
        {
          "data": {
            "text/plain": [
              "'line3'"
            ]
          },
          "execution_count": 61,
          "metadata": {},
          "output_type": "execute_result"
        }
      ],
      "source": [
        "'line1'\n",
        "'line2'\n",
        "'line3' # always return last line"
      ]
    },
    {
      "cell_type": "code",
      "execution_count": null,
      "id": "693044a5-7ded-463d-98b0-70d1019afaf6",
      "metadata": {
        "id": "693044a5-7ded-463d-98b0-70d1019afaf6",
        "outputId": "792c764d-c2d9-4226-a846-14b3b50167bd"
      },
      "outputs": [
        {
          "name": "stdout",
          "output_type": "stream",
          "text": [
            "line1\n",
            "line2\n",
            "line3\n"
          ]
        }
      ],
      "source": [
        "print('line1')\n",
        "print('line2')\n",
        "print('line3') # always return last line"
      ]
    },
    {
      "cell_type": "code",
      "execution_count": null,
      "id": "aacb1756-c9ff-414a-9f37-f463c7e23aa4",
      "metadata": {
        "id": "aacb1756-c9ff-414a-9f37-f463c7e23aa4",
        "outputId": "c924cbfc-b17c-4be6-a6c3-24c0cbb3d8c6"
      },
      "outputs": [
        {
          "data": {
            "text/plain": [
              "[1, 4, 9, 16, 25, 36, 49, 64, 81, 100]"
            ]
          },
          "execution_count": 60,
          "metadata": {},
          "output_type": "execute_result"
        }
      ],
      "source": [
        "[i**2 for i in range(1,11)]"
      ]
    },
    {
      "cell_type": "code",
      "execution_count": null,
      "id": "efacfe05-ea8b-4ef1-9543-6a28abba95c3",
      "metadata": {
        "id": "efacfe05-ea8b-4ef1-9543-6a28abba95c3",
        "outputId": "6b0654d1-bd59-4078-a7fa-06172438fbba"
      },
      "outputs": [
        {
          "name": "stdout",
          "output_type": "stream",
          "text": [
            "[1, 2, 3, 4, 5, 6, 7, 8, 9, 0]\n",
            "9\n",
            "0\n",
            "45\n"
          ]
        }
      ],
      "source": [
        "digits:list[int] = [1, 2, 3, 4, 5, 6, 7, 8, 9, 0]\n",
        "\n",
        "print(digits)\n",
        "print(max(digits))\n",
        "print(min(digits))\n",
        "print(sum(digits))"
      ]
    },
    {
      "cell_type": "code",
      "execution_count": null,
      "id": "eca70f68-a25a-41b0-ac71-84a498ae588d",
      "metadata": {
        "id": "eca70f68-a25a-41b0-ac71-84a498ae588d",
        "outputId": "9674e1d9-5df2-453e-afd5-846e9eb569df"
      },
      "outputs": [
        {
          "name": "stdout",
          "output_type": "stream",
          "text": [
            "['pizza', 'falafel', 'carrot cake']\n",
            "['pizza', 'falafel', 'carrot cake']\n",
            "['pizza', 'falafel', 'carrot cake']\n",
            "['Tikka', 'falafel', 'carrot cake']\n"
          ]
        }
      ],
      "source": [
        "my_foods = ['pizza', 'falafel', 'carrot cake']\n",
        "friend_foods = my_foods[:] # deep copy\n",
        "\n",
        "print(my_foods)\n",
        "print(friend_foods)\n",
        "\n",
        "friend_foods[0] = \"Tikka\"\n",
        "\n",
        "print(my_foods)\n",
        "print(friend_foods)\n"
      ]
    },
    {
      "cell_type": "markdown",
      "id": "4fe70e44-9da3-4f8e-9f45-4871f46460fe",
      "metadata": {
        "id": "4fe70e44-9da3-4f8e-9f45-4871f46460fe"
      },
      "source": [
        "# Tuples"
      ]
    },
    {
      "cell_type": "code",
      "execution_count": null,
      "id": "61b25c86-4b18-403c-8544-1dc982f26567",
      "metadata": {
        "id": "61b25c86-4b18-403c-8544-1dc982f26567",
        "outputId": "f40f8425-11be-4c45-f927-bc9509778f70"
      },
      "outputs": [
        {
          "name": "stdout",
          "output_type": "stream",
          "text": [
            "A\n",
            "('A', 'B')\n"
          ]
        }
      ],
      "source": [
        "names:tuple[str] = ('A',\"B\",'C')\n",
        "print(names[0])\n",
        "print(names[0:2])"
      ]
    },
    {
      "cell_type": "code",
      "execution_count": null,
      "id": "cd2474a8-87b1-43b8-8ce8-b6c184c3cc62",
      "metadata": {
        "id": "cd2474a8-87b1-43b8-8ce8-b6c184c3cc62",
        "outputId": "e97843ea-cda3-4a7b-c25e-91b4a475e899"
      },
      "outputs": [
        {
          "ename": "TypeError",
          "evalue": "'tuple' object does not support item assignment",
          "output_type": "error",
          "traceback": [
            "\u001b[0;31m---------------------------------------------------------------------------\u001b[0m",
            "\u001b[0;31mTypeError\u001b[0m                                 Traceback (most recent call last)",
            "Cell \u001b[0;32mIn[72], line 3\u001b[0m\n\u001b[1;32m      1\u001b[0m names:\u001b[38;5;28mtuple\u001b[39m[\u001b[38;5;28mstr\u001b[39m] \u001b[38;5;241m=\u001b[39m (\u001b[38;5;124m'\u001b[39m\u001b[38;5;124mA\u001b[39m\u001b[38;5;124m'\u001b[39m,\u001b[38;5;124m\"\u001b[39m\u001b[38;5;124mB\u001b[39m\u001b[38;5;124m\"\u001b[39m,\u001b[38;5;124m'\u001b[39m\u001b[38;5;124mC\u001b[39m\u001b[38;5;124m'\u001b[39m)\n\u001b[0;32m----> 3\u001b[0m \u001b[43mnames\u001b[49m\u001b[43m[\u001b[49m\u001b[38;5;241;43m0\u001b[39;49m\u001b[43m]\u001b[49m \u001b[38;5;241m=\u001b[39m \u001b[38;5;124m\"\u001b[39m\u001b[38;5;124mPakistan\u001b[39m\u001b[38;5;124m\"\u001b[39m\n",
            "\u001b[0;31mTypeError\u001b[0m: 'tuple' object does not support item assignment"
          ]
        }
      ],
      "source": [
        "names:tuple[str] = ('A',\"B\",'C')\n",
        "\n",
        "names[0] = \"Pakistan\""
      ]
    },
    {
      "cell_type": "code",
      "execution_count": null,
      "id": "3dd8c72b-17f4-4a61-96c5-1ca37c48c599",
      "metadata": {
        "id": "3dd8c72b-17f4-4a61-96c5-1ca37c48c599",
        "outputId": "7c181c12-0436-4ccc-f5b0-a1fdaaa4ffc8"
      },
      "outputs": [
        {
          "name": "stdout",
          "output_type": "stream",
          "text": [
            "('Pakistan', 'B', 'C')\n"
          ]
        }
      ],
      "source": [
        "names:tuple[str] = ('A',\"B\",'C')\n",
        "\n",
        "names:tuple[str] = ('Pakistan',\"B\",'C')\n",
        "\n",
        "print(names)"
      ]
    },
    {
      "cell_type": "code",
      "execution_count": null,
      "id": "8d45b5e8-01fd-4da0-a761-3d832fff38a6",
      "metadata": {
        "id": "8d45b5e8-01fd-4da0-a761-3d832fff38a6",
        "outputId": "9f2e3ee7-4a53-4596-a431-a669823a677d"
      },
      "outputs": [
        {
          "name": "stdout",
          "output_type": "stream",
          "text": [
            "('A', [1, 2, 3], True)\n"
          ]
        }
      ],
      "source": [
        "from typing import Any\n",
        "data : tuple[Any] = (\"A\",[1,2,3], True)\n",
        "\n",
        "print(data)"
      ]
    },
    {
      "cell_type": "code",
      "execution_count": null,
      "id": "33d77125-9cae-40b0-8422-9f0ca666e633",
      "metadata": {
        "id": "33d77125-9cae-40b0-8422-9f0ca666e633",
        "outputId": "ca05af3c-a5a6-4a6f-ea1b-af6ea2b68a92"
      },
      "outputs": [
        {
          "name": "stdout",
          "output_type": "stream",
          "text": [
            "[1, 2, 3]\n",
            "('A', [1, 2, 3, 20], True)\n"
          ]
        }
      ],
      "source": [
        "data : tuple[Any] = (\"A\",[1,2,3], True)\n",
        "\n",
        "print(data[1])\n",
        "data[1].append(20)\n",
        "print(data)"
      ]
    },
    {
      "cell_type": "code",
      "execution_count": null,
      "id": "a9b21058-5684-4cdc-b377-9f6a35e529d5",
      "metadata": {
        "id": "a9b21058-5684-4cdc-b377-9f6a35e529d5",
        "outputId": "1e9c0854-c08a-4f45-e85b-a516d3e815cd"
      },
      "outputs": [
        {
          "name": "stdin",
          "output_type": "stream",
          "text": [
            "abc 123\n"
          ]
        },
        {
          "name": "stdout",
          "output_type": "stream",
          "text": [
            "<class 'str'>\n",
            "123\n"
          ]
        }
      ],
      "source": [
        "a  = input(\"abc\") # return string type\n",
        "print(type(a))\n",
        "print(a)"
      ]
    },
    {
      "cell_type": "code",
      "execution_count": null,
      "id": "07ac217f-6abe-4077-9b85-cd7266c75703",
      "metadata": {
        "id": "07ac217f-6abe-4077-9b85-cd7266c75703",
        "outputId": "0ce881db-3825-4ca7-b5f1-3fa59b646db0"
      },
      "outputs": [
        {
          "data": {
            "text/plain": [
              "[1, 3, 7, 8]"
            ]
          },
          "execution_count": 81,
          "metadata": {},
          "output_type": "execute_result"
        }
      ],
      "source": [
        "sorted([7,8,1,3])"
      ]
    },
    {
      "cell_type": "code",
      "execution_count": null,
      "id": "14fb3fc5-e070-4717-b8c2-8fdc05483e76",
      "metadata": {
        "id": "14fb3fc5-e070-4717-b8c2-8fdc05483e76"
      },
      "outputs": [],
      "source": []
    }
  ],
  "metadata": {
    "kernelspec": {
      "display_name": "Python 3 (ipykernel)",
      "language": "python",
      "name": "python3"
    },
    "language_info": {
      "codemirror_mode": {
        "name": "ipython",
        "version": 3
      },
      "file_extension": ".py",
      "mimetype": "text/x-python",
      "name": "python",
      "nbconvert_exporter": "python",
      "pygments_lexer": "ipython3",
      "version": "3.12.0"
    },
    "colab": {
      "provenance": [],
      "include_colab_link": true
    }
  },
  "nbformat": 4,
  "nbformat_minor": 5
}