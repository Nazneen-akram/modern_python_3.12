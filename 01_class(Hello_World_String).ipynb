{
  "cells": [
    {
      "cell_type": "markdown",
      "metadata": {
        "id": "view-in-github",
        "colab_type": "text"
      },
      "source": [
        "<a href=\"https://colab.research.google.com/github/Nazneen-akram/modern_python_3.12/blob/main/01_class(Hello_World_String).ipynb\" target=\"_parent\"><img src=\"https://colab.research.google.com/assets/colab-badge.svg\" alt=\"Open In Colab\"/></a>"
      ]
    },
    {
      "cell_type": "code",
      "execution_count": null,
      "metadata": {
        "id": "w94yEg5858wj",
        "outputId": "251fb2c9-8cbc-4479-d1ac-83c261f726b5"
      },
      "outputs": [
        {
          "name": "stdout",
          "output_type": "stream",
          "text": [
            "3.11.4 (tags/v3.11.4:d2340ef, Jun  7 2023, 05:45:37) [MSC v.1934 64 bit (AMD64)]\n"
          ]
        }
      ],
      "source": [
        "import sys\n",
        "print(sys.version)"
      ]
    },
    {
      "cell_type": "code",
      "execution_count": null,
      "metadata": {
        "id": "MP9ZWfbR58wn",
        "outputId": "b42f2961-0e71-4eea-e515-2200107b2fb7"
      },
      "outputs": [
        {
          "name": "stdout",
          "output_type": "stream",
          "text": [
            "Nazneen Akram\n",
            "<class 'str'>\n",
            "2410148253936\n",
            "['capitalize', 'casefold', 'center', 'count', 'encode', 'endswith', 'expandtabs', 'find', 'format', 'format_map', 'index', 'isalnum', 'isalpha', 'isascii', 'isdecimal', 'isdigit', 'isidentifier', 'islower', 'isnumeric', 'isprintable', 'isspace', 'istitle', 'isupper', 'join', 'ljust', 'lower', 'lstrip', 'maketrans', 'partition', 'removeprefix', 'removesuffix', 'replace', 'rfind', 'rindex', 'rjust', 'rpartition', 'rsplit', 'rstrip', 'split', 'splitlines', 'startswith', 'strip', 'swapcase', 'title', 'translate', 'upper', 'zfill']\n"
          ]
        }
      ],
      "source": [
        "name = \"Nazneen Akram\"\n",
        "print(name) # print\n",
        "print(type(name)) # type\n",
        "print(id(name)) # physical address\n",
        "print([i for i in dir(name) if \"__\" not in i])"
      ]
    },
    {
      "cell_type": "code",
      "execution_count": null,
      "metadata": {
        "id": "Rn4iXIg-58wo",
        "outputId": "17ce1132-4c8d-4f5c-c43b-e72e76d337b1"
      },
      "outputs": [
        {
          "name": "stdout",
          "output_type": "stream",
          "text": [
            "700\n",
            "<class 'int'>\n",
            "2410147880976\n"
          ]
        }
      ],
      "source": [
        "name = \"Nazneen Akram\"\n",
        "name = 700\n",
        "print(name) # print\n",
        "print(type(name)) # type\n",
        "print(id(name)) # physical address"
      ]
    },
    {
      "cell_type": "code",
      "execution_count": null,
      "metadata": {
        "id": "9YFZz61e58wp",
        "outputId": "d7d7f7a0-e89c-4274-830d-bd77a42e69fc"
      },
      "outputs": [
        {
          "name": "stdout",
          "output_type": "stream",
          "text": [
            "700\n"
          ]
        }
      ],
      "source": [
        "name : str = 700\n",
        "print(name)"
      ]
    },
    {
      "cell_type": "code",
      "execution_count": null,
      "metadata": {
        "id": "CgAdKt5A58wp",
        "outputId": "a0b766b1-8c68-4bc3-a145-2e6287c327f3"
      },
      "outputs": [
        {
          "name": "stdout",
          "output_type": "stream",
          "text": [
            "Nazneen Akram\n",
            "<class 'str'>\n",
            "2410148256112\n",
            "['capitalize', 'casefold', 'center', 'count', 'encode', 'endswith', 'expandtabs', 'find', 'format', 'format_map', 'index', 'isalnum', 'isalpha', 'isascii', 'isdecimal', 'isdigit', 'isidentifier', 'islower', 'isnumeric', 'isprintable', 'isspace', 'istitle', 'isupper', 'join', 'ljust', 'lower', 'lstrip', 'maketrans', 'partition', 'removeprefix', 'removesuffix', 'replace', 'rfind', 'rindex', 'rjust', 'rpartition', 'rsplit', 'rstrip', 'split', 'splitlines', 'startswith', 'strip', 'swapcase', 'title', 'translate', 'upper', 'zfill']\n"
          ]
        }
      ],
      "source": [
        "name : str = \"Nazneen Akram\"\n",
        "print(name) # print\n",
        "print(type(name)) # type\n",
        "print(id(name)) # physcial address\n",
        "print([i for i in dir(name) if \"__\" not in i]) # methods and attributes"
      ]
    },
    {
      "cell_type": "code",
      "execution_count": null,
      "metadata": {
        "id": "vnm0hgho58wp",
        "outputId": "ce8780f1-0be7-4804-b0d8-e072c3b2b8f0"
      },
      "outputs": [
        {
          "name": "stdout",
          "output_type": "stream",
          "text": [
            "2000\n",
            "<class 'int'>\n",
            "2410147881168\n",
            "['as_integer_ratio', 'bit_count', 'bit_length', 'conjugate', 'denominator', 'from_bytes', 'imag', 'numerator', 'real', 'to_bytes']\n"
          ]
        }
      ],
      "source": [
        "name : int = 2000\n",
        "print(name) # print\n",
        "print(type(name)) # type\n",
        "print(id(name)) # physcial address\n",
        "print([i for i in dir(name) if \"__\" not in i]) # methods and attributes"
      ]
    },
    {
      "cell_type": "code",
      "execution_count": null,
      "metadata": {
        "id": "QuRna1g_58wq",
        "outputId": "67d15355-707c-4111-f0d9-4c5201c64e2c"
      },
      "outputs": [
        {
          "name": "stdout",
          "output_type": "stream",
          "text": [
            "7.0\n",
            "<class 'float'>\n",
            "2410147881232\n",
            "['as_integer_ratio', 'conjugate', 'fromhex', 'hex', 'imag', 'is_integer', 'real']\n"
          ]
        }
      ],
      "source": [
        "name : float = 7.0\n",
        "print(name) # print\n",
        "print(type(name)) # type\n",
        "print(id(name)) # physcial address\n",
        "print([i for i in dir(name) if \"__\" not in i]) # methods and attributes"
      ]
    },
    {
      "cell_type": "code",
      "execution_count": null,
      "metadata": {
        "id": "ZB7h9EqH58wq",
        "outputId": "3c1d7a9f-39e4-4354-ef44-f25cb49e9d08"
      },
      "outputs": [
        {
          "name": "stdout",
          "output_type": "stream",
          "text": [
            "True\n",
            "<class 'bool'>\n",
            "140707303889768\n",
            "['as_integer_ratio', 'bit_count', 'bit_length', 'conjugate', 'denominator', 'from_bytes', 'imag', 'numerator', 'real', 'to_bytes']\n"
          ]
        }
      ],
      "source": [
        "name : bool = True\n",
        "print(name) # print\n",
        "print(type(name)) # type\n",
        "print(id(name)) # physcial address\n",
        "print([i for i in dir(name) if \"__\" not in i]) # methods and attributes"
      ]
    },
    {
      "cell_type": "code",
      "execution_count": null,
      "metadata": {
        "id": "6oRIWoJq58wr",
        "outputId": "73055a1e-fd83-4938-cf71-b68fb957ff3c"
      },
      "outputs": [
        {
          "name": "stdout",
          "output_type": "stream",
          "text": [
            "['a', 'b', 'c']\n",
            "<class 'list'>\n",
            "2410148386496\n",
            "['append', 'clear', 'copy', 'count', 'extend', 'index', 'insert', 'pop', 'remove', 'reverse', 'sort']\n"
          ]
        }
      ],
      "source": [
        "name: list[str]=['a','b','c']\n",
        "print(name) #print\n",
        "print(type(name)) #type\n",
        "print(id(name)) # physical address\n",
        "print([i for i in dir(name) if \"__\" not in i])"
      ]
    },
    {
      "cell_type": "code",
      "execution_count": null,
      "metadata": {
        "id": "D8UorVjE58wr",
        "outputId": "37ba1c51-bdf4-44f1-9e7e-0400bfc834e3"
      },
      "outputs": [
        {
          "name": "stdout",
          "output_type": "stream",
          "text": [
            "('pakistan', 7, 2.0)\n",
            "<class 'tuple'>\n",
            "2410148378624\n",
            "['count', 'index']\n"
          ]
        }
      ],
      "source": [
        "name : tuple[str,int,float] = ('pakistan',7,2.0)\n",
        "print(name) # print\n",
        "print(type(name)) # type\n",
        "print(id(name)) # physcial address\n",
        "print([i for i in dir(name) if \"__\" not in i]) # methods and attributes"
      ]
    },
    {
      "cell_type": "code",
      "execution_count": null,
      "metadata": {
        "id": "jT7akpg258ws",
        "outputId": "851885b3-fab8-421f-d118-f00fc07c35fb"
      },
      "outputs": [
        {
          "name": "stdout",
          "output_type": "stream",
          "text": [
            "8.0\n",
            "<class 'float'>\n",
            "2410147874032\n",
            "['as_integer_ratio', 'conjugate', 'fromhex', 'hex', 'imag', 'is_integer', 'real']\n"
          ]
        }
      ],
      "source": [
        "name : tuple[str,int,float] = (8.0) # tuple initialized with float will reflect float methods  and attributes\n",
        "print(name) # print\n",
        "print(type(name)) # type changes to float from tuple in previous example\n",
        "print(id(name)) # physcial address\n",
        "print([i for i in dir(name) if \"__\" not in i]) # methods and attributes"
      ]
    },
    {
      "cell_type": "code",
      "execution_count": null,
      "metadata": {
        "id": "tnAXOYTw58ws",
        "outputId": "60c60b1c-ddee-410d-f8e5-bb392678b79b"
      },
      "outputs": [
        {
          "name": "stdout",
          "output_type": "stream",
          "text": [
            "Pakistan\n",
            "<class 'str'>\n",
            "2410148279344\n",
            "['capitalize', 'casefold', 'center', 'count', 'encode', 'endswith', 'expandtabs', 'find', 'format', 'format_map', 'index', 'isalnum', 'isalpha', 'isascii', 'isdecimal', 'isdigit', 'isidentifier', 'islower', 'isnumeric', 'isprintable', 'isspace', 'istitle', 'isupper', 'join', 'ljust', 'lower', 'lstrip', 'maketrans', 'partition', 'removeprefix', 'removesuffix', 'replace', 'rfind', 'rindex', 'rjust', 'rpartition', 'rsplit', 'rstrip', 'split', 'splitlines', 'startswith', 'strip', 'swapcase', 'title', 'translate', 'upper', 'zfill']\n"
          ]
        }
      ],
      "source": [
        "name : any = \"Pakistan\"\n",
        "print(name) # print\n",
        "print(type(name)) # type\n",
        "print(id(name)) # physcial address\n",
        "print([i for i in dir(name) if \"__\" not in i]) # methods and attributes"
      ]
    }
  ],
  "metadata": {
    "kernelspec": {
      "display_name": "Python 3",
      "language": "python",
      "name": "python3"
    },
    "language_info": {
      "codemirror_mode": {
        "name": "ipython",
        "version": 3
      },
      "file_extension": ".py",
      "mimetype": "text/x-python",
      "name": "python",
      "nbconvert_exporter": "python",
      "pygments_lexer": "ipython3",
      "version": "3.11.4"
    },
    "colab": {
      "provenance": [],
      "include_colab_link": true
    }
  },
  "nbformat": 4,
  "nbformat_minor": 0
}