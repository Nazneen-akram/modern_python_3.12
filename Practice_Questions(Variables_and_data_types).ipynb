{
  "nbformat": 4,
  "nbformat_minor": 0,
  "metadata": {
    "colab": {
      "provenance": [],
      "authorship_tag": "ABX9TyNcChIxcdyhPV/yvYU3QF9w",
      "include_colab_link": true
    },
    "kernelspec": {
      "name": "python3",
      "display_name": "Python 3"
    },
    "language_info": {
      "name": "python"
    }
  },
  "cells": [
    {
      "cell_type": "markdown",
      "metadata": {
        "id": "view-in-github",
        "colab_type": "text"
      },
      "source": [
        "<a href=\"https://colab.research.google.com/github/Nazneen-akram/modern_python_3.12/blob/main/Practice_Questions(Variables_and_data_types).ipynb\" target=\"_parent\"><img src=\"https://colab.research.google.com/assets/colab-badge.svg\" alt=\"Open In Colab\"/></a>"
      ]
    },
    {
      "cell_type": "markdown",
      "source": [
        ">\n",
        "<img src=\"https://developers.redhat.com/sites/default/files/styles/article_feature/public/Python-01%20%282%29.webp?itok=TEVIQBQo\" alt=\"Python\">\n",
        "\n"
      ],
      "metadata": {
        "id": "5Lo9IT1dLQBw"
      }
    },
    {
      "cell_type": "markdown",
      "source": [
        "# <font color=\"green\"> Practice Topics</font>\n",
        "\n",
        "\n",
        "*   Variables and data types\n",
        "Operators and\n",
        "* Conditional statements and loops\n",
        "* Functions and modules\n",
        "* Lists and tuples\n",
        "* Dictionaries and sets\n",
        "* Strings and formatting\n",
        "* File handling and exceptions\n",
        "* Classes and objects\n",
        "* Inheritance and polymorphism\n",
        "* Lambda and map functions\n",
        "* Decorators and generators\n",
        "* Regular expressions and JSON\n",
        "* Date and time\n",
        "* Math and random modulesList item\n",
        "\n",
        "\n",
        "\n",
        "\n"
      ],
      "metadata": {
        "id": "O4w8cWZsF2w6"
      }
    },
    {
      "cell_type": "markdown",
      "source": [
        "### <font color = \"tomato\">Question 1</font>\n",
        "<p> What is the Output of the below Code?</p>"
      ],
      "metadata": {
        "id": "H_dTHmHzHAh-"
      }
    },
    {
      "cell_type": "code",
      "source": [
        "x = 3.14\n",
        "y = int(x)\n",
        "z = str(y)\n",
        "print(z + x) #Type Error"
      ],
      "metadata": {
        "colab": {
          "base_uri": "https://localhost:8080/",
          "height": 219
        },
        "id": "pH5FY8dvHGIP",
        "outputId": "a5908c8e-5f99-4d98-8627-b433e5b43104"
      },
      "execution_count": 2,
      "outputs": [
        {
          "output_type": "error",
          "ename": "TypeError",
          "evalue": "ignored",
          "traceback": [
            "\u001b[0;31m---------------------------------------------------------------------------\u001b[0m",
            "\u001b[0;31mTypeError\u001b[0m                                 Traceback (most recent call last)",
            "\u001b[0;32m<ipython-input-2-e0ef27638844>\u001b[0m in \u001b[0;36m<cell line: 4>\u001b[0;34m()\u001b[0m\n\u001b[1;32m      2\u001b[0m \u001b[0my\u001b[0m \u001b[0;34m=\u001b[0m \u001b[0mint\u001b[0m\u001b[0;34m(\u001b[0m\u001b[0mx\u001b[0m\u001b[0;34m)\u001b[0m\u001b[0;34m\u001b[0m\u001b[0;34m\u001b[0m\u001b[0m\n\u001b[1;32m      3\u001b[0m \u001b[0mz\u001b[0m \u001b[0;34m=\u001b[0m \u001b[0mstr\u001b[0m\u001b[0;34m(\u001b[0m\u001b[0my\u001b[0m\u001b[0;34m)\u001b[0m\u001b[0;34m\u001b[0m\u001b[0;34m\u001b[0m\u001b[0m\n\u001b[0;32m----> 4\u001b[0;31m \u001b[0mprint\u001b[0m\u001b[0;34m(\u001b[0m\u001b[0mz\u001b[0m \u001b[0;34m+\u001b[0m \u001b[0mx\u001b[0m\u001b[0;34m)\u001b[0m \u001b[0;31m#Type Error\u001b[0m\u001b[0;34m\u001b[0m\u001b[0;34m\u001b[0m\u001b[0m\n\u001b[0m",
            "\u001b[0;31mTypeError\u001b[0m: can only concatenate str (not \"float\") to str"
          ]
        }
      ]
    },
    {
      "cell_type": "markdown",
      "source": [
        "### <font color=\"tomato\"> Question 2</font>\n",
        "<p> What is the Output of the below Code?</p>"
      ],
      "metadata": {
        "id": "-B6BeEOsJq_V"
      }
    },
    {
      "cell_type": "code",
      "source": [
        "x = \"Hello\"\n",
        "y = \"World\"\n",
        "z = x + y\n",
        "print(len(z))"
      ],
      "metadata": {
        "colab": {
          "base_uri": "https://localhost:8080/"
        },
        "id": "E3dcJh4bHfMs",
        "outputId": "2ede25c6-7055-438e-b178-bb8fe29fee13"
      },
      "execution_count": 3,
      "outputs": [
        {
          "output_type": "stream",
          "name": "stdout",
          "text": [
            "10\n"
          ]
        }
      ]
    },
    {
      "cell_type": "markdown",
      "source": [
        "### <font color=\"tomato\"> Question 3</font>\n",
        "<p> What is the Output of the below Code?</p>"
      ],
      "metadata": {
        "id": "uH_eM3XgKEMR"
      }
    },
    {
      "cell_type": "code",
      "source": [
        "x = 10\n",
        "y = 2.5\n",
        "z = x / y\n",
        "print(type(z))"
      ],
      "metadata": {
        "colab": {
          "base_uri": "https://localhost:8080/"
        },
        "id": "yL67Ea8fJyKW",
        "outputId": "56a115ee-97bd-414e-e47e-4350a906efa5"
      },
      "execution_count": 4,
      "outputs": [
        {
          "output_type": "stream",
          "name": "stdout",
          "text": [
            "<class 'float'>\n"
          ]
        }
      ]
    },
    {
      "cell_type": "markdown",
      "source": [
        "### <font color=\"tomato\"> Question 4</font>\n",
        "<p> Write a program that asks the user to enter their name and age, and then prints a message that greets them and tells them how old they will be in 10 years.</p>"
      ],
      "metadata": {
        "id": "3WbH6c89KOpY"
      }
    },
    {
      "cell_type": "code",
      "source": [
        "name: str\n",
        "age: int\n",
        "\n",
        "name = input(\"What is your Name? \")\n",
        "age = int(input(\"What is your Age? \")) + 10\n",
        "\n",
        "\n",
        "print(f'Your name is {name} and you will be {age} years old in 10 years')"
      ],
      "metadata": {
        "colab": {
          "base_uri": "https://localhost:8080/"
        },
        "id": "RcsVcSOnKBzA",
        "outputId": "62960951-c681-4d17-8283-a06ebe3f31bc"
      },
      "execution_count": 12,
      "outputs": [
        {
          "output_type": "stream",
          "name": "stdout",
          "text": [
            "What is your Name? Nazneen\n",
            "What is your Age? 28\n",
            "Your name is Nazneen and you will be 38 years old in 10 years\n"
          ]
        }
      ]
    },
    {
      "cell_type": "markdown",
      "source": [
        "### <font color=\"tomato\"> Question 5</font>\n",
        "<p> Write a Python program that converts a temperature given in Celsius to Fahrenheit, and vice versa. The program should ask the user to enter a temperature and a unit (C or F), and then print the converted temperature and unit.</p>"
      ],
      "metadata": {
        "id": "HQwDeAYBNL-b"
      }
    },
    {
      "cell_type": "code",
      "source": [
        "temperature: int\n",
        "measure: str\n",
        "convert_temp: int\n",
        "\n",
        "temperature = int(input(\"Please enter the temperature \"))\n",
        "measure = input(\"Select the measure to convert the temperature to. Enter 'C' for Celsius and 'F' for Fahrenheit \")\n",
        "if 'F' in measure:\n",
        "  convert_temp = (temperature * 1.8) + 32\n",
        "  measure = 'Fahrenheit'\n",
        "else:\n",
        "  convert_temp = (temperature -32) * (5/9)\n",
        "  measure='Celsius'\n",
        "\n",
        "print(f'The temperature in {measure} is {convert_temp:.2f}')\n"
      ],
      "metadata": {
        "colab": {
          "base_uri": "https://localhost:8080/"
        },
        "id": "6meKdt6DNRBS",
        "outputId": "f589cb45-c2a7-4852-b11f-8874ce79f46c"
      },
      "execution_count": 25,
      "outputs": [
        {
          "output_type": "stream",
          "name": "stdout",
          "text": [
            "Please enter the temperature 100\n",
            "Select the measure to convert the temperature to. Enter 'C' for Celsius and 'F' for Fahrenheit C\n",
            "The temperature in Celsius is 37.78\n"
          ]
        }
      ]
    }
  ]
}