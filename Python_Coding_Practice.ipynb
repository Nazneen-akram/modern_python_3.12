{
  "nbformat": 4,
  "nbformat_minor": 0,
  "metadata": {
    "colab": {
      "provenance": [],
      "authorship_tag": "ABX9TyMAVGzByFRcMfVCcaHgpXUf",
      "include_colab_link": true
    },
    "kernelspec": {
      "name": "python3",
      "display_name": "Python 3"
    },
    "language_info": {
      "name": "python"
    }
  },
  "cells": [
    {
      "cell_type": "markdown",
      "metadata": {
        "id": "view-in-github",
        "colab_type": "text"
      },
      "source": [
        "<a href=\"https://colab.research.google.com/github/Nazneen-akram/modern_python_3.12/blob/main/Python_Coding_Practice.ipynb\" target=\"_parent\"><img src=\"https://colab.research.google.com/assets/colab-badge.svg\" alt=\"Open In Colab\"/></a>"
      ]
    },
    {
      "cell_type": "markdown",
      "source": [
        "#Repeat like a Parrot"
      ],
      "metadata": {
        "id": "GVec6sobRGHy"
      }
    },
    {
      "cell_type": "code",
      "execution_count": 1,
      "metadata": {
        "colab": {
          "base_uri": "https://localhost:8080/"
        },
        "id": "xd9PT2A5QZPp",
        "outputId": "0214571f-0242-4195-c832-9812af2ea904"
      },
      "outputs": [
        {
          "name": "stdout",
          "output_type": "stream",
          "text": [
            "\n",
            "Tell me something, and I will repeat it back to you:\n",
            "Enter 'quit' to end the program. Helllo World\n",
            "Helllo World\n",
            "\n",
            "Tell me something, and I will repeat it back to you:\n",
            "Enter 'quit' to end the program. I want to go to space\n",
            "I want to go to space\n",
            "\n",
            "Tell me something, and I will repeat it back to you:\n",
            "Enter 'quit' to end the program. quit\n"
          ]
        }
      ],
      "source": [
        "prompt = \"\\nTell me something, and I will repeat it back to you:\"\n",
        "prompt += \"\\nEnter 'quit' to end the program. \"\n",
        "\n",
        "active = True\n",
        "while active:\n",
        "    message = input(prompt)\n",
        "\n",
        "    if message == 'quit':\n",
        "        active = False\n",
        "    else:\n",
        "        print(message)"
      ]
    },
    {
      "cell_type": "markdown",
      "source": [
        "# Remove All cats from the list"
      ],
      "metadata": {
        "id": "yFebyxuWRVTj"
      }
    },
    {
      "cell_type": "code",
      "source": [
        "pets = ['dog', 'cat', 'dog', 'goldfish', 'cat', 'rabbit', 'cat']\n",
        "print(pets)\n",
        "\n",
        "while 'cat' in pets:\n",
        "    pets.remove('cat')\n",
        "\n",
        "print(pets)"
      ],
      "metadata": {
        "colab": {
          "base_uri": "https://localhost:8080/"
        },
        "id": "MK08-pj2Qk7t",
        "outputId": "940bb534-fde7-41dc-937c-4ac26fdc0fd7"
      },
      "execution_count": 2,
      "outputs": [
        {
          "output_type": "stream",
          "name": "stdout",
          "text": [
            "['dog', 'cat', 'dog', 'goldfish', 'cat', 'rabbit', 'cat']\n",
            "['dog', 'dog', 'goldfish', 'rabbit']\n"
          ]
        }
      ]
    },
    {
      "cell_type": "markdown",
      "source": [
        "#Polling"
      ],
      "metadata": {
        "id": "67i4CX4bShWt"
      }
    },
    {
      "cell_type": "code",
      "source": [
        "responses = {}\n",
        "# Set a flag to indicate that polling is active.\n",
        "polling_active = True\n",
        "\n",
        "while polling_active:\n",
        "    # Prompt for the person's name and response.\n",
        "    name = input(\"\\nWhat is your name? \")\n",
        "    response = input(\"Which mountain would you like to climb someday? \")\n",
        "\n",
        "    # Store the response in the dictionary.\n",
        "    responses[name] = response\n",
        "\n",
        "    # Find out if anyone else is going to take the poll.\n",
        "    repeat = input(\"Would you like to let another person respond? (yes/ no) \")\n",
        "    if repeat == 'no':\n",
        "        polling_active = False\n",
        "\n",
        "# Polling is complete. Show the results.\n",
        "print(\"\\n--- Poll Results ---\")\n",
        "for name, response in responses.items():\n",
        "    print(f\"{name} would like to climb {response}.\")"
      ],
      "metadata": {
        "colab": {
          "base_uri": "https://localhost:8080/"
        },
        "id": "5BsWQhkRRN8R",
        "outputId": "95f64b1c-00b8-440d-b340-1ad1356206e0"
      },
      "execution_count": 3,
      "outputs": [
        {
          "output_type": "stream",
          "name": "stdout",
          "text": [
            "\n",
            "What is your name? Sam\n",
            "Which mountain would you like to climb someday? Machu Pichu\n",
            "Would you like to let another person respond? (yes/ no) yes\n",
            "\n",
            "What is your name? Peter\n",
            "Which mountain would you like to climb someday? Everrest\n",
            "Would you like to let another person respond? (yes/ no) yes\n",
            "\n",
            "What is your name? Jane\n",
            "Which mountain would you like to climb someday? Nanga Purbat\n",
            "Would you like to let another person respond? (yes/ no) yes\n",
            "\n",
            "What is your name? Steve\n",
            "Which mountain would you like to climb someday? Everest\n",
            "Would you like to let another person respond? (yes/ no) yes\n",
            "\n",
            "What is your name? Emma\n",
            "Which mountain would you like to climb someday? French Alps\n",
            "Would you like to let another person respond? (yes/ no) no\n",
            "\n",
            "--- Poll Results ---\n",
            "Sam would like to climb Machu Pichu.\n",
            "Peter would like to climb Everrest.\n",
            "Jane would like to climb Nanga Purbat.\n",
            "Steve would like to climb Everest.\n",
            "Emma would like to climb French Alps.\n"
          ]
        }
      ]
    },
    {
      "cell_type": "markdown",
      "source": [
        "#Personalized Greeting"
      ],
      "metadata": {
        "id": "O3vRz50ESrrU"
      }
    },
    {
      "cell_type": "code",
      "source": [
        "prompt = \"If you share your name, we can personalize the messages you see.\"\n",
        "prompt += \"\\nWhat is your first name? \"\n",
        "\n",
        "name = input(prompt)\n",
        "print(f\"\\nHello, {name}!\")"
      ],
      "metadata": {
        "colab": {
          "base_uri": "https://localhost:8080/"
        },
        "id": "YfKbsq9pSHTj",
        "outputId": "a5553535-f933-47b0-ab07-6e7991d306ba"
      },
      "execution_count": 4,
      "outputs": [
        {
          "output_type": "stream",
          "name": "stdout",
          "text": [
            "If you share your name, we can personalize the messages you see.\n",
            "What is your first name? Nazneen\n",
            "\n",
            "Hello, Nazneen!\n"
          ]
        }
      ]
    },
    {
      "cell_type": "markdown",
      "source": [
        "#Odd or Even?"
      ],
      "metadata": {
        "id": "8mTkxY4YSurj"
      }
    },
    {
      "cell_type": "code",
      "source": [
        "number = input(\"Enter a number, and I'll tell you if it's even or odd: \")\n",
        "number = int(number)\n",
        "\n",
        "if number % 2 == 0:\n",
        "    print(f\"\\nThe number {number} is even.\")\n",
        "else:\n",
        "    print(f\"\\nThe number {number} is odd.\")"
      ],
      "metadata": {
        "colab": {
          "base_uri": "https://localhost:8080/"
        },
        "id": "uhhOTlTySnwL",
        "outputId": "4424d642-fd2b-481a-d088-09cb82508e58"
      },
      "execution_count": 5,
      "outputs": [
        {
          "output_type": "stream",
          "name": "stdout",
          "text": [
            "Enter a number, and I'll tell you if it's even or odd: 99\n",
            "\n",
            "The number 99 is odd.\n"
          ]
        }
      ]
    },
    {
      "cell_type": "markdown",
      "source": [
        "#Print Odd numbers"
      ],
      "metadata": {
        "id": "wgLFOOjET2sQ"
      }
    },
    {
      "cell_type": "code",
      "source": [
        "current_number = 0\n",
        "while current_number < 10:\n",
        "    current_number += 1\n",
        "    if current_number % 2 == 0:\n",
        "        continue\n",
        "\n",
        "    print(current_number)"
      ],
      "metadata": {
        "colab": {
          "base_uri": "https://localhost:8080/"
        },
        "id": "HYlIm3nHSwPt",
        "outputId": "b29ebbab-5a3f-4e4c-b06f-39c057fd47b6"
      },
      "execution_count": 6,
      "outputs": [
        {
          "output_type": "stream",
          "name": "stdout",
          "text": [
            "1\n",
            "3\n",
            "5\n",
            "7\n",
            "9\n"
          ]
        }
      ]
    },
    {
      "cell_type": "code",
      "source": [
        "# Start with users that need to be verified,\n",
        "# and an empty list to hold confirmed users.\n",
        "unconfirmed_users = ['alice', 'brian', 'candace']\n",
        "confirmed_users = []\n",
        "\n",
        "# Verify each user until there are no more unconfirmed users.\n",
        "# Move each verified user into the list of confirmed users.\n",
        "while unconfirmed_users:\n",
        "    current_user = unconfirmed_users.pop()\n",
        "    print(f\"Verifying user: {current_user.title()}\")\n",
        "    confirmed_users.append(current_user)\n",
        "\n",
        "# Display all confirmed users.\n",
        "print(\"\\nThe following users have been confirmed:\")\n",
        "for confirmed_user in confirmed_users:\n",
        "    print(confirmed_user.title())"
      ],
      "metadata": {
        "colab": {
          "base_uri": "https://localhost:8080/"
        },
        "id": "G57HAXmvTXDG",
        "outputId": "0d87cede-7bda-4e22-e7ed-c92a71b29e0c"
      },
      "execution_count": 7,
      "outputs": [
        {
          "output_type": "stream",
          "name": "stdout",
          "text": [
            "Verifying user: Candace\n",
            "Verifying user: Brian\n",
            "Verifying user: Alice\n",
            "\n",
            "The following users have been confirmed:\n",
            "Candace\n",
            "Brian\n",
            "Alice\n"
          ]
        }
      ]
    },
    {
      "cell_type": "code",
      "source": [],
      "metadata": {
        "id": "E9k3CQQDUW6X"
      },
      "execution_count": null,
      "outputs": []
    }
  ]
}