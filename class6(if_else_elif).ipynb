{
  "cells": [
    {
      "cell_type": "markdown",
      "metadata": {
        "id": "view-in-github",
        "colab_type": "text"
      },
      "source": [
        "<a href=\"https://colab.research.google.com/github/Nazneen-akram/modern_python_3.12/blob/main/class6(if_else_elif).ipynb\" target=\"_parent\"><img src=\"https://colab.research.google.com/assets/colab-badge.svg\" alt=\"Open In Colab\"/></a>"
      ]
    },
    {
      "cell_type": "markdown",
      "id": "984943d4-1f9c-4576-946a-f2ca676897a0",
      "metadata": {
        "id": "984943d4-1f9c-4576-946a-f2ca676897a0"
      },
      "source": [
        "\n",
        "\n",
        "\n",
        "# If-else-elif\n",
        "```\n",
        "if logic:\n",
        "    True_block\n",
        "else:\n",
        "    False_block\n",
        "```\n",
        "\n",
        "## comprehensive if-else\n",
        "```\n",
        "True_block if logic else False_block\n",
        "```\n",
        "* if\n",
        "* if-else\n",
        "* if-elif-else"
      ]
    },
    {
      "cell_type": "code",
      "execution_count": 1,
      "id": "491fae9c-0261-4234-83c6-d783df804d07",
      "metadata": {
        "colab": {
          "base_uri": "https://localhost:8080/"
        },
        "id": "491fae9c-0261-4234-83c6-d783df804d07",
        "outputId": "7a726230-97ee-4327-e88d-8dc64dea243c"
      },
      "outputs": [
        {
          "output_type": "stream",
          "name": "stdout",
          "text": [
            "Pakistan zinda bad\n"
          ]
        }
      ],
      "source": [
        "if True:\n",
        "    print(\"Pakistan zinda bad\")\n",
        "else:\n",
        "    print(\"Hello world!\")"
      ]
    },
    {
      "cell_type": "code",
      "execution_count": 2,
      "id": "f1b98332-e7f0-4a7f-9c6a-83ce228c90db",
      "metadata": {
        "colab": {
          "base_uri": "https://localhost:8080/"
        },
        "id": "f1b98332-e7f0-4a7f-9c6a-83ce228c90db",
        "outputId": "f82935b1-8190-4d02-b49c-55ed0e15345e"
      },
      "outputs": [
        {
          "output_type": "stream",
          "name": "stdout",
          "text": [
            "Hello world!\n"
          ]
        }
      ],
      "source": [
        "if False:\n",
        "    print(\"Pakistan zinda bad\")\n",
        "else:\n",
        "    print(\"Hello world!\")"
      ]
    },
    {
      "cell_type": "code",
      "execution_count": 3,
      "id": "c78f4da3-b2b6-4c06-998b-10d75ab01eda",
      "metadata": {
        "colab": {
          "base_uri": "https://localhost:8080/"
        },
        "id": "c78f4da3-b2b6-4c06-998b-10d75ab01eda",
        "outputId": "dc3cbcc7-c97f-4f27-d2ef-c0e65c0ec86e"
      },
      "outputs": [
        {
          "output_type": "stream",
          "name": "stdout",
          "text": [
            "Hello world!\n"
          ]
        }
      ],
      "source": [
        "#     True_block               logic           False_block\n",
        "print(\"Pakistan zinda bad\") if False else print(\"Hello world!\")"
      ]
    },
    {
      "cell_type": "code",
      "execution_count": 4,
      "id": "69660355-6e1c-48ce-867c-411aeff71ff8",
      "metadata": {
        "colab": {
          "base_uri": "https://localhost:8080/"
        },
        "id": "69660355-6e1c-48ce-867c-411aeff71ff8",
        "outputId": "7583961d-2526-4f27-91f3-46bf14ffe190"
      },
      "outputs": [
        {
          "output_type": "stream",
          "name": "stdout",
          "text": [
            "Pakistan zinda bad\n"
          ]
        }
      ],
      "source": [
        "print(\"Pakistan zinda bad\") if True else print(\"Hello world!\")"
      ]
    },
    {
      "cell_type": "markdown",
      "id": "f42ba055-4eaa-49a6-8705-b45c6a5a24fc",
      "metadata": {
        "id": "f42ba055-4eaa-49a6-8705-b45c6a5a24fc"
      },
      "source": [
        "# comparison operators\n",
        "* ==\n",
        "* `>=`\n",
        "* <=\n",
        "* !=\n",
        "## logic\n",
        "* and\n",
        "* or\n",
        "* not"
      ]
    },
    {
      "cell_type": "code",
      "execution_count": 5,
      "id": "3656464b-7e51-43b7-b396-f664780ffb79",
      "metadata": {
        "colab": {
          "base_uri": "https://localhost:8080/"
        },
        "id": "3656464b-7e51-43b7-b396-f664780ffb79",
        "outputId": "97dc8736-1fa6-4304-f2e1-e146f2cdcfa5"
      },
      "outputs": [
        {
          "output_type": "stream",
          "name": "stdout",
          "text": [
            "True Pakistan block\n",
            "1\n",
            "2\n"
          ]
        }
      ],
      "source": [
        "if True:\n",
        "    print(\"True Pakistan block\")\n",
        "\n",
        "print(\"1\")\n",
        "print(\"2\")"
      ]
    },
    {
      "cell_type": "code",
      "execution_count": 6,
      "id": "977f6c16-05b2-40ae-aaab-ffa9dd3e7c50",
      "metadata": {
        "colab": {
          "base_uri": "https://localhost:8080/"
        },
        "id": "977f6c16-05b2-40ae-aaab-ffa9dd3e7c50",
        "outputId": "58bca959-31fe-4005-c7af-83b9a17379e3"
      },
      "outputs": [
        {
          "output_type": "stream",
          "name": "stdout",
          "text": [
            "1\n",
            "2\n"
          ]
        }
      ],
      "source": [
        "if False:\n",
        "    print(\"True Pakistan block\")\n",
        "\n",
        "print(\"1\")\n",
        "print(\"2\")"
      ]
    },
    {
      "cell_type": "code",
      "execution_count": 7,
      "id": "5ff0c8d4-061c-402e-b3de-987452366292",
      "metadata": {
        "colab": {
          "base_uri": "https://localhost:8080/"
        },
        "id": "5ff0c8d4-061c-402e-b3de-987452366292",
        "outputId": "df38dcf5-89aa-4584-f0c6-38087ec8ab27"
      },
      "outputs": [
        {
          "output_type": "stream",
          "name": "stdout",
          "text": [
            "True_block\n"
          ]
        }
      ],
      "source": [
        "if True:\n",
        "    print(\"True_block\")\n",
        "elif False:\n",
        "    print(\"elif logic1\")\n",
        "elif False:\n",
        "    print(\"elif logic2\")\n",
        "elif False:\n",
        "    print(\"elif logic3\")\n",
        "else:\n",
        "    print(\"final else block\")"
      ]
    },
    {
      "cell_type": "code",
      "execution_count": null,
      "id": "a65a30bc-3795-4325-addc-81e9a47c852c",
      "metadata": {
        "id": "a65a30bc-3795-4325-addc-81e9a47c852c",
        "outputId": "99d391ec-0246-4962-e3d5-c7bf8a5ace70"
      },
      "outputs": [
        {
          "name": "stdout",
          "output_type": "stream",
          "text": [
            "elif logic1\n"
          ]
        }
      ],
      "source": [
        "if False:\n",
        "    print(\"True_block\")\n",
        "elif True:\n",
        "    print(\"elif logic1\")\n",
        "elif False:\n",
        "    print(\"elif logic2\")\n",
        "elif False:\n",
        "    print(\"elif logic3\")\n",
        "else:\n",
        "    print(\"final else block\")"
      ]
    },
    {
      "cell_type": "code",
      "execution_count": null,
      "id": "f8ff8546-4022-43e6-85e9-6325384f1fd4",
      "metadata": {
        "id": "f8ff8546-4022-43e6-85e9-6325384f1fd4",
        "outputId": "04d881bc-0c76-4563-b4c8-8e5d857fdc5f"
      },
      "outputs": [
        {
          "name": "stdout",
          "output_type": "stream",
          "text": [
            "elif logic2\n",
            "final else block\n",
            "Pakistan\n"
          ]
        }
      ],
      "source": [
        "# chain1 run only one block\n",
        "if False:\n",
        "    print(\"True_block\")\n",
        "elif False:\n",
        "    print(\"elif logic1\")\n",
        "elif True:\n",
        "    print(\"elif logic2\")\n",
        "elif True:\n",
        "    print(\"elif logic3\")\n",
        "else:\n",
        "    print(\"final else block\")\n",
        "\n",
        "# chain2 run only one block\n",
        "if False:\n",
        "    print(\"True_block\")\n",
        "elif False:\n",
        "    print(\"elif logic1\")\n",
        "elif False:\n",
        "    print(\"elif logic2\")\n",
        "elif False:\n",
        "    print(\"elif logic3\")\n",
        "else:\n",
        "    print(\"final else block\")\n",
        "\n",
        "print(\"Pakistan\")"
      ]
    },
    {
      "cell_type": "markdown",
      "id": "d94f9fdb-8db7-4ce0-852d-77fedff13d56",
      "metadata": {
        "id": "d94f9fdb-8db7-4ce0-852d-77fedff13d56"
      },
      "source": [
        "# Grading Rule\n",
        "https://www.infoworld.com/article/3630372/get-started-with-python-type-hints.html"
      ]
    },
    {
      "cell_type": "code",
      "execution_count": null,
      "id": "8bd9f80c-e3b0-4188-8c10-14a2391a7517",
      "metadata": {
        "id": "8bd9f80c-e3b0-4188-8c10-14a2391a7517",
        "outputId": "892e379a-d4b5-4735-db35-89afe6827465"
      },
      "outputs": [
        {
          "name": "stdout",
          "output_type": "stream",
          "text": [
            "Dear Student your percentage is 88 now your calculated grade is:\t A+\n"
          ]
        }
      ],
      "source": [
        "from typing import Union\n",
        "\n",
        "per : Union[int, float] = 88\n",
        "grade :Union[str, None] = None\n",
        "\n",
        "if per >= 80:\n",
        "    grade = \"A+\"\n",
        "elif per >= 70:\n",
        "    grade = \"A\"\n",
        "elif per >= 60:\n",
        "    grade = \"B\"\n",
        "elif per >= 50:\n",
        "    grade = \"C\"\n",
        "elif per >= 40:\n",
        "    grade = \"D\"\n",
        "elif per >= 33:\n",
        "    grade = \"E\"\n",
        "else:\n",
        "    grade = \"Fail\"\n",
        "\n",
        "print(f\"Dear Student your percentage is {per} now your calculated grade is:\\t {grade}\")\n",
        ""
      ]
    },
    {
      "cell_type": "code",
      "execution_count": null,
      "id": "7a7141ee-4125-42e9-b739-1c8c7691e967",
      "metadata": {
        "id": "7a7141ee-4125-42e9-b739-1c8c7691e967",
        "outputId": "347499e8-add4-441c-e7fd-cef9236d9518"
      },
      "outputs": [
        {
          "name": "stdin",
          "output_type": "stream",
          "text": [
            "Enter your percentage:\t 81\n"
          ]
        },
        {
          "name": "stdout",
          "output_type": "stream",
          "text": [
            "<class 'str'>\n",
            "81\n"
          ]
        }
      ],
      "source": [
        "a = input(\"Enter your percentage:\\t\")\n",
        "print(type(a))\n",
        "print(a)"
      ]
    },
    {
      "cell_type": "code",
      "execution_count": null,
      "id": "e28fa941-ecc7-4729-a772-766aa34c6686",
      "metadata": {
        "id": "e28fa941-ecc7-4729-a772-766aa34c6686",
        "outputId": "982aa570-33a9-4dbd-dfaa-ec78b6044971"
      },
      "outputs": [
        {
          "name": "stdin",
          "output_type": "stream",
          "text": [
            "Enter your percentage:\t 81\n"
          ]
        },
        {
          "name": "stdout",
          "output_type": "stream",
          "text": [
            "<class 'int'>\n",
            "81\n"
          ]
        }
      ],
      "source": [
        "a = int(input(\"Enter your percentage:\\t\"))\n",
        "print(type(a))\n",
        "print(a)"
      ]
    },
    {
      "cell_type": "code",
      "execution_count": null,
      "id": "d9123605-cbb6-4bb0-9859-5e7c7dac79df",
      "metadata": {
        "id": "d9123605-cbb6-4bb0-9859-5e7c7dac79df",
        "outputId": "59e95f2d-afe4-41e0-e52a-aa814c05d19a"
      },
      "outputs": [
        {
          "name": "stdin",
          "output_type": "stream",
          "text": [
            "Enter your percentage:\t 78\n"
          ]
        },
        {
          "name": "stdout",
          "output_type": "stream",
          "text": [
            "Dear Student your percentage is 78 now your calculated grade is:\t A\n"
          ]
        }
      ],
      "source": [
        "from typing import Union\n",
        "\n",
        "per : Union[int, float] = int(input(\"Enter your percentage:\\t\"))\n",
        "grade : Union[str, None] = None\n",
        "\n",
        "if per >= 80:\n",
        "    grade = \"A+\"\n",
        "elif per >= 70:\n",
        "    grade = \"A\"\n",
        "elif per >= 60:\n",
        "    grade = \"B\"\n",
        "elif per >= 50:\n",
        "    grade = \"C\"\n",
        "elif per >= 40:\n",
        "    grade = \"D\"\n",
        "elif per >= 33:\n",
        "    grade = \"E\"\n",
        "else:\n",
        "    grade = \"Fail\"\n",
        "\n",
        "print(f\"Dear Student your percentage is {per} now your calculated grade is:\\t {grade}\")\n",
        ""
      ]
    },
    {
      "cell_type": "code",
      "execution_count": null,
      "id": "6b2f99e2-229c-4221-b355-ac7d53186239",
      "metadata": {
        "id": "6b2f99e2-229c-4221-b355-ac7d53186239"
      },
      "outputs": [],
      "source": [
        "from typing import Union, Optional\n",
        "\n",
        "per : Union[int, float] = 88\n",
        "# per : int | float = 88\n",
        "\n",
        "grade :Optional[str] = None\n",
        "\n",
        "if per >= 80:\n",
        "    grade = \"A+\"\n",
        "elif per >= 70:\n",
        "    grade = \"A\"\n",
        "elif per >= 60:\n",
        "    grade = \"B\"\n",
        "elif per >= 50:\n",
        "    grade = \"C\"\n",
        "elif per >= 40:\n",
        "    grade = \"D\"\n",
        "elif per >= 33:\n",
        "    grade = \"E\"\n",
        "else:\n",
        "    grade = \"Fail\"\n",
        "\n"
      ]
    },
    {
      "cell_type": "markdown",
      "id": "da1b11e7-5b89-43a0-9fd9-7e77ce674322",
      "metadata": {
        "id": "da1b11e7-5b89-43a0-9fd9-7e77ce674322"
      },
      "source": [
        "# Logical Error"
      ]
    },
    {
      "cell_type": "code",
      "execution_count": null,
      "id": "54e7aecc-6e2d-4fcb-9822-1267d6319b5e",
      "metadata": {
        "id": "54e7aecc-6e2d-4fcb-9822-1267d6319b5e",
        "outputId": "7577cd89-62f7-4e54-eff5-403616d11755"
      },
      "outputs": [
        {
          "name": "stdin",
          "output_type": "stream",
          "text": [
            "Enter your percentage:\t 99\n"
          ]
        },
        {
          "name": "stdout",
          "output_type": "stream",
          "text": [
            "Dear Student your percentage is 99 now your calculated grade is:\t Fail\n"
          ]
        }
      ],
      "source": [
        "from typing import Union\n",
        "\n",
        "per : Union[int, float] = int(input(\"Enter your percentage:\\t\"))\n",
        "grade : Union[str, None] = None\n",
        "\n",
        "if per >= 0:\n",
        "    grade = \"Fail\"\n",
        "elif per >= 33:\n",
        "    grade = \"E\"\n",
        "elif per >= 40:\n",
        "    grade = \"D\"\n",
        "elif per >= 50:\n",
        "    grade = \"C\"\n",
        "elif per >= 60:\n",
        "    grade = \"B\"\n",
        "elif per >= 70:\n",
        "    grade = \"A\"\n",
        "else:\n",
        "    grade = \"A+\"\n",
        "\n",
        "print(f\"Dear Student your percentage is {per} now your calculated grade is:\\t {grade}\")\n",
        ""
      ]
    },
    {
      "cell_type": "code",
      "execution_count": null,
      "id": "fed920ee-788e-4511-93d9-2144fc26482c",
      "metadata": {
        "id": "fed920ee-788e-4511-93d9-2144fc26482c",
        "outputId": "40824dbe-a07c-4516-b3e4-a7cf7b717baa"
      },
      "outputs": [
        {
          "name": "stdin",
          "output_type": "stream",
          "text": [
            "Enter your percentage:\t 99\n"
          ]
        },
        {
          "name": "stdout",
          "output_type": "stream",
          "text": [
            "Dear Student your percentage is 99 now your calculated grade is:\t A+\n"
          ]
        }
      ],
      "source": [
        "from typing import Union\n",
        "\n",
        "per : Union[int, float] = int(input(\"Enter your percentage:\\t\"))\n",
        "grade : Union[str, None] = None\n",
        "\n",
        "if per >= 0 and per < 33:\n",
        "    grade = \"Fail\"\n",
        "elif per >= 33 and per < 40:\n",
        "    grade = \"E\"\n",
        "elif per >= 40 and per < 50:\n",
        "    grade = \"D\"\n",
        "elif per >= 50 and per < 60:\n",
        "    grade = \"C\"\n",
        "elif per >= 60 and per <70 :\n",
        "    grade = \"B\"\n",
        "elif per >= 70 and per <80 :\n",
        "    grade = \"A\"\n",
        "elif per >=80 and per <= 100:\n",
        "    grade = \"A+\"\n",
        "\n",
        "print(f\"Dear Student your percentage is {per} now your calculated grade is:\\t {grade}\")\n",
        ""
      ]
    },
    {
      "cell_type": "code",
      "execution_count": null,
      "id": "d636bba5-f3dd-4c45-8124-32ee5c70afbe",
      "metadata": {
        "id": "d636bba5-f3dd-4c45-8124-32ee5c70afbe",
        "outputId": "df2727eb-d747-4f6b-966b-5c0fa294c01d"
      },
      "outputs": [
        {
          "name": "stdin",
          "output_type": "stream",
          "text": [
            "Enter your percentage:\t 80.2\n"
          ]
        },
        {
          "name": "stdout",
          "output_type": "stream",
          "text": [
            "Dear Student your percentage is 80.2 now your calculated grade is:\t A+\n"
          ]
        }
      ],
      "source": [
        "from typing import Union\n",
        "\n",
        "per : Union[int, float] = float(input(\"Enter your percentage:\\t\"))\n",
        "grade : Union[str, None] = None\n",
        "\n",
        "if (per >= 0) and (per < 33):\n",
        "    grade = \"Fail\"\n",
        "elif (per >= 33) and (per < 40):\n",
        "    grade = \"E\"\n",
        "elif (per >= 40) and (per < 50):\n",
        "    grade = \"D\"\n",
        "elif (per >= 50) and (per < 60):\n",
        "    grade = \"C\"\n",
        "elif (per >= 60) and (per <70) :\n",
        "    grade = \"B\"\n",
        "elif (per >= 70) and (per <80) :\n",
        "    grade = \"A\"\n",
        "elif (per >=80) and (per <= 100):\n",
        "    grade = \"A+\"\n",
        "\n",
        "print(f\"Dear Student your percentage is {per} now your calculated grade is:\\t {grade}\")\n",
        ""
      ]
    },
    {
      "cell_type": "markdown",
      "id": "e98c322a-7949-4986-b014-24f842308ecb",
      "metadata": {
        "id": "e98c322a-7949-4986-b014-24f842308ecb"
      },
      "source": [
        "# student percentages\n",
        "https://peps.python.org/pep-0484/#type-aliases"
      ]
    },
    {
      "cell_type": "code",
      "execution_count": null,
      "id": "464bac7f-e3bd-460e-9b74-ca49cdd2164b",
      "metadata": {
        "id": "464bac7f-e3bd-460e-9b74-ca49cdd2164b",
        "outputId": "6873b59e-d589-4cdb-827f-6a8f2efc4fc7"
      },
      "outputs": [
        {
          "name": "stdout",
          "output_type": "stream",
          "text": [
            "[88, 99.9, 50, 51, 65, 70]\n",
            "['A+', 'A+', 'C', 'C', 'B', 'A']\n"
          ]
        }
      ],
      "source": [
        "from typing import Union\n",
        "PerType = Union[float, int]\n",
        "\n",
        "percentages : list[PerType] = [88, 99.9, 50, 51,65,70]\n",
        "\n",
        "grades : list[str] = []\n",
        "\n",
        "for per in percentages:\n",
        "    grade : str = \"\"\n",
        "\n",
        "    if (per >= 0) and (per < 33):\n",
        "        grade = \"Fail\"\n",
        "    elif (per >= 33) and (per < 40):\n",
        "        grade = \"E\"\n",
        "    elif (per >= 40) and (per < 50):\n",
        "        grade = \"D\"\n",
        "    elif (per >= 50) and (per < 60):\n",
        "        grade = \"C\"\n",
        "    elif (per >= 60) and (per <70) :\n",
        "        grade = \"B\"\n",
        "    elif (per >= 70) and (per <80) :\n",
        "        grade = \"A\"\n",
        "    elif (per >=80) and (per <= 100):\n",
        "        grade = \"A+\"\n",
        "\n",
        "    grades.append(grade)\n",
        "\n",
        "print(percentages)\n",
        "print(grades)\n",
        "\n",
        "\n",
        "\n",
        "\n",
        "\n",
        "\n"
      ]
    },
    {
      "cell_type": "code",
      "execution_count": null,
      "id": "dba131ac-2fc1-430c-8013-2b7fc261878f",
      "metadata": {
        "id": "dba131ac-2fc1-430c-8013-2b7fc261878f",
        "outputId": "44c87aaf-c8af-48c2-bc04-631c6ab5e862"
      },
      "outputs": [
        {
          "name": "stdout",
          "output_type": "stream",
          "text": [
            "['Sir Zia', 'Qasim', 'Sir Inam']\n"
          ]
        }
      ],
      "source": [
        "names: list[str] = ['Sir Zia']\n",
        "\n",
        "names.append(\"Qasim\")\n",
        "names.append(\"Sir Inam\")\n",
        "print(names)"
      ]
    },
    {
      "cell_type": "code",
      "execution_count": null,
      "id": "8efda527-66ca-46b4-896c-edc07f39c9a9",
      "metadata": {
        "id": "8efda527-66ca-46b4-896c-edc07f39c9a9",
        "outputId": "fc0b1e98-3c0a-4283-f449-04d51fbd32f2"
      },
      "outputs": [
        {
          "data": {
            "text/plain": [
              "<zip at 0x10c2c00c0>"
            ]
          },
          "execution_count": 33,
          "metadata": {},
          "output_type": "execute_result"
        }
      ],
      "source": [
        "zip(percentages, grades) # <zip at 0x10c2c00c0> generator function iteration perform->list, for"
      ]
    },
    {
      "cell_type": "code",
      "execution_count": null,
      "id": "9a52a74d-9e8f-4a08-abe4-d79654332214",
      "metadata": {
        "id": "9a52a74d-9e8f-4a08-abe4-d79654332214",
        "outputId": "1ec4b75a-de5c-41d2-a0f7-e577c07ce758"
      },
      "outputs": [
        {
          "data": {
            "text/plain": [
              "[(88, 'A+'), (99.9, 'A+'), (50, 'C'), (51, 'C'), (65, 'B'), (70, 'A')]"
            ]
          },
          "execution_count": 41,
          "metadata": {},
          "output_type": "execute_result"
        }
      ],
      "source": [
        "list(zip(percentages, grades))"
      ]
    },
    {
      "cell_type": "code",
      "execution_count": null,
      "id": "2c2f2af5-183f-4768-8c10-62b6cd875c62",
      "metadata": {
        "id": "2c2f2af5-183f-4768-8c10-62b6cd875c62",
        "outputId": "90bd98df-cb34-4d75-9669-945b7afa48ef"
      },
      "outputs": [
        {
          "data": {
            "text/plain": [
              "[0, 1, 2, 3, 4, 5]"
            ]
          },
          "execution_count": 44,
          "metadata": {},
          "output_type": "execute_result"
        }
      ],
      "source": [
        "roll_no: list[int] = list(range(len(percentages)))\n",
        "roll_no"
      ]
    },
    {
      "cell_type": "code",
      "execution_count": null,
      "id": "758ec276-f8d6-4377-895d-2605f9e64795",
      "metadata": {
        "id": "758ec276-f8d6-4377-895d-2605f9e64795",
        "outputId": "e0cc5c71-a01d-4b18-8671-118b3f687f81"
      },
      "outputs": [
        {
          "data": {
            "text/plain": [
              "[(0, 88, 'A+'),\n",
              " (1, 99.9, 'A+'),\n",
              " (2, 50, 'C'),\n",
              " (3, 51, 'C'),\n",
              " (4, 65, 'B'),\n",
              " (5, 70, 'A')]"
            ]
          },
          "execution_count": 46,
          "metadata": {},
          "output_type": "execute_result"
        }
      ],
      "source": [
        "data_base = list(zip(roll_no,percentages, grades))\n",
        "data_base"
      ]
    },
    {
      "cell_type": "code",
      "execution_count": null,
      "id": "e0370432-cb3c-4036-aca7-156b61b82121",
      "metadata": {
        "id": "e0370432-cb3c-4036-aca7-156b61b82121",
        "outputId": "ff9ed89f-4871-4808-baa2-10e843ac5e3d"
      },
      "outputs": [
        {
          "data": {
            "text/plain": [
              "[(0, 88, 'A+'),\n",
              " (1, 99.9, 'A+'),\n",
              " (2, 50, 'C'),\n",
              " (3, 51, 'C'),\n",
              " (4, 65, 'B'),\n",
              " (5, 70, 'A')]"
            ]
          },
          "metadata": {},
          "output_type": "display_data"
        },
        {
          "data": {
            "text/plain": [
              "[(0, 88, 'A+'),\n",
              " (1, 99.9, 'A+'),\n",
              " (2, 50, 'C'),\n",
              " (3, 51, 'C'),\n",
              " (4, 65, 'B'),\n",
              " (5, 70, 'A')]"
            ]
          },
          "execution_count": 47,
          "metadata": {},
          "output_type": "execute_result"
        }
      ],
      "source": [
        "display(data_base)\n",
        "sorted(data_base)"
      ]
    },
    {
      "cell_type": "code",
      "execution_count": null,
      "id": "c8205fa7-79d7-4738-aa1e-27c8937c4836",
      "metadata": {
        "id": "c8205fa7-79d7-4738-aa1e-27c8937c4836",
        "outputId": "9436d5d4-1c40-4338-a2ce-8c08701fe814"
      },
      "outputs": [
        {
          "data": {
            "text/plain": [
              "[(0, 88, 'A+'),\n",
              " (1, 99.9, 'A+'),\n",
              " (2, 50, 'C'),\n",
              " (3, 51, 'C'),\n",
              " (4, 65, 'B'),\n",
              " (5, 70, 'A')]"
            ]
          },
          "metadata": {},
          "output_type": "display_data"
        },
        {
          "data": {
            "text/plain": [
              "[(2, 50, 'C'),\n",
              " (3, 51, 'C'),\n",
              " (4, 65, 'B'),\n",
              " (5, 70, 'A'),\n",
              " (0, 88, 'A+'),\n",
              " (1, 99.9, 'A+')]"
            ]
          },
          "execution_count": 48,
          "metadata": {},
          "output_type": "execute_result"
        }
      ],
      "source": [
        "display(data_base)\n",
        "sorted(data_base, key=lambda x:x[1])"
      ]
    },
    {
      "cell_type": "code",
      "execution_count": null,
      "id": "d878a31d-6adc-47ab-a34c-e2435b4023b3",
      "metadata": {
        "id": "d878a31d-6adc-47ab-a34c-e2435b4023b3",
        "outputId": "603d3e65-574a-492f-832b-879d9b80de64"
      },
      "outputs": [
        {
          "data": {
            "text/plain": [
              "[(0, 88, 'A+'),\n",
              " (1, 99.9, 'A+'),\n",
              " (2, 50, 'C'),\n",
              " (3, 51, 'C'),\n",
              " (4, 65, 'B'),\n",
              " (5, 70, 'A')]"
            ]
          },
          "metadata": {},
          "output_type": "display_data"
        },
        {
          "data": {
            "text/plain": [
              "[(1, 99.9, 'A+'),\n",
              " (0, 88, 'A+'),\n",
              " (5, 70, 'A'),\n",
              " (4, 65, 'B'),\n",
              " (3, 51, 'C'),\n",
              " (2, 50, 'C')]"
            ]
          },
          "execution_count": 49,
          "metadata": {},
          "output_type": "execute_result"
        }
      ],
      "source": [
        "display(data_base)\n",
        "sorted(data_base, key=lambda x:x[1], reverse=True)"
      ]
    },
    {
      "cell_type": "code",
      "execution_count": null,
      "id": "5fe95b3b-6923-434f-beec-01a9adde74f7",
      "metadata": {
        "id": "5fe95b3b-6923-434f-beec-01a9adde74f7",
        "outputId": "0d10aff7-6f6b-4917-fc79-899bf6a82be5"
      },
      "outputs": [
        {
          "name": "stdout",
          "output_type": "stream",
          "text": [
            "Audi\n",
            "BMW\n",
            "Subaru\n",
            "Toyota\n"
          ]
        }
      ],
      "source": [
        "cars : list[str] = ['audi', 'bmw', 'subaru', 'toyota']\n",
        "for car in cars:\n",
        "    if car == 'bmw':\n",
        "     print(car.upper())\n",
        "    else:\n",
        "     print(car.title())"
      ]
    },
    {
      "cell_type": "code",
      "execution_count": null,
      "id": "aeede7df-64d3-46c6-9fbd-1afdb0769bdc",
      "metadata": {
        "id": "aeede7df-64d3-46c6-9fbd-1afdb0769bdc",
        "outputId": "3f51f235-5e34-4b36-d8a5-df4e990a2291"
      },
      "outputs": [
        {
          "name": "stdout",
          "output_type": "stream",
          "text": [
            "toyota\n"
          ]
        },
        {
          "data": {
            "text/plain": [
              "False"
            ]
          },
          "execution_count": 54,
          "metadata": {},
          "output_type": "execute_result"
        }
      ],
      "source": [
        "print(car)\n",
        "car == 'bmw'"
      ]
    },
    {
      "cell_type": "code",
      "execution_count": null,
      "id": "e425c160-4abb-47b1-98f2-115894b6671d",
      "metadata": {
        "id": "e425c160-4abb-47b1-98f2-115894b6671d",
        "outputId": "b0403c5a-f8be-438e-adc0-4cc7864c92b1"
      },
      "outputs": [
        {
          "data": {
            "text/plain": [
              "True"
            ]
          },
          "execution_count": 55,
          "metadata": {},
          "output_type": "execute_result"
        }
      ],
      "source": [
        "car = 'Audi'\n",
        "car.lower() == 'audi'"
      ]
    },
    {
      "cell_type": "code",
      "execution_count": null,
      "id": "4bd149ba-2170-43de-a774-6fae31555408",
      "metadata": {
        "id": "4bd149ba-2170-43de-a774-6fae31555408",
        "outputId": "0775aed8-4987-4f3e-e8e3-92168f169765"
      },
      "outputs": [
        {
          "data": {
            "text/plain": [
              "['Audi', 'BMW', 'Subaru', 'Toyota']"
            ]
          },
          "execution_count": 52,
          "metadata": {},
          "output_type": "execute_result"
        }
      ],
      "source": [
        "cars : list[str] = ['audi', 'bmw', 'subaru', 'toyota']\n",
        "\n",
        "[i.upper() if i=='bmw' else i.title() for i in cars]"
      ]
    },
    {
      "cell_type": "code",
      "execution_count": null,
      "id": "7e34e379-bb62-462f-8947-e271e1a8c34b",
      "metadata": {
        "id": "7e34e379-bb62-462f-8947-e271e1a8c34b",
        "outputId": "bc3eeca1-3048-46db-fa30-11124a9c6b5a"
      },
      "outputs": [
        {
          "name": "stdout",
          "output_type": "stream",
          "text": [
            "AUDI\n",
            "BMW\n",
            "mehran\n",
            "SUBARU\n",
            "TOYOTA\n"
          ]
        }
      ],
      "source": [
        "cars : list[str] = ['audi', 'bmw',\"Mehran\", 'subaru', 'toyota']\n",
        "\n",
        "for car in cars: # in = extract element from iterated types\n",
        "    if car != 'Mehran':\n",
        "        print(car.upper())\n",
        "    else:\n",
        "        print(car.lower())\n",
        ""
      ]
    },
    {
      "cell_type": "code",
      "execution_count": null,
      "id": "541903b0-0e62-429d-ac70-61af82e65837",
      "metadata": {
        "id": "541903b0-0e62-429d-ac70-61af82e65837",
        "outputId": "03a36e0b-47d4-4411-949b-4c0077d96f66"
      },
      "outputs": [
        {
          "name": "stdout",
          "output_type": "stream",
          "text": [
            "That is not the correct answer. Please try again!\n"
          ]
        }
      ],
      "source": [
        "answer = 17\n",
        "if answer != 42:\n",
        "    print(\"That is not the correct answer. Please try again!\")"
      ]
    },
    {
      "cell_type": "code",
      "execution_count": null,
      "id": "6106f5f4-5bd7-4bf5-b35e-fa3d0160e7cd",
      "metadata": {
        "id": "6106f5f4-5bd7-4bf5-b35e-fa3d0160e7cd",
        "outputId": "424e14a1-0aa1-4050-c235-9e706791d649"
      },
      "outputs": [
        {
          "data": {
            "text/plain": [
              "False"
            ]
          },
          "execution_count": 59,
          "metadata": {},
          "output_type": "execute_result"
        }
      ],
      "source": [
        "cars : list[str] = ['audi', 'bmw',\"Mehran\", 'subaru', 'toyota']\n",
        "\n",
        "'changan' in cars"
      ]
    },
    {
      "cell_type": "code",
      "execution_count": null,
      "id": "9e91b211-360d-4092-b6e4-75e24823b7ed",
      "metadata": {
        "id": "9e91b211-360d-4092-b6e4-75e24823b7ed",
        "outputId": "35558b31-9a4c-4e07-f7ba-6b2df057dfb6"
      },
      "outputs": [
        {
          "data": {
            "text/plain": [
              "True"
            ]
          },
          "execution_count": 60,
          "metadata": {},
          "output_type": "execute_result"
        }
      ],
      "source": [
        "cars : list[str] = ['audi', 'bmw',\"Mehran\", 'subaru', 'toyota']\n",
        "\n",
        "'bmw' in cars # True"
      ]
    },
    {
      "cell_type": "code",
      "execution_count": null,
      "id": "aa5f370f-8729-4afd-944d-1f0ba782d9ae",
      "metadata": {
        "id": "aa5f370f-8729-4afd-944d-1f0ba782d9ae",
        "outputId": "29f7a26b-7715-4861-8599-7377e034c515"
      },
      "outputs": [
        {
          "name": "stdout",
          "output_type": "stream",
          "text": [
            "True\n",
            "Marie, you can post a response if you wish.\n"
          ]
        }
      ],
      "source": [
        "banned_users : list[str] = ['andrew', 'carolina', 'david']\n",
        "user : str = 'marie'\n",
        "\n",
        "print(user not in banned_users)\n",
        "\n",
        "if user not in banned_users:\n",
        "    print(f\"{user.title()}, you can post a response if you wish.\")"
      ]
    },
    {
      "cell_type": "code",
      "execution_count": null,
      "id": "59584910-85af-44dc-93f1-9dea07c3e411",
      "metadata": {
        "id": "59584910-85af-44dc-93f1-9dea07c3e411",
        "outputId": "0f4a5dae-7f7b-4546-f6fa-9a4b971e94ca"
      },
      "outputs": [
        {
          "name": "stdout",
          "output_type": "stream",
          "text": [
            "Sorry, you are too young to vote.\n",
            "Please register to vote as soon as you turn 18!\n"
          ]
        }
      ],
      "source": [
        "age: int = 17\n",
        "if age >= 18:\n",
        "    print(\"You are old enough to vote!\")\n",
        "    print(\"Have you registered to vote yet?\")\n",
        "else:\n",
        "    print(\"Sorry, you are too young to vote.\")\n",
        "    print(\"Please register to vote as soon as you turn 18!\")"
      ]
    },
    {
      "cell_type": "code",
      "execution_count": null,
      "id": "483e82c8-ec7d-49d5-a6de-12b545ead6de",
      "metadata": {
        "id": "483e82c8-ec7d-49d5-a6de-12b545ead6de",
        "outputId": "04478e90-3185-42ba-fa43-008167ffe93a"
      },
      "outputs": [
        {
          "name": "stdout",
          "output_type": "stream",
          "text": [
            "Your admission cost is $25.\n"
          ]
        }
      ],
      "source": [
        "age = 12\n",
        "if age < 4:\n",
        "    print(\"Your admission cost is $0.\")\n",
        "elif age < 18:\n",
        "    print(\"Your admission cost is $25.\")\n",
        "else:\n",
        "      print(\"Your admission cost is $40.\")"
      ]
    },
    {
      "cell_type": "code",
      "execution_count": null,
      "id": "5ac78861-5406-4e45-ba88-0fa2b2c03b62",
      "metadata": {
        "id": "5ac78861-5406-4e45-ba88-0fa2b2c03b62",
        "outputId": "2863b729-e44f-4563-cd4e-a3fef4a6fd9e"
      },
      "outputs": [
        {
          "name": "stdout",
          "output_type": "stream",
          "text": [
            "Adding mushrooms.\n",
            "Adding extra cheese.\n",
            "\n",
            "Finished making your pizza!\n"
          ]
        }
      ],
      "source": [
        "requested_toppings : list[str] = ['mushrooms', 'extra cheese']\n",
        "\n",
        "if 'mushrooms' in requested_toppings:\n",
        "      print(\"Adding mushrooms.\")\n",
        "\n",
        "if 'pepperoni' in requested_toppings:\n",
        "    print(\"Adding pepperoni.\")\n",
        "\n",
        "if 'extra cheese' in requested_toppings:\n",
        "    print(\"Adding extra cheese.\")\n",
        "\n",
        "print(\"\\nFinished making your pizza!\")"
      ]
    },
    {
      "cell_type": "code",
      "execution_count": null,
      "id": "467d1263-e24b-4945-99d7-0d493c6d50cc",
      "metadata": {
        "id": "467d1263-e24b-4945-99d7-0d493c6d50cc",
        "outputId": "77bac2c4-d2c2-4ae0-cf38-f7b135629bb7"
      },
      "outputs": [
        {
          "name": "stdout",
          "output_type": "stream",
          "text": [
            "Adding mushrooms.\n",
            "Sorry, we are out of green peppers right now.\n",
            "Adding extra cheese.\n",
            "\n",
            "Finished making your pizza!\n"
          ]
        }
      ],
      "source": [
        "requested_toppings = ['mushrooms', 'green peppers', 'extra cheese']\n",
        "for requested_topping in requested_toppings:\n",
        "    if requested_topping == 'green peppers':\n",
        "        print(\"Sorry, we are out of green peppers right now.\")\n",
        "    else:\n",
        "        print(f\"Adding {requested_topping}.\")\n",
        "print(\"\\nFinished making your pizza!\")"
      ]
    },
    {
      "cell_type": "code",
      "execution_count": null,
      "id": "4aa2263f-13b5-408b-8813-ca3935c7726f",
      "metadata": {
        "id": "4aa2263f-13b5-408b-8813-ca3935c7726f",
        "outputId": "afd5b761-4a2c-4f2f-d052-2c76d6c58d84"
      },
      "outputs": [
        {
          "name": "stdout",
          "output_type": "stream",
          "text": [
            "Are you sure you want a plain pizza?\n"
          ]
        }
      ],
      "source": [
        "requested_toppings = []\n",
        "\n",
        "if requested_toppings:\n",
        "    for requested_topping in requested_toppings:\n",
        "        print(f\"Adding {requested_topping}.\")\n",
        "    print(\"\\nFinished making your pizza!\")\n",
        "else:\n",
        "    print(\"Are you sure you want a plain pizza?\")"
      ]
    },
    {
      "cell_type": "code",
      "execution_count": null,
      "id": "d7b988ca-193c-40c8-a2f5-b880a9db4c84",
      "metadata": {
        "id": "d7b988ca-193c-40c8-a2f5-b880a9db4c84",
        "outputId": "e8451561-d94e-4e00-c58b-904f441f7dac"
      },
      "outputs": [
        {
          "name": "stdout",
          "output_type": "stream",
          "text": [
            "Adding mushrooms.\n",
            "Sorry, we don't have french fries.\n",
            "Adding extra cheese.\n",
            "\n",
            "Finished making your pizza!\n"
          ]
        }
      ],
      "source": [
        "available_toppings:list[str] = ['mushrooms', 'olives', 'green peppers',\n",
        "                        'pepperoni', 'pineapple', 'extra cheese']\n",
        "\n",
        "requested_toppings:list[str] = ['mushrooms', 'french fries', 'extra cheese'] # user input\n",
        "\n",
        "for requested_topping in requested_toppings:\n",
        "    if requested_topping in available_toppings:\n",
        "        print(f\"Adding {requested_topping}.\")\n",
        "    else:\n",
        "        print(f\"Sorry, we don't have {requested_topping}.\")\n",
        "print(\"\\nFinished making your pizza!\")"
      ]
    },
    {
      "cell_type": "code",
      "execution_count": null,
      "id": "52e76e98-5ecd-48e7-8f4b-daad3cd098f2",
      "metadata": {
        "id": "52e76e98-5ecd-48e7-8f4b-daad3cd098f2",
        "outputId": "4f8e7aa8-b4f1-471b-929e-1f350b5f42f5"
      },
      "outputs": [
        {
          "name": "stdin",
          "output_type": "stream",
          "text": [
            "Enter ',' seprated value for topping abc,xyz, pakistan, 123\n"
          ]
        },
        {
          "data": {
            "text/plain": [
              "['abc', 'xyz', ' pakistan', ' 123']"
            ]
          },
          "execution_count": 69,
          "metadata": {},
          "output_type": "execute_result"
        }
      ],
      "source": [
        "input(\"Enter ',' seprated value for topping\").split(\",\")"
      ]
    },
    {
      "cell_type": "code",
      "execution_count": null,
      "id": "add463c4-70c2-4ae5-a79f-205677d7cbb1",
      "metadata": {
        "id": "add463c4-70c2-4ae5-a79f-205677d7cbb1",
        "outputId": "ec1499b0-f6a1-448d-fcc9-8215d760d815"
      },
      "outputs": [
        {
          "name": "stdin",
          "output_type": "stream",
          "text": [
            "Enter user id: \t admin\n",
            "Enter password:\t admin\n"
          ]
        },
        {
          "name": "stdout",
          "output_type": "stream",
          "text": [
            "sent otp on you registered number\n"
          ]
        },
        {
          "name": "stdin",
          "output_type": "stream",
          "text": [
            "Please inter otp 123\n"
          ]
        },
        {
          "name": "stdout",
          "output_type": "stream",
          "text": [
            "Welcom PIAIC\n"
          ]
        }
      ],
      "source": [
        "user_name : str = input(\"Enter user id: \\t\")\n",
        "user_passwrod : str = input(\"Enter password:\\t\")\n",
        "\n",
        "\n",
        "if user_name == 'admin' and user_passwrod == 'admin':\n",
        "    print(\"sent otp on you registered number\")\n",
        "    otp : str = input(\"Please inter otp\")\n",
        "    if otp == '123':\n",
        "        print(\"Welcom PIAIC\")\n",
        "else:\n",
        "    print(\"Invalid user or password\")"
      ]
    },
    {
      "cell_type": "code",
      "execution_count": null,
      "id": "dfd547c9-1b45-4a2d-836a-bb999881c47f",
      "metadata": {
        "id": "dfd547c9-1b45-4a2d-836a-bb999881c47f"
      },
      "outputs": [],
      "source": []
    }
  ],
  "metadata": {
    "kernelspec": {
      "display_name": "Python 3 (ipykernel)",
      "language": "python",
      "name": "python3"
    },
    "language_info": {
      "codemirror_mode": {
        "name": "ipython",
        "version": 3
      },
      "file_extension": ".py",
      "mimetype": "text/x-python",
      "name": "python",
      "nbconvert_exporter": "python",
      "pygments_lexer": "ipython3",
      "version": "3.12.0"
    },
    "colab": {
      "provenance": [],
      "include_colab_link": true
    }
  },
  "nbformat": 4,
  "nbformat_minor": 5
}