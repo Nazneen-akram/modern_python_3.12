{
  "cells": [
    {
      "cell_type": "markdown",
      "metadata": {
        "id": "view-in-github",
        "colab_type": "text"
      },
      "source": [
        "<a href=\"https://colab.research.google.com/github/Nazneen-akram/modern_python_3.12/blob/main/class4(Lists).ipynb\" target=\"_parent\"><img src=\"https://colab.research.google.com/assets/colab-badge.svg\" alt=\"Open In Colab\"/></a>"
      ]
    },
    {
      "cell_type": "code",
      "source": [
        "import pandas as pd\n",
        "table = pd.read_html(\"https://www.w3schools.com/python/python_lists_methods.asp\")\n",
        "table[0]"
      ],
      "metadata": {
        "colab": {
          "base_uri": "https://localhost:8080/",
          "height": 394
        },
        "id": "cCQGP6ezdm4i",
        "outputId": "add2af11-eeba-4a09-862e-51a461c451e5"
      },
      "execution_count": null,
      "outputs": [
        {
          "output_type": "execute_result",
          "data": {
            "text/plain": [
              "       Method                                        Description\n",
              "0    append()             Adds an element at the end of the list\n",
              "1     clear()             Removes all the elements from the list\n",
              "2      copy()                         Returns a copy of the list\n",
              "3     count()  Returns the number of elements with the specif...\n",
              "4    extend()  Add the elements of a list (or any iterable), ...\n",
              "5     index()  Returns the index of the first element with th...\n",
              "6    insert()          Adds an element at the specified position\n",
              "7       pop()      Removes the element at the specified position\n",
              "8    remove()          Removes the item with the specified value\n",
              "9   reverse()                     Reverses the order of the list\n",
              "10     sort()                                     Sorts the list"
            ],
            "text/html": [
              "\n",
              "  <div id=\"df-26e88c42-5877-49f9-960c-4727ab94b3a8\" class=\"colab-df-container\">\n",
              "    <div>\n",
              "<style scoped>\n",
              "    .dataframe tbody tr th:only-of-type {\n",
              "        vertical-align: middle;\n",
              "    }\n",
              "\n",
              "    .dataframe tbody tr th {\n",
              "        vertical-align: top;\n",
              "    }\n",
              "\n",
              "    .dataframe thead th {\n",
              "        text-align: right;\n",
              "    }\n",
              "</style>\n",
              "<table border=\"1\" class=\"dataframe\">\n",
              "  <thead>\n",
              "    <tr style=\"text-align: right;\">\n",
              "      <th></th>\n",
              "      <th>Method</th>\n",
              "      <th>Description</th>\n",
              "    </tr>\n",
              "  </thead>\n",
              "  <tbody>\n",
              "    <tr>\n",
              "      <th>0</th>\n",
              "      <td>append()</td>\n",
              "      <td>Adds an element at the end of the list</td>\n",
              "    </tr>\n",
              "    <tr>\n",
              "      <th>1</th>\n",
              "      <td>clear()</td>\n",
              "      <td>Removes all the elements from the list</td>\n",
              "    </tr>\n",
              "    <tr>\n",
              "      <th>2</th>\n",
              "      <td>copy()</td>\n",
              "      <td>Returns a copy of the list</td>\n",
              "    </tr>\n",
              "    <tr>\n",
              "      <th>3</th>\n",
              "      <td>count()</td>\n",
              "      <td>Returns the number of elements with the specif...</td>\n",
              "    </tr>\n",
              "    <tr>\n",
              "      <th>4</th>\n",
              "      <td>extend()</td>\n",
              "      <td>Add the elements of a list (or any iterable), ...</td>\n",
              "    </tr>\n",
              "    <tr>\n",
              "      <th>5</th>\n",
              "      <td>index()</td>\n",
              "      <td>Returns the index of the first element with th...</td>\n",
              "    </tr>\n",
              "    <tr>\n",
              "      <th>6</th>\n",
              "      <td>insert()</td>\n",
              "      <td>Adds an element at the specified position</td>\n",
              "    </tr>\n",
              "    <tr>\n",
              "      <th>7</th>\n",
              "      <td>pop()</td>\n",
              "      <td>Removes the element at the specified position</td>\n",
              "    </tr>\n",
              "    <tr>\n",
              "      <th>8</th>\n",
              "      <td>remove()</td>\n",
              "      <td>Removes the item with the specified value</td>\n",
              "    </tr>\n",
              "    <tr>\n",
              "      <th>9</th>\n",
              "      <td>reverse()</td>\n",
              "      <td>Reverses the order of the list</td>\n",
              "    </tr>\n",
              "    <tr>\n",
              "      <th>10</th>\n",
              "      <td>sort()</td>\n",
              "      <td>Sorts the list</td>\n",
              "    </tr>\n",
              "  </tbody>\n",
              "</table>\n",
              "</div>\n",
              "    <div class=\"colab-df-buttons\">\n",
              "\n",
              "  <div class=\"colab-df-container\">\n",
              "    <button class=\"colab-df-convert\" onclick=\"convertToInteractive('df-26e88c42-5877-49f9-960c-4727ab94b3a8')\"\n",
              "            title=\"Convert this dataframe to an interactive table.\"\n",
              "            style=\"display:none;\">\n",
              "\n",
              "  <svg xmlns=\"http://www.w3.org/2000/svg\" height=\"24px\" viewBox=\"0 -960 960 960\">\n",
              "    <path d=\"M120-120v-720h720v720H120Zm60-500h600v-160H180v160Zm220 220h160v-160H400v160Zm0 220h160v-160H400v160ZM180-400h160v-160H180v160Zm440 0h160v-160H620v160ZM180-180h160v-160H180v160Zm440 0h160v-160H620v160Z\"/>\n",
              "  </svg>\n",
              "    </button>\n",
              "\n",
              "  <style>\n",
              "    .colab-df-container {\n",
              "      display:flex;\n",
              "      gap: 12px;\n",
              "    }\n",
              "\n",
              "    .colab-df-convert {\n",
              "      background-color: #E8F0FE;\n",
              "      border: none;\n",
              "      border-radius: 50%;\n",
              "      cursor: pointer;\n",
              "      display: none;\n",
              "      fill: #1967D2;\n",
              "      height: 32px;\n",
              "      padding: 0 0 0 0;\n",
              "      width: 32px;\n",
              "    }\n",
              "\n",
              "    .colab-df-convert:hover {\n",
              "      background-color: #E2EBFA;\n",
              "      box-shadow: 0px 1px 2px rgba(60, 64, 67, 0.3), 0px 1px 3px 1px rgba(60, 64, 67, 0.15);\n",
              "      fill: #174EA6;\n",
              "    }\n",
              "\n",
              "    .colab-df-buttons div {\n",
              "      margin-bottom: 4px;\n",
              "    }\n",
              "\n",
              "    [theme=dark] .colab-df-convert {\n",
              "      background-color: #3B4455;\n",
              "      fill: #D2E3FC;\n",
              "    }\n",
              "\n",
              "    [theme=dark] .colab-df-convert:hover {\n",
              "      background-color: #434B5C;\n",
              "      box-shadow: 0px 1px 3px 1px rgba(0, 0, 0, 0.15);\n",
              "      filter: drop-shadow(0px 1px 2px rgba(0, 0, 0, 0.3));\n",
              "      fill: #FFFFFF;\n",
              "    }\n",
              "  </style>\n",
              "\n",
              "    <script>\n",
              "      const buttonEl =\n",
              "        document.querySelector('#df-26e88c42-5877-49f9-960c-4727ab94b3a8 button.colab-df-convert');\n",
              "      buttonEl.style.display =\n",
              "        google.colab.kernel.accessAllowed ? 'block' : 'none';\n",
              "\n",
              "      async function convertToInteractive(key) {\n",
              "        const element = document.querySelector('#df-26e88c42-5877-49f9-960c-4727ab94b3a8');\n",
              "        const dataTable =\n",
              "          await google.colab.kernel.invokeFunction('convertToInteractive',\n",
              "                                                    [key], {});\n",
              "        if (!dataTable) return;\n",
              "\n",
              "        const docLinkHtml = 'Like what you see? Visit the ' +\n",
              "          '<a target=\"_blank\" href=https://colab.research.google.com/notebooks/data_table.ipynb>data table notebook</a>'\n",
              "          + ' to learn more about interactive tables.';\n",
              "        element.innerHTML = '';\n",
              "        dataTable['output_type'] = 'display_data';\n",
              "        await google.colab.output.renderOutput(dataTable, element);\n",
              "        const docLink = document.createElement('div');\n",
              "        docLink.innerHTML = docLinkHtml;\n",
              "        element.appendChild(docLink);\n",
              "      }\n",
              "    </script>\n",
              "  </div>\n",
              "\n",
              "\n",
              "<div id=\"df-1d0efdcd-36d8-4f5f-aae7-05a29a1c8d03\">\n",
              "  <button class=\"colab-df-quickchart\" onclick=\"quickchart('df-1d0efdcd-36d8-4f5f-aae7-05a29a1c8d03')\"\n",
              "            title=\"Suggest charts\"\n",
              "            style=\"display:none;\">\n",
              "\n",
              "<svg xmlns=\"http://www.w3.org/2000/svg\" height=\"24px\"viewBox=\"0 0 24 24\"\n",
              "     width=\"24px\">\n",
              "    <g>\n",
              "        <path d=\"M19 3H5c-1.1 0-2 .9-2 2v14c0 1.1.9 2 2 2h14c1.1 0 2-.9 2-2V5c0-1.1-.9-2-2-2zM9 17H7v-7h2v7zm4 0h-2V7h2v10zm4 0h-2v-4h2v4z\"/>\n",
              "    </g>\n",
              "</svg>\n",
              "  </button>\n",
              "\n",
              "<style>\n",
              "  .colab-df-quickchart {\n",
              "      --bg-color: #E8F0FE;\n",
              "      --fill-color: #1967D2;\n",
              "      --hover-bg-color: #E2EBFA;\n",
              "      --hover-fill-color: #174EA6;\n",
              "      --disabled-fill-color: #AAA;\n",
              "      --disabled-bg-color: #DDD;\n",
              "  }\n",
              "\n",
              "  [theme=dark] .colab-df-quickchart {\n",
              "      --bg-color: #3B4455;\n",
              "      --fill-color: #D2E3FC;\n",
              "      --hover-bg-color: #434B5C;\n",
              "      --hover-fill-color: #FFFFFF;\n",
              "      --disabled-bg-color: #3B4455;\n",
              "      --disabled-fill-color: #666;\n",
              "  }\n",
              "\n",
              "  .colab-df-quickchart {\n",
              "    background-color: var(--bg-color);\n",
              "    border: none;\n",
              "    border-radius: 50%;\n",
              "    cursor: pointer;\n",
              "    display: none;\n",
              "    fill: var(--fill-color);\n",
              "    height: 32px;\n",
              "    padding: 0;\n",
              "    width: 32px;\n",
              "  }\n",
              "\n",
              "  .colab-df-quickchart:hover {\n",
              "    background-color: var(--hover-bg-color);\n",
              "    box-shadow: 0 1px 2px rgba(60, 64, 67, 0.3), 0 1px 3px 1px rgba(60, 64, 67, 0.15);\n",
              "    fill: var(--button-hover-fill-color);\n",
              "  }\n",
              "\n",
              "  .colab-df-quickchart-complete:disabled,\n",
              "  .colab-df-quickchart-complete:disabled:hover {\n",
              "    background-color: var(--disabled-bg-color);\n",
              "    fill: var(--disabled-fill-color);\n",
              "    box-shadow: none;\n",
              "  }\n",
              "\n",
              "  .colab-df-spinner {\n",
              "    border: 2px solid var(--fill-color);\n",
              "    border-color: transparent;\n",
              "    border-bottom-color: var(--fill-color);\n",
              "    animation:\n",
              "      spin 1s steps(1) infinite;\n",
              "  }\n",
              "\n",
              "  @keyframes spin {\n",
              "    0% {\n",
              "      border-color: transparent;\n",
              "      border-bottom-color: var(--fill-color);\n",
              "      border-left-color: var(--fill-color);\n",
              "    }\n",
              "    20% {\n",
              "      border-color: transparent;\n",
              "      border-left-color: var(--fill-color);\n",
              "      border-top-color: var(--fill-color);\n",
              "    }\n",
              "    30% {\n",
              "      border-color: transparent;\n",
              "      border-left-color: var(--fill-color);\n",
              "      border-top-color: var(--fill-color);\n",
              "      border-right-color: var(--fill-color);\n",
              "    }\n",
              "    40% {\n",
              "      border-color: transparent;\n",
              "      border-right-color: var(--fill-color);\n",
              "      border-top-color: var(--fill-color);\n",
              "    }\n",
              "    60% {\n",
              "      border-color: transparent;\n",
              "      border-right-color: var(--fill-color);\n",
              "    }\n",
              "    80% {\n",
              "      border-color: transparent;\n",
              "      border-right-color: var(--fill-color);\n",
              "      border-bottom-color: var(--fill-color);\n",
              "    }\n",
              "    90% {\n",
              "      border-color: transparent;\n",
              "      border-bottom-color: var(--fill-color);\n",
              "    }\n",
              "  }\n",
              "</style>\n",
              "\n",
              "  <script>\n",
              "    async function quickchart(key) {\n",
              "      const quickchartButtonEl =\n",
              "        document.querySelector('#' + key + ' button');\n",
              "      quickchartButtonEl.disabled = true;  // To prevent multiple clicks.\n",
              "      quickchartButtonEl.classList.add('colab-df-spinner');\n",
              "      try {\n",
              "        const charts = await google.colab.kernel.invokeFunction(\n",
              "            'suggestCharts', [key], {});\n",
              "      } catch (error) {\n",
              "        console.error('Error during call to suggestCharts:', error);\n",
              "      }\n",
              "      quickchartButtonEl.classList.remove('colab-df-spinner');\n",
              "      quickchartButtonEl.classList.add('colab-df-quickchart-complete');\n",
              "    }\n",
              "    (() => {\n",
              "      let quickchartButtonEl =\n",
              "        document.querySelector('#df-1d0efdcd-36d8-4f5f-aae7-05a29a1c8d03 button');\n",
              "      quickchartButtonEl.style.display =\n",
              "        google.colab.kernel.accessAllowed ? 'block' : 'none';\n",
              "    })();\n",
              "  </script>\n",
              "</div>\n",
              "    </div>\n",
              "  </div>\n"
            ]
          },
          "metadata": {},
          "execution_count": 5
        }
      ]
    },
    {
      "cell_type": "markdown",
      "metadata": {
        "id": "dA9asHQ_aVyE"
      },
      "source": [
        "# List\n",
        "* dynamic length\n",
        "* hetrogenous data types (Multiple type)\n",
        "* index\n",
        "    * postive 0 to n-1\n",
        "    * negative -1 to length\n",
        "* slicing\n",
        "    * variable `names[start:end:step]`\n",
        "    * start : int = include\n",
        "    * end : int = n-1\n",
        "    * step : int = sequance"
      ]
    },
    {
      "cell_type": "code",
      "execution_count": null,
      "metadata": {
        "id": "sW5KOtdpaVx-"
      },
      "outputs": [],
      "source": [
        "name1 : str = \"Apple\"\n",
        "name2 : str = \"Banana\"\n",
        "name3 : str = \"Strawberry\""
      ]
    },
    {
      "cell_type": "code",
      "execution_count": null,
      "metadata": {
        "colab": {
          "base_uri": "https://localhost:8080/"
        },
        "id": "DP6aGuu2aVyH",
        "outputId": "1b280a7b-98da-4c18-e283-0c0174b74936"
      },
      "outputs": [
        {
          "output_type": "stream",
          "name": "stdout",
          "text": [
            "Apple\n",
            "Apple\n",
            "Banana\n"
          ]
        }
      ],
      "source": [
        "# old way\n",
        "# ->        0          1       2\n",
        "names = [\"Apple\",\"Banana\",\"Strawberry\"] # length-1\n",
        "# <-        -3       -2        -1\n",
        "\n",
        "print(names[0]) # Apple\n",
        "print(names[-3]) # Apple\n",
        "\n",
        "print(names[-2]) # Banana\n"
      ]
    },
    {
      "cell_type": "code",
      "execution_count": null,
      "metadata": {
        "colab": {
          "base_uri": "https://localhost:8080/"
        },
        "id": "xrES25n_aVyJ",
        "outputId": "30fb5011-47b9-4284-d0a9-f0b3a56e36fa"
      },
      "outputs": [
        {
          "output_type": "stream",
          "name": "stdout",
          "text": [
            "20\n"
          ]
        }
      ],
      "source": [
        "from typing import Any\n",
        "\n",
        "# ->                    0        1         2\n",
        "names : list[Any] = [\"Apple\",\"Banana\", \"Strawberry\", 20, True]\n",
        "# <-                    -3     -2          -1\n",
        "\n",
        "print(names[-2])"
      ]
    },
    {
      "cell_type": "code",
      "execution_count": null,
      "metadata": {
        "colab": {
          "base_uri": "https://localhost:8080/"
        },
        "id": "jsLMR_igaVyK",
        "outputId": "7b1f1ce7-2996-4d01-b6e0-89458bdaae55"
      },
      "outputs": [
        {
          "output_type": "stream",
          "name": "stdout",
          "text": [
            "<class 'list'>\n",
            "<class 'str'>\n",
            "My Favourite Fruit is BANANA\n"
          ]
        }
      ],
      "source": [
        "# ->                    0        1         2\n",
        "names : list[Any] = [\"Apple\",\"Banana\",\"Strawberry\"]\n",
        "# <-                    -3     -2          -1\n",
        "\n",
        "print(type(names))\n",
        "print(type(names[-2]))\n",
        "\n",
        "print(f'My Favourite Fruit is {names[-2].upper()}')"
      ]
    },
    {
      "cell_type": "code",
      "execution_count": null,
      "metadata": {
        "colab": {
          "base_uri": "https://localhost:8080/"
        },
        "id": "g5_RbqKUaVyL",
        "outputId": "f0912226-5b50-4229-f8bc-37076c91b08f"
      },
      "outputs": [
        {
          "output_type": "stream",
          "name": "stdout",
          "text": [
            "20\n"
          ]
        }
      ],
      "source": [
        "\n",
        "# ->                    0        1         2\n",
        "names : list[str] = [\"Apple\",\"Banana\", \"Strawberry\", 20, True]\n",
        "# <-                    -3     -2          -1\n",
        "\n",
        "print(names[-2])"
      ]
    },
    {
      "cell_type": "code",
      "execution_count": null,
      "metadata": {
        "colab": {
          "base_uri": "https://localhost:8080/",
          "height": 36
        },
        "id": "knrnc530aVyM",
        "outputId": "51ac955c-d32a-4fc1-c582-3c243a021af2"
      },
      "outputs": [
        {
          "output_type": "execute_result",
          "data": {
            "text/plain": [
              "'abcdef'"
            ],
            "application/vnd.google.colaboratory.intrinsic+json": {
              "type": "string"
            }
          },
          "metadata": {},
          "execution_count": 11
        }
      ],
      "source": [
        "'abcdef'"
      ]
    },
    {
      "cell_type": "code",
      "execution_count": null,
      "metadata": {
        "colab": {
          "base_uri": "https://localhost:8080/"
        },
        "id": "l3QQstXBaVyN",
        "outputId": "f41610fa-0780-48b2-d410-6cb7b87c6209"
      },
      "outputs": [
        {
          "output_type": "execute_result",
          "data": {
            "text/plain": [
              "['a', 'b', 'c', 'd', 'e', 'f']"
            ]
          },
          "metadata": {},
          "execution_count": 12
        }
      ],
      "source": [
        "list('abcdef')"
      ]
    },
    {
      "cell_type": "code",
      "execution_count": null,
      "metadata": {
        "colab": {
          "base_uri": "https://localhost:8080/"
        },
        "id": "OyiBybtBaVyO",
        "outputId": "c30b213c-0665-411f-d6b2-e363fcc5bfc4"
      },
      "outputs": [
        {
          "output_type": "stream",
          "name": "stdout",
          "text": [
            "['A', 'B', 'C', 'D', 'E', 'F', 'G', 'H', 'I', 'J', 'K', 'L', 'M', 'N', 'O', 'P', 'Q', 'R', 'S', 'T', 'U', 'V', 'W', 'X', 'Y', 'X']\n"
          ]
        }
      ],
      "source": [
        "characters : list[str] = list(\"ABCDEFGHIJKLMNOPQRSTUVWXYX\")\n",
        "print(characters)"
      ]
    },
    {
      "cell_type": "code",
      "source": [
        "print(type(characters))"
      ],
      "metadata": {
        "colab": {
          "base_uri": "https://localhost:8080/"
        },
        "id": "sYVbESKuiEnH",
        "outputId": "ddc2ed97-cae2-4958-ba75-8a8543ed6c37"
      },
      "execution_count": null,
      "outputs": [
        {
          "output_type": "stream",
          "name": "stdout",
          "text": [
            "<class 'list'>\n"
          ]
        }
      ]
    },
    {
      "cell_type": "code",
      "execution_count": null,
      "metadata": {
        "colab": {
          "base_uri": "https://localhost:8080/"
        },
        "id": "pBbNtIJcaVyO",
        "outputId": "ca52c2aa-4417-4819-bb3b-1ce26ed5808c"
      },
      "outputs": [
        {
          "output_type": "stream",
          "name": "stdout",
          "text": [
            "['A', 'B']\n",
            "['A', 'B']\n",
            "['A', 'B']\n",
            "['A', 'B']\n",
            "['A', 'B']\n"
          ]
        }
      ],
      "source": [
        "#                          0    1    2                                                                                                                 25\n",
        "characters : list[str] = ['A', 'B', 'C', 'D', 'E', 'F', 'G', 'H', 'I', 'J', 'K', 'L', 'M', 'N', 'O', 'P', 'Q', 'R', 'S', 'T', 'U', 'V', 'W', 'X', 'Y', 'X']\n",
        "#                         -26   -25  -24                                                                                                                         -1\n",
        "\n",
        "# defualt slicing go from left to right\n",
        "print(characters[0:2]) # 0= include : index 2-1 = 1\n",
        "print(characters[:2]) # not pass any number = all\n",
        "print(characters[-26:-24])# 0= include : index -24-1 = -25\n",
        "print(characters[0:2:1]) # 0= include : index 2-1 = 1\n",
        "print(characters[0:2:]) # 0= include : index 2-1 = 1\n"
      ]
    },
    {
      "cell_type": "code",
      "execution_count": null,
      "metadata": {
        "id": "o6vE3mbBaVyP",
        "outputId": "218dbbb2-fd25-4071-948d-c1894fa00206"
      },
      "outputs": [
        {
          "name": "stdout",
          "output_type": "stream",
          "text": [
            "['A', 'B', 'C', 'D', 'E', 'F', 'G', 'H', 'I', 'J', 'K', 'L', 'M', 'N', 'O', 'P', 'Q', 'R', 'S', 'T', 'U', 'V', 'W', 'X', 'Y', 'X']\n"
          ]
        }
      ],
      "source": [
        "characters : list[str] = ['A', 'B', 'C', 'D', 'E', 'F', 'G', 'H', 'I', 'J', 'K', 'L', 'M', 'N', 'O', 'P', 'Q', 'R', 'S', 'T', 'U', 'V', 'W', 'X', 'Y', 'X']\n",
        "\n",
        "print(characters[::])"
      ]
    },
    {
      "cell_type": "code",
      "source": [
        "print(type(characters))"
      ],
      "metadata": {
        "colab": {
          "base_uri": "https://localhost:8080/"
        },
        "id": "Xr08qHORiIAK",
        "outputId": "e8a56310-08d7-4a2e-9229-ec84750920ed"
      },
      "execution_count": null,
      "outputs": [
        {
          "output_type": "stream",
          "name": "stdout",
          "text": [
            "<class 'list'>\n"
          ]
        }
      ]
    },
    {
      "cell_type": "code",
      "execution_count": null,
      "metadata": {
        "id": "c8nIvTlOaVyQ",
        "outputId": "8874bdc3-998b-4a3a-c5e3-84e5dcda291a"
      },
      "outputs": [
        {
          "name": "stdout",
          "output_type": "stream",
          "text": [
            "['A', 'C', 'E', 'G', 'I', 'K', 'M', 'O', 'Q', 'S', 'U', 'W', 'Y']\n"
          ]
        }
      ],
      "source": [
        "characters : list[str] = ['A', 'B', 'C', 'D', 'E', 'F', 'G', 'H', 'I', 'J', 'K', 'L', 'M', 'N', 'O', 'P', 'Q', 'R', 'S', 'T', 'U', 'V', 'W', 'X', 'Y', 'X']\n",
        "\n",
        "print(characters[::2])"
      ]
    },
    {
      "cell_type": "code",
      "execution_count": null,
      "metadata": {
        "id": "wjB4dlKoaVyR",
        "outputId": "b2b02da3-5bc9-4456-8380-ce0eb11f0ab0"
      },
      "outputs": [
        {
          "name": "stdout",
          "output_type": "stream",
          "text": [
            "['B', 'C', 'D', 'E']\n"
          ]
        }
      ],
      "source": [
        "#                          0    1    2    3    4   5     6    7\n",
        "characters : list[str] = ['A', 'B', 'C', 'D', 'E', 'F', 'G', 'H']\n",
        "#                         -8    -7   -6  -5    -4   -3   -2   -1\n",
        "\n",
        "print(characters[1:-3]) # 'B', 'C', 'D', 'E'\n"
      ]
    },
    {
      "cell_type": "code",
      "execution_count": null,
      "metadata": {
        "colab": {
          "base_uri": "https://localhost:8080/"
        },
        "id": "Dgas-KGbaVyR",
        "outputId": "5a6b95c8-0c12-49bf-d42c-d9825a8179d9"
      },
      "outputs": [
        {
          "output_type": "stream",
          "name": "stdout",
          "text": [
            "[]\n"
          ]
        }
      ],
      "source": [
        "#                          0    1    2    3    4   5     6    7\n",
        "characters : list[str] = ['A', 'B', 'C', 'D', 'E', 'F', 'G', 'H']\n",
        "#                         -8    -7   -6  -5    -4   -3   -2   -1\n",
        "\n",
        "# iteration slicing ->\n",
        "# step -> positive\n",
        "# step <- negative\n",
        "print(characters[-2:-5:1])"
      ]
    },
    {
      "cell_type": "code",
      "source": [
        "print(characters[2:-1])"
      ],
      "metadata": {
        "colab": {
          "base_uri": "https://localhost:8080/"
        },
        "id": "ppWBGHuLkbYC",
        "outputId": "4142ebd1-01bf-48e8-ffcb-834372b8ee6e"
      },
      "execution_count": null,
      "outputs": [
        {
          "output_type": "stream",
          "name": "stdout",
          "text": [
            "['C', 'D', 'E', 'F', 'G']\n"
          ]
        }
      ]
    },
    {
      "cell_type": "code",
      "execution_count": null,
      "metadata": {
        "colab": {
          "base_uri": "https://localhost:8080/"
        },
        "id": "IE4H00gyaVyS",
        "outputId": "badd2440-ece7-477c-9067-d9d9f2ec4d16"
      },
      "outputs": [
        {
          "output_type": "stream",
          "name": "stdout",
          "text": [
            "['G', 'F', 'E']\n"
          ]
        }
      ],
      "source": [
        "#                          0    1    2    3    4   5     6    7\n",
        "characters : list[str] = ['A', 'B', 'C', 'D', 'E', 'F', 'G', 'H']\n",
        "#                         -8    -7   -6  -5    -4   -3   -2   -1\n",
        "\n",
        "# iteration slicing ->\n",
        "# step -> positive\n",
        "# step <- negative\n",
        "print(characters[-2:-5:-1])"
      ]
    },
    {
      "cell_type": "code",
      "execution_count": null,
      "metadata": {
        "id": "xWpbS0FIaVyT",
        "outputId": "c153e8e6-ddd9-42e4-e605-d8b763ac814b"
      },
      "outputs": [
        {
          "name": "stdout",
          "output_type": "stream",
          "text": [
            "['Z', 'Y', 'X', 'W', 'V', 'U', 'T', 'S', 'R', 'Q', 'P', 'O', 'N', 'M', 'L', 'K', 'J', 'I', 'H', 'G', 'F', 'E', 'D', 'C', 'B', 'A']\n"
          ]
        }
      ],
      "source": [
        "characters : list[str] = ['A', 'B', 'C', 'D', 'E', 'F', 'G', 'H', 'I', 'J', 'K', 'L', 'M', 'N', 'O', 'P', 'Q', 'R', 'S', 'T', 'U', 'V', 'W', 'X', 'Y', 'Z']\n",
        "\n",
        "print(characters[::-1]) # <-"
      ]
    },
    {
      "cell_type": "markdown",
      "metadata": {
        "id": "7PyEgiKEaVyT"
      },
      "source": [
        "# List methods"
      ]
    },
    {
      "cell_type": "code",
      "execution_count": null,
      "metadata": {
        "id": "Yo6buAPKaVyU",
        "outputId": "818e7f7c-bd3e-4465-834b-c46413b87854"
      },
      "outputs": [
        {
          "data": {
            "text/plain": [
              "['append',\n",
              " 'clear',\n",
              " 'copy',\n",
              " 'count',\n",
              " 'extend',\n",
              " 'index',\n",
              " 'insert',\n",
              " 'pop',\n",
              " 'remove',\n",
              " 'reverse',\n",
              " 'sort']"
            ]
          },
          "execution_count": 29,
          "metadata": {},
          "output_type": "execute_result"
        }
      ],
      "source": [
        "[i for i in dir(list) if \"__\" not in i]"
      ]
    },
    {
      "cell_type": "code",
      "execution_count": null,
      "metadata": {
        "id": "o2IBhmMLaVyU",
        "outputId": "790f3b30-a44a-47a3-84d5-91c000ad3307"
      },
      "outputs": [
        {
          "name": "stdout",
          "output_type": "stream",
          "text": [
            "[1, 2, 3]\n"
          ]
        }
      ],
      "source": [
        "a: list[str] = [1,2,3]\n",
        "print(a)"
      ]
    },
    {
      "cell_type": "code",
      "execution_count": null,
      "metadata": {
        "id": "QZ3lF5eyaVyV",
        "outputId": "d4751306-6932-45b2-88ff-c1652759090a"
      },
      "outputs": [
        {
          "ename": "NameError",
          "evalue": "name 'a' is not defined",
          "output_type": "error",
          "traceback": [
            "\u001b[0;31m---------------------------------------------------------------------------\u001b[0m",
            "\u001b[0;31mNameError\u001b[0m                                 Traceback (most recent call last)",
            "Cell \u001b[0;32mIn[49], line 3\u001b[0m\n\u001b[1;32m      1\u001b[0m a: \u001b[39mlist\u001b[39m[\u001b[39mstr\u001b[39m] \u001b[39m=\u001b[39m [\u001b[39m1\u001b[39m,\u001b[39m2\u001b[39m,\u001b[39m3\u001b[39m]\n\u001b[1;32m      2\u001b[0m \u001b[39mdel\u001b[39;00m a\n\u001b[0;32m----> 3\u001b[0m \u001b[39mprint\u001b[39m(a)\n",
            "\u001b[0;31mNameError\u001b[0m: name 'a' is not defined"
          ]
        }
      ],
      "source": [
        "a: list[str] = [1,2,3]\n",
        "del a # remove object from memory\n",
        "print(a)"
      ]
    },
    {
      "cell_type": "code",
      "execution_count": null,
      "metadata": {
        "id": "2Sk7t8gGaVyV",
        "outputId": "068dcd0f-56ab-47c7-90e6-f0f459454560"
      },
      "outputs": [
        {
          "name": "stdout",
          "output_type": "stream",
          "text": [
            "[]\n"
          ]
        }
      ],
      "source": [
        "a: list[str] = [1,2,3]\n",
        "a.clear()# remove all element but object is ramin\n",
        "print(a)"
      ]
    },
    {
      "cell_type": "markdown",
      "metadata": {
        "id": "p509pSUtaVyV"
      },
      "source": [
        "# Help\n",
        "* help(object)\n",
        "* object?\n",
        "* object??\n",
        "* ?object\n",
        "* ??object\n"
      ]
    },
    {
      "cell_type": "code",
      "execution_count": null,
      "metadata": {
        "id": "lXbbZlKMaVyW",
        "outputId": "d71a0179-9779-4642-fbc6-37bae2c1768b"
      },
      "outputs": [
        {
          "name": "stdout",
          "output_type": "stream",
          "text": [
            "Help on built-in function print in module builtins:\n",
            "\n",
            "print(*args, sep=' ', end='\\n', file=None, flush=False)\n",
            "    Prints the values to a stream, or to sys.stdout by default.\n",
            "\n",
            "    sep\n",
            "      string inserted between values, default a space.\n",
            "    end\n",
            "      string appended after the last value, default a newline.\n",
            "    file\n",
            "      a file-like object (stream); defaults to the current sys.stdout.\n",
            "    flush\n",
            "      whether to forcibly flush the stream.\n",
            "\n"
          ]
        }
      ],
      "source": [
        "help(print)"
      ]
    },
    {
      "cell_type": "code",
      "execution_count": null,
      "metadata": {
        "id": "joDHeokVaVyW",
        "outputId": "604d3bfd-f08d-4db0-d07c-04710a0a11e0"
      },
      "outputs": [
        {
          "name": "stdout",
          "output_type": "stream",
          "text": [
            "\u001b[0;31mSignature:\u001b[0m \u001b[0mprint\u001b[0m\u001b[0;34m(\u001b[0m\u001b[0;34m*\u001b[0m\u001b[0margs\u001b[0m\u001b[0;34m,\u001b[0m \u001b[0msep\u001b[0m\u001b[0;34m=\u001b[0m\u001b[0;34m' '\u001b[0m\u001b[0;34m,\u001b[0m \u001b[0mend\u001b[0m\u001b[0;34m=\u001b[0m\u001b[0;34m'\\n'\u001b[0m\u001b[0;34m,\u001b[0m \u001b[0mfile\u001b[0m\u001b[0;34m=\u001b[0m\u001b[0;32mNone\u001b[0m\u001b[0;34m,\u001b[0m \u001b[0mflush\u001b[0m\u001b[0;34m=\u001b[0m\u001b[0;32mFalse\u001b[0m\u001b[0;34m)\u001b[0m\u001b[0;34m\u001b[0m\u001b[0;34m\u001b[0m\u001b[0m\n",
            "\u001b[0;31mDocstring:\u001b[0m\n",
            "Prints the values to a stream, or to sys.stdout by default.\n",
            "\n",
            "sep\n",
            "  string inserted between values, default a space.\n",
            "end\n",
            "  string appended after the last value, default a newline.\n",
            "file\n",
            "  a file-like object (stream); defaults to the current sys.stdout.\n",
            "flush\n",
            "  whether to forcibly flush the stream.\n",
            "\u001b[0;31mType:\u001b[0m      builtin_function_or_method"
          ]
        }
      ],
      "source": [
        "??print"
      ]
    },
    {
      "cell_type": "code",
      "execution_count": 9,
      "metadata": {
        "id": "qenesqRWaVyW",
        "outputId": "72fc1047-3be3-40d7-e074-3d7af3dd991b",
        "colab": {
          "base_uri": "https://localhost:8080/"
        }
      },
      "outputs": [
        {
          "output_type": "stream",
          "name": "stdout",
          "text": [
            "['Monday', 'Tuesday', 3, 'Thursday', 'Friday']\n",
            "['Monday', 'Tuesday', 'Wednesday', 'Thursday', 'Friday']\n"
          ]
        }
      ],
      "source": [
        "from typing import Any\n",
        "\n",
        "# ->                       0        1         2\n",
        "weekdays: list[Any] = [\"Monday\", \"Tuesday\", 3, \"Thursday\", \"Friday\"]\n",
        "# <-                       -3      -2          -1\n",
        "\n",
        "print(weekdays)\n",
        "\n",
        "weekdays[2] = \"Wednesday\"  # mutable -> editable\n",
        "\n",
        "print(weekdays)\n"
      ]
    },
    {
      "cell_type": "code",
      "execution_count": 10,
      "metadata": {
        "id": "6F5uoyhnaVyW",
        "outputId": "2d4e0f9e-2f67-46c0-c0e1-1d3e3f8ae08b",
        "colab": {
          "base_uri": "https://localhost:8080/"
        }
      },
      "outputs": [
        {
          "output_type": "stream",
          "name": "stdout",
          "text": [
            "['Monday', 'Tuesday', 'Wednesday', 20, True]\n",
            "['Monday', 'Tuesday', 'Wednesday', 20]\n"
          ]
        }
      ],
      "source": [
        "# ->                    0        1         2\n",
        "weekdays : list[Any] = [\"Monday\",\"Tuesday\", \"Wednesday\", 20, True]\n",
        "# <-                    -3     -2          -1\n",
        "\n",
        "print(weekdays)\n",
        "\n",
        "del weekdays[4] # delete 4 index element\n",
        "\n",
        "print(weekdays)"
      ]
    },
    {
      "cell_type": "code",
      "execution_count": 12,
      "metadata": {
        "id": "PmTEdCeZaVyX",
        "outputId": "36fb1c3b-e74a-412c-9dff-1a5faae44332",
        "colab": {
          "base_uri": "https://localhost:8080/",
          "height": 54
        }
      },
      "outputs": [
        {
          "output_type": "stream",
          "name": "stdout",
          "text": [
            "Pakistan\n"
          ]
        },
        {
          "output_type": "display_data",
          "data": {
            "text/plain": [
              "None"
            ]
          },
          "metadata": {}
        }
      ],
      "source": [
        "a : str = print(\"Pakistan\") #  The print function doesn't return any value; it is a \"None-return function.\"\n",
        "display(a)"
      ]
    },
    {
      "cell_type": "code",
      "execution_count": 14,
      "metadata": {
        "id": "BUa7_VhbaVyX",
        "outputId": "21ac2a48-deec-4a0b-f9c9-51b0a079ec13",
        "colab": {
          "base_uri": "https://localhost:8080/",
          "height": 35
        }
      },
      "outputs": [
        {
          "output_type": "display_data",
          "data": {
            "text/plain": [
              "132810877020672"
            ]
          },
          "metadata": {}
        }
      ],
      "source": [
        "a : str = id(weekdays) # return function\n",
        "display(a)"
      ]
    },
    {
      "cell_type": "code",
      "execution_count": null,
      "metadata": {
        "id": "1cJd8decaVyX",
        "outputId": "3ee2fdcf-5fb6-4e84-a0e6-25db0c6741e4"
      },
      "outputs": [
        {
          "data": {
            "text/plain": [
              "['Qasim', 'Sir Zia', 'Sir Inam', True]"
            ]
          },
          "execution_count": 37,
          "metadata": {},
          "output_type": "execute_result"
        }
      ],
      "source": [
        "# ->                    0        1         2\n",
        "names : list[Any] = [\"Qasim\",\"Sir Zia\", \"Sir Inam\", 20, True]\n",
        "# <-                    -3     -2          -1\n",
        "\n",
        "del names[3]\n",
        "names"
      ]
    },
    {
      "cell_type": "markdown",
      "metadata": {
        "id": "wX6wrzysaVyX"
      },
      "source": [
        "### pop method"
      ]
    },
    {
      "cell_type": "code",
      "execution_count": null,
      "metadata": {
        "id": "TpoCn6rkaVyY",
        "outputId": "61ccd515-a5c0-48b8-863b-0cc3bfb7ce58"
      },
      "outputs": [
        {
          "name": "stdout",
          "output_type": "stream",
          "text": [
            "['Qasim', 'Sir Zia', 'Sir Inam', 20, True]\n",
            "True\n"
          ]
        }
      ],
      "source": [
        "# ->                    0        1         2\n",
        "names : list[Any] = [\"Qasim\",\"Sir Zia\", \"Sir Inam\", 20, True]\n",
        "# <-\n",
        "print(names)\n",
        "a : str = names.pop() # pop return method\n",
        "\n",
        "print(a)"
      ]
    },
    {
      "cell_type": "code",
      "execution_count": null,
      "metadata": {
        "id": "oWN583rJaVyY",
        "outputId": "6ec3732a-7ce4-4459-a291-f780876ce2a3"
      },
      "outputs": [
        {
          "name": "stdout",
          "output_type": "stream",
          "text": [
            "['Qasim', 'Sir Zia', 'Sir Inam', 20, True]\n",
            "Qasim\n",
            "['Sir Zia', 'Sir Inam', 20, True]\n"
          ]
        }
      ],
      "source": [
        "# ->                    0        1         2\n",
        "names : list[Any] = [\"Qasim\",\"Sir Zia\", \"Sir Inam\", 20, True]\n",
        "# <-\n",
        "print(names)\n",
        "a : str = names.pop(0) # pop return method\n",
        "\n",
        "print(a)\n",
        "print(names)"
      ]
    },
    {
      "cell_type": "markdown",
      "metadata": {
        "id": "lZOW100PaVyY"
      },
      "source": [
        "## append method add element in last"
      ]
    },
    {
      "cell_type": "code",
      "execution_count": null,
      "metadata": {
        "id": "b1H3jS0uaVyZ",
        "outputId": "19b1e184-c1fd-4971-a032-957522a55af0"
      },
      "outputs": [
        {
          "name": "stdout",
          "output_type": "stream",
          "text": [
            "['a', 'b', 'Sir Zia', 'Sir Inam', 'Qasim']\n"
          ]
        }
      ],
      "source": [
        "names : list[str] = ['a','b']\n",
        "\n",
        "names.append(\"Sir Zia\")# add element in last\n",
        "names.append(\"Sir Inam\") # add element in last\n",
        "names.append(\"Qasim\")# add element in last\n",
        "\n",
        "print(names)"
      ]
    },
    {
      "cell_type": "code",
      "execution_count": null,
      "metadata": {
        "id": "yoMG0KzuaVyZ",
        "outputId": "b45f7e00-1e03-4f43-9ca8-bfa54607bc22"
      },
      "outputs": [
        {
          "name": "stdout",
          "output_type": "stream",
          "text": [
            "['a', 'b', 'c', 'd']\n",
            "['a', 'Qasim', 'b', 'c', 'd']\n"
          ]
        }
      ],
      "source": [
        "names : list[str] = ['a','b','c','d']\n",
        "\n",
        "print(names)\n",
        "\n",
        "names.insert(1, \"Qasim\") # insert on perticular postion\n",
        "\n",
        "print(names)"
      ]
    },
    {
      "cell_type": "code",
      "execution_count": null,
      "metadata": {
        "id": "viVJmMD0aVyZ",
        "outputId": "18e53bd2-d0e5-47db-e747-60c6d028c870"
      },
      "outputs": [
        {
          "name": "stdout",
          "output_type": "stream",
          "text": [
            "Pakistan zinda bad\n",
            "None\n"
          ]
        }
      ],
      "source": [
        "print(print(\"Pakistan zinda bad\"))"
      ]
    },
    {
      "cell_type": "code",
      "execution_count": null,
      "metadata": {
        "id": "OBim2u5RaVyZ",
        "outputId": "3b9446cc-0175-4264-d142-165f8dba4c05"
      },
      "outputs": [
        {
          "name": "stdout",
          "output_type": "stream",
          "text": [
            "['a', 'b', 'c']\n",
            "['a', 'b', 'c']\n"
          ]
        }
      ],
      "source": [
        "a : list[str] = ['a','b','c']\n",
        "b = a\n",
        "\n",
        "print(a)\n",
        "print(b)"
      ]
    },
    {
      "cell_type": "code",
      "execution_count": null,
      "metadata": {
        "id": "H3k02FTRaVya",
        "outputId": "613a4c8a-3df7-4841-af22-121fd4d07690"
      },
      "outputs": [
        {
          "name": "stdout",
          "output_type": "stream",
          "text": [
            "['a', 'b', 'c']\n",
            "['a', 'b', 'c']\n",
            "['pakistan', 'b', 'c']\n",
            "['pakistan', 'b', 'c']\n"
          ]
        }
      ],
      "source": [
        "a : list[str] = ['a','b','c']\n",
        "b = a # shallow copy\n",
        "print(a)\n",
        "print(b)\n",
        "\n",
        "b[0] = 'pakistan' # change only b variable but both variable updated\n",
        "\n",
        "print(a)\n",
        "print(b)"
      ]
    },
    {
      "cell_type": "code",
      "execution_count": null,
      "metadata": {
        "id": "BAAV-NyjaVya",
        "outputId": "470bffc0-f312-403f-c742-d7f8b8eba7d8"
      },
      "outputs": [
        {
          "name": "stdout",
          "output_type": "stream",
          "text": [
            "a ['a', 'b', 'c']\n",
            "b ['a', 'b', 'c']\n",
            "a ['a', 'b', 'c']\n",
            "b ['pakistan', 'b', 'c']\n"
          ]
        }
      ],
      "source": [
        "a : list[str] = ['a','b','c']\n",
        "b = a.copy() # Deep copy\n",
        "print(\"a\",a)\n",
        "print(\"b\",b)\n",
        "\n",
        "b[0] = 'pakistan' # change only b variable but both variable updated\n",
        "\n",
        "print(\"a\",a)\n",
        "print(\"b\",b)"
      ]
    },
    {
      "cell_type": "code",
      "execution_count": null,
      "metadata": {
        "id": "zKTLElffaVyl",
        "outputId": "ff995b45-c2ba-4090-ec26-b7732c081344"
      },
      "outputs": [
        {
          "name": "stdout",
          "output_type": "stream",
          "text": [
            "2\n",
            "3\n"
          ]
        }
      ],
      "source": [
        "# count\n",
        "names : list[str] = ['a','a','a','b','c','c']\n",
        "print(names.count(\"c\"))\n",
        "print(names.count(\"a\"))"
      ]
    },
    {
      "cell_type": "code",
      "execution_count": null,
      "metadata": {
        "id": "S3_98TySaVym",
        "outputId": "d01fe554-de7d-441a-8b09-1bf1104db3a6"
      },
      "outputs": [
        {
          "data": {
            "text/plain": [
              "['Sir Zia', 'Muhammad Qasim', ['Sir Inam', 'Dr Noman']]"
            ]
          },
          "execution_count": 58,
          "metadata": {},
          "output_type": "execute_result"
        }
      ],
      "source": [
        "names : list[str] = [\"Sir Zia\",\"Muhammad Qasim\"] # GenAI founder members\n",
        "\n",
        "new_faculty_members : list[str] = ['Sir Inam',\"Dr Noman\"]\n",
        "\n",
        "names.append(new_faculty_members)\n",
        "\n",
        "names"
      ]
    },
    {
      "cell_type": "code",
      "execution_count": null,
      "metadata": {
        "id": "Q2beDCoSaVym",
        "outputId": "815f9c18-5e82-4df9-b5e9-9907079b2168"
      },
      "outputs": [
        {
          "data": {
            "text/plain": [
              "['Sir Zia', 'Muhammad Qasim', 'Sir Inam', 'Dr Noman']"
            ]
          },
          "execution_count": 59,
          "metadata": {},
          "output_type": "execute_result"
        }
      ],
      "source": [
        "names : list[str] = [\"Sir Zia\",\"Muhammad Qasim\"] # GenAI founder members\n",
        "\n",
        "new_faculty_members : list[str] = ['Sir Inam',\"Dr Noman\"]\n",
        "\n",
        "names.extend(new_faculty_members)\n",
        "\n",
        "names"
      ]
    },
    {
      "cell_type": "code",
      "execution_count": null,
      "metadata": {
        "id": "CdKOmnObaVym",
        "outputId": "b3c6650c-992d-42fd-cc5a-6b096c1f8487"
      },
      "outputs": [
        {
          "data": {
            "text/plain": [
              "['Sir Zia', 'Dr Noman']"
            ]
          },
          "execution_count": 71,
          "metadata": {},
          "output_type": "execute_result"
        }
      ],
      "source": [
        "names : list[str] = [\"Sir Zia\",\"Muhammad Qasim\",'Sir Inam',\"Dr Noman\"] # GenAI founder members\n",
        "\n",
        "\n",
        "del names[1:3]\n",
        "\n",
        "names"
      ]
    },
    {
      "cell_type": "code",
      "execution_count": null,
      "metadata": {
        "id": "kE6k-a75aVym",
        "outputId": "4f41b3fa-b486-4915-9338-9e2600f0ce8a"
      },
      "outputs": [
        {
          "data": {
            "text/plain": [
              "['Sir Zia', 'Sir Inam', 'Dr Noman']"
            ]
          },
          "execution_count": 60,
          "metadata": {},
          "output_type": "execute_result"
        }
      ],
      "source": [
        "names :list[str] = ['Sir Zia', 'Muhammad Qasim', 'Sir Inam', 'Dr Noman']\n",
        "\n",
        "names.remove(\"Muhammad Qasim\") # remove with text value\n",
        "\n",
        "names"
      ]
    },
    {
      "cell_type": "code",
      "execution_count": null,
      "metadata": {
        "id": "kghm12-4aVyn",
        "outputId": "6e2ff295-d73c-4611-fd36-0d82566d3bd5"
      },
      "outputs": [
        {
          "data": {
            "text/plain": [
              "1"
            ]
          },
          "execution_count": 61,
          "metadata": {},
          "output_type": "execute_result"
        }
      ],
      "source": [
        "names :list[str] = ['Sir Zia', 'Muhammad Qasim', 'Sir Inam', 'Dr Noman']\n",
        "\n",
        "names.index(\"Muhammad Qasim\") # 1\n",
        "\n"
      ]
    },
    {
      "cell_type": "code",
      "execution_count": 2,
      "metadata": {
        "id": "q7SXw421aVyn",
        "outputId": "8310823a-8c01-410a-a20f-086499cc67b1",
        "colab": {
          "base_uri": "https://localhost:8080/"
        }
      },
      "outputs": [
        {
          "output_type": "execute_result",
          "data": {
            "text/plain": [
              "4"
            ]
          },
          "metadata": {},
          "execution_count": 2
        }
      ],
      "source": [
        "weekdays :list[str] = ['Monday', 'Tuesday', 'Wednesday', 'Thursday',\"Friday\"]\n",
        "\n",
        "weekdays.index(\"Friday\") # 4\n"
      ]
    },
    {
      "cell_type": "code",
      "execution_count": null,
      "metadata": {
        "id": "e4F0jw9XaVyn",
        "outputId": "751f8447-f113-482b-8a10-caacf36633ea"
      },
      "outputs": [
        {
          "data": {
            "text/plain": [
              "4"
            ]
          },
          "execution_count": 64,
          "metadata": {},
          "output_type": "execute_result"
        }
      ],
      "source": [
        "names :list[str] = ['Sir Zia', 'Muhammad Qasim', 'Sir Inam', 'Dr Noman',\"Muhammad Qasim\"]\n",
        "\n",
        "names.index(\"Muhammad Qasim\",2) # 1"
      ]
    },
    {
      "cell_type": "code",
      "execution_count": null,
      "metadata": {
        "id": "y3yaZCasaVyn",
        "outputId": "7a2b2d0d-d996-4cae-c227-1fe97981d181"
      },
      "outputs": [
        {
          "name": "stdout",
          "output_type": "stream",
          "text": [
            "['A', 'C', 'B', 'D', 'E', 'F']\n",
            "['F', 'E', 'D', 'B', 'C', 'A']\n"
          ]
        }
      ],
      "source": [
        "names :list[str] = list(\"ACBDEF\")\n",
        "print(names)\n",
        "names.reverse() #in-memory = change real data\n",
        "print(names)\n"
      ]
    },
    {
      "cell_type": "code",
      "execution_count": null,
      "metadata": {
        "id": "5mRRD_f1aVyo",
        "outputId": "e0da71a6-fbe8-4858-b564-1f8e5f4acf42"
      },
      "outputs": [
        {
          "name": "stdout",
          "output_type": "stream",
          "text": [
            "['A', 'C', 'B', 'D', 'E', 'F']\n",
            "['A', 'B', 'C', 'D', 'E', 'F']\n"
          ]
        }
      ],
      "source": [
        "names :list[str] = list(\"ACBDEF\")\n",
        "print(names)\n",
        "names.sort() #in-memory = change real data sort\n",
        "print(names)"
      ]
    },
    {
      "cell_type": "code",
      "execution_count": null,
      "metadata": {
        "id": "0ryhZPORaVyo",
        "outputId": "578c8da2-1f4a-4acf-a498-b9861c3a00cf"
      },
      "outputs": [
        {
          "name": "stdout",
          "output_type": "stream",
          "text": [
            "['A', 'C', 'B', 'D', 'E', 'F']\n"
          ]
        },
        {
          "ename": "AttributeError",
          "evalue": "'NoneType' object has no attribute 'reverse'",
          "output_type": "error",
          "traceback": [
            "\u001b[0;31m---------------------------------------------------------------------------\u001b[0m",
            "\u001b[0;31mAttributeError\u001b[0m                            Traceback (most recent call last)",
            "Cell \u001b[0;32mIn[73], line 3\u001b[0m\n\u001b[1;32m      1\u001b[0m names :\u001b[39mlist\u001b[39m[\u001b[39mstr\u001b[39m] \u001b[39m=\u001b[39m \u001b[39mlist\u001b[39m(\u001b[39m\"\u001b[39m\u001b[39mACBDEF\u001b[39m\u001b[39m\"\u001b[39m)\n\u001b[1;32m      2\u001b[0m \u001b[39mprint\u001b[39m(names)\n\u001b[0;32m----> 3\u001b[0m names\u001b[39m.\u001b[39;49msort()\u001b[39m.\u001b[39;49mreverse() \u001b[39m#in-memory = change real data sort\u001b[39;00m\n\u001b[1;32m      4\u001b[0m \u001b[39mprint\u001b[39m(names)\n",
            "\u001b[0;31mAttributeError\u001b[0m: 'NoneType' object has no attribute 'reverse'"
          ]
        }
      ],
      "source": [
        "names :list[str] = list(\"ACBDEF\")\n",
        "print(names)\n",
        "names.sort() #in-memory = change real data sort\n",
        "print(names)"
      ]
    },
    {
      "cell_type": "code",
      "execution_count": null,
      "metadata": {
        "id": "fZ7cc_IUaVyo",
        "outputId": "9c3c1c18-cab5-4082-f789-d5117d9ad267"
      },
      "outputs": [
        {
          "name": "stdout",
          "output_type": "stream",
          "text": [
            "['A', 'C', 'B', 'D', 'E', 'F']\n",
            "['F', 'E', 'D', 'C', 'B', 'A']\n"
          ]
        }
      ],
      "source": [
        "names :list[str] = list(\"ACBDEF\")\n",
        "print(names)\n",
        "names.sort(reverse=True) #in-memory = change real data sort\n",
        "print(names)"
      ]
    },
    {
      "cell_type": "code",
      "execution_count": null,
      "metadata": {
        "id": "3FQTOYPXaVyp",
        "outputId": "69cf8bce-9284-46f9-c03c-879c05ec1ca9"
      },
      "outputs": [
        {
          "name": "stdout",
          "output_type": "stream",
          "text": [
            "6\n"
          ]
        },
        {
          "ename": "IndexError",
          "evalue": "list index out of range",
          "output_type": "error",
          "traceback": [
            "\u001b[0;31m---------------------------------------------------------------------------\u001b[0m",
            "\u001b[0;31mIndexError\u001b[0m                                Traceback (most recent call last)",
            "Cell \u001b[0;32mIn[70], line 3\u001b[0m\n\u001b[1;32m      1\u001b[0m names :\u001b[39mlist\u001b[39m[\u001b[39mstr\u001b[39m] \u001b[39m=\u001b[39m \u001b[39mlist\u001b[39m(\u001b[39m\"\u001b[39m\u001b[39mACBDEF\u001b[39m\u001b[39m\"\u001b[39m)\n\u001b[1;32m      2\u001b[0m \u001b[39mprint\u001b[39m(\u001b[39mlen\u001b[39m(names))\n\u001b[0;32m----> 3\u001b[0m names[\u001b[39m25\u001b[39;49m]\n",
            "\u001b[0;31mIndexError\u001b[0m: list index out of range"
          ]
        }
      ],
      "source": [
        "names :list[str] = list(\"ACBDEF\")\n",
        "print(len(names))\n",
        "names[25]"
      ]
    },
    {
      "cell_type": "markdown",
      "source": [
        "```\n",
        "append()\n",
        "```"
      ],
      "metadata": {
        "id": "2mxWZth3_94k"
      }
    },
    {
      "cell_type": "code",
      "execution_count": 15,
      "metadata": {
        "id": "gdH7QHnNaVyp",
        "colab": {
          "base_uri": "https://localhost:8080/"
        },
        "outputId": "65777a96-b1f8-488a-baf0-7a29a57e05e5"
      },
      "outputs": [
        {
          "output_type": "stream",
          "name": "stdout",
          "text": [
            "[1, 2, 3, 4]\n"
          ]
        }
      ],
      "source": [
        "my_list = [1, 2, 3]\n",
        "my_list.append(4)\n",
        "print(my_list)  # Output: [1, 2, 3, 4]"
      ]
    },
    {
      "cell_type": "markdown",
      "source": [
        "```\n",
        "clear()\n",
        "```"
      ],
      "metadata": {
        "id": "HPyIIGR6AF7Q"
      }
    },
    {
      "cell_type": "code",
      "source": [
        "my_list = [1, 2, 3]\n",
        "my_list.clear()\n",
        "print(my_list)  # Output: [] # clear empties the list elements but does not delete the list"
      ],
      "metadata": {
        "colab": {
          "base_uri": "https://localhost:8080/"
        },
        "id": "Hw3uvsC1AEg0",
        "outputId": "bb9ffc5d-6ac7-4511-8921-c745e2e9a36f"
      },
      "execution_count": 17,
      "outputs": [
        {
          "output_type": "stream",
          "name": "stdout",
          "text": [
            "[]\n"
          ]
        }
      ]
    },
    {
      "cell_type": "markdown",
      "source": [
        "```\n",
        "copy()\n",
        "```"
      ],
      "metadata": {
        "id": "gMqJnSljXHnE"
      }
    },
    {
      "cell_type": "code",
      "source": [
        "original_list = [1,2,3]\n",
        "copied_list = original_list.copy()\n",
        "print(copied_list) #Output: [1,2,3]"
      ],
      "metadata": {
        "colab": {
          "base_uri": "https://localhost:8080/"
        },
        "id": "4PWJOanhAP4i",
        "outputId": "265edef0-aee8-44e4-9215-7121d44e2470"
      },
      "execution_count": 18,
      "outputs": [
        {
          "output_type": "stream",
          "name": "stdout",
          "text": [
            "[1, 2, 3]\n"
          ]
        }
      ]
    },
    {
      "cell_type": "code",
      "source": [
        "print(id(original_list))\n",
        "print(id(copied_list))"
      ],
      "metadata": {
        "colab": {
          "base_uri": "https://localhost:8080/"
        },
        "id": "YZZgL125XJz8",
        "outputId": "48e6201a-6aa4-4747-a382-f8c8e4a53653"
      },
      "execution_count": 19,
      "outputs": [
        {
          "output_type": "stream",
          "name": "stdout",
          "text": [
            "132811301875776\n",
            "132811303428672\n"
          ]
        }
      ]
    },
    {
      "cell_type": "code",
      "source": [
        "#count()\n",
        "\n",
        "mylist = [1,2,3,4 ,5 ,6 ,7 ,5,9 ,10 ]\n",
        "count_of_elements=mylist.count(5)\n",
        "print(count_of_elements) #Output: 2"
      ],
      "metadata": {
        "colab": {
          "base_uri": "https://localhost:8080/"
        },
        "id": "LQ2VkB5zXT-J",
        "outputId": "5bf7f953-3c44-450f-bed2-03737f1f189d"
      },
      "execution_count": 22,
      "outputs": [
        {
          "output_type": "stream",
          "name": "stdout",
          "text": [
            "2\n"
          ]
        }
      ]
    },
    {
      "cell_type": "code",
      "source": [
        "#extend()\n",
        "\n",
        "list_one=[0,'a','b']\n",
        "list_two=['c', 'd', 'e']\n",
        "list_one.extend(list_two)\n",
        "print(list_one) #Output: [0,'a','b','c', 'd', 'e']\n"
      ],
      "metadata": {
        "colab": {
          "base_uri": "https://localhost:8080/"
        },
        "id": "h0Qt0vRqXnfg",
        "outputId": "c4c4e707-f2fd-47ef-b9ad-9085939f2c03"
      },
      "execution_count": 23,
      "outputs": [
        {
          "output_type": "stream",
          "name": "stdout",
          "text": [
            "[0, 'a', 'b', 'c', 'd', 'e']\n"
          ]
        }
      ]
    },
    {
      "cell_type": "code",
      "source": [
        "#index()\n",
        "\n",
        "fruits=['apple','banana','cherry']\n",
        "index_value=fruits.index('banana')\n",
        "print(index_value) #Output: 1"
      ],
      "metadata": {
        "colab": {
          "base_uri": "https://localhost:8080/"
        },
        "id": "mltl6mzrXx_c",
        "outputId": "3c150ca2-6910-4573-94d3-fd83eae851d9"
      },
      "execution_count": 24,
      "outputs": [
        {
          "output_type": "stream",
          "name": "stdout",
          "text": [
            "1\n"
          ]
        }
      ]
    },
    {
      "cell_type": "code",
      "source": [
        "# insert()\n",
        "\n",
        "fruits=['apple','banana','cherry']\n",
        "fruits.insert(0,'orange')\n",
        "print(fruits) #Output:['orange', 'apple', 'banana', 'cherry']"
      ],
      "metadata": {
        "colab": {
          "base_uri": "https://localhost:8080/"
        },
        "id": "kiUqOY9LX2iO",
        "outputId": "aec5049b-7485-4e3b-ab7c-4808d6b752f1"
      },
      "execution_count": 25,
      "outputs": [
        {
          "output_type": "stream",
          "name": "stdout",
          "text": [
            "['orange', 'apple', 'banana', 'cherry']\n"
          ]
        }
      ]
    },
    {
      "cell_type": "code",
      "source": [
        "#pop()\n",
        "\n",
        "numbers=[10 ,20 ,30 ,40 ]\n",
        "popped_element=numbers.pop(0)\n",
        "print(popped_element,numbers)#output :10,[20 ,30 ,40]\n"
      ],
      "metadata": {
        "colab": {
          "base_uri": "https://localhost:8080/"
        },
        "id": "dmPo_N_tX6fv",
        "outputId": "d1aaf3f1-88b6-4fe1-cb5e-25981e0f3933"
      },
      "execution_count": 26,
      "outputs": [
        {
          "output_type": "stream",
          "name": "stdout",
          "text": [
            "10 [20, 30, 40]\n"
          ]
        }
      ]
    },
    {
      "cell_type": "code",
      "source": [
        "#remove()\n",
        "\n",
        "colors=['red' ,'blue' ,'green' ,'yellow' ]\n",
        "colors.remove('blue')\n",
        "print(colors)#output :['red' ,'green' ,'yellow']\n"
      ],
      "metadata": {
        "colab": {
          "base_uri": "https://localhost:8080/"
        },
        "id": "B5h-HTE0YE_8",
        "outputId": "5909d74e-35a0-40ce-c456-c301b3db9d9a"
      },
      "execution_count": 27,
      "outputs": [
        {
          "output_type": "stream",
          "name": "stdout",
          "text": [
            "['red', 'green', 'yellow']\n"
          ]
        }
      ]
    },
    {
      "cell_type": "code",
      "source": [
        "#reverse()\n",
        "\n",
        "alphabets=['a' ,'b' ,'c' ,'d' ,'e' ]\n",
        "alphabets.reverse()\n",
        "print(alphabets)#output :['e' ,'d' ,'c' ,'b' ,'a']\n"
      ],
      "metadata": {
        "colab": {
          "base_uri": "https://localhost:8080/"
        },
        "id": "vpzE8HX_YMS9",
        "outputId": "0f85dfd0-02e6-42c6-d009-00a2000cbe82"
      },
      "execution_count": 28,
      "outputs": [
        {
          "output_type": "stream",
          "name": "stdout",
          "text": [
            "['e', 'd', 'c', 'b', 'a']\n"
          ]
        }
      ]
    },
    {
      "cell_type": "code",
      "source": [
        "#sort()\n",
        "\n",
        "numbers=[10 ,20 ,30 ,40 ]\n",
        "numbers.sort(reverse=True)\n",
        "print(numbers)#output :[40 ,30 ,20 ,10]"
      ],
      "metadata": {
        "colab": {
          "base_uri": "https://localhost:8080/"
        },
        "id": "dkwg0hPDYPt0",
        "outputId": "480b08f2-b515-4549-c19f-5b01c9f1ed2b"
      },
      "execution_count": 29,
      "outputs": [
        {
          "output_type": "stream",
          "name": "stdout",
          "text": [
            "[40, 30, 20, 10]\n"
          ]
        }
      ]
    }
  ],
  "metadata": {
    "kernelspec": {
      "display_name": "python12",
      "language": "python",
      "name": "python3"
    },
    "language_info": {
      "codemirror_mode": {
        "name": "ipython",
        "version": 3
      },
      "file_extension": ".py",
      "mimetype": "text/x-python",
      "name": "python",
      "nbconvert_exporter": "python",
      "pygments_lexer": "ipython3",
      "version": "3.12.0"
    },
    "orig_nbformat": 4,
    "colab": {
      "provenance": [],
      "include_colab_link": true
    }
  },
  "nbformat": 4,
  "nbformat_minor": 0
}