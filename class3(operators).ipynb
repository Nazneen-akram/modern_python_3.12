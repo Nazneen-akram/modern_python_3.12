{
  "cells": [
    {
      "cell_type": "markdown",
      "metadata": {
        "id": "view-in-github",
        "colab_type": "text"
      },
      "source": [
        "<a href=\"https://colab.research.google.com/github/Nazneen-akram/modern_python_3.12/blob/main/class3(operators).ipynb\" target=\"_parent\"><img src=\"https://colab.research.google.com/assets/colab-badge.svg\" alt=\"Open In Colab\"/></a>"
      ]
    },
    {
      "cell_type": "markdown",
      "metadata": {
        "id": "1IBbq_1CxVSJ"
      },
      "source": [
        "# Python divides the operators in the following groups:\n",
        "\n",
        "* Arithmetic operators\n",
        "* Assignment operators\n",
        "* Comparison operators\n",
        "* Logical operators\n",
        "* Identity operators\n",
        "* Membership operators\n",
        "* Bitwise operators"
      ]
    },
    {
      "cell_type": "markdown",
      "metadata": {
        "id": "UR4Iz8gYxVSQ"
      },
      "source": [
        "# Python Arithmetic Operators"
      ]
    },
    {
      "cell_type": "code",
      "execution_count": 4,
      "metadata": {
        "colab": {
          "base_uri": "https://localhost:8080/",
          "height": 269
        },
        "id": "eDlstWK8xVSR",
        "outputId": "3ec3aa7b-e6a0-4fb2-8ec3-8138bd5b2964"
      },
      "outputs": [
        {
          "output_type": "execute_result",
          "data": {
            "text/plain": [
              "  Operator            Name Example    Try it\n",
              "0        +        Addition   x + y  Try it »\n",
              "1        -     Subtraction   x - y  Try it »\n",
              "2        *  Multiplication   x * y  Try it »\n",
              "3        /        Division   x / y  Try it »\n",
              "4        %         Modulus   x % y  Try it »\n",
              "5       **  Exponentiation  x ** y  Try it »\n",
              "6       //  Floor division  x // y  Try it »"
            ],
            "text/html": [
              "\n",
              "  <div id=\"df-28bcf0e5-9378-4ee2-811a-cc8451eba3e0\" class=\"colab-df-container\">\n",
              "    <div>\n",
              "<style scoped>\n",
              "    .dataframe tbody tr th:only-of-type {\n",
              "        vertical-align: middle;\n",
              "    }\n",
              "\n",
              "    .dataframe tbody tr th {\n",
              "        vertical-align: top;\n",
              "    }\n",
              "\n",
              "    .dataframe thead th {\n",
              "        text-align: right;\n",
              "    }\n",
              "</style>\n",
              "<table border=\"1\" class=\"dataframe\">\n",
              "  <thead>\n",
              "    <tr style=\"text-align: right;\">\n",
              "      <th></th>\n",
              "      <th>Operator</th>\n",
              "      <th>Name</th>\n",
              "      <th>Example</th>\n",
              "      <th>Try it</th>\n",
              "    </tr>\n",
              "  </thead>\n",
              "  <tbody>\n",
              "    <tr>\n",
              "      <th>0</th>\n",
              "      <td>+</td>\n",
              "      <td>Addition</td>\n",
              "      <td>x + y</td>\n",
              "      <td>Try it »</td>\n",
              "    </tr>\n",
              "    <tr>\n",
              "      <th>1</th>\n",
              "      <td>-</td>\n",
              "      <td>Subtraction</td>\n",
              "      <td>x - y</td>\n",
              "      <td>Try it »</td>\n",
              "    </tr>\n",
              "    <tr>\n",
              "      <th>2</th>\n",
              "      <td>*</td>\n",
              "      <td>Multiplication</td>\n",
              "      <td>x * y</td>\n",
              "      <td>Try it »</td>\n",
              "    </tr>\n",
              "    <tr>\n",
              "      <th>3</th>\n",
              "      <td>/</td>\n",
              "      <td>Division</td>\n",
              "      <td>x / y</td>\n",
              "      <td>Try it »</td>\n",
              "    </tr>\n",
              "    <tr>\n",
              "      <th>4</th>\n",
              "      <td>%</td>\n",
              "      <td>Modulus</td>\n",
              "      <td>x % y</td>\n",
              "      <td>Try it »</td>\n",
              "    </tr>\n",
              "    <tr>\n",
              "      <th>5</th>\n",
              "      <td>**</td>\n",
              "      <td>Exponentiation</td>\n",
              "      <td>x ** y</td>\n",
              "      <td>Try it »</td>\n",
              "    </tr>\n",
              "    <tr>\n",
              "      <th>6</th>\n",
              "      <td>//</td>\n",
              "      <td>Floor division</td>\n",
              "      <td>x // y</td>\n",
              "      <td>Try it »</td>\n",
              "    </tr>\n",
              "  </tbody>\n",
              "</table>\n",
              "</div>\n",
              "    <div class=\"colab-df-buttons\">\n",
              "\n",
              "  <div class=\"colab-df-container\">\n",
              "    <button class=\"colab-df-convert\" onclick=\"convertToInteractive('df-28bcf0e5-9378-4ee2-811a-cc8451eba3e0')\"\n",
              "            title=\"Convert this dataframe to an interactive table.\"\n",
              "            style=\"display:none;\">\n",
              "\n",
              "  <svg xmlns=\"http://www.w3.org/2000/svg\" height=\"24px\" viewBox=\"0 -960 960 960\">\n",
              "    <path d=\"M120-120v-720h720v720H120Zm60-500h600v-160H180v160Zm220 220h160v-160H400v160Zm0 220h160v-160H400v160ZM180-400h160v-160H180v160Zm440 0h160v-160H620v160ZM180-180h160v-160H180v160Zm440 0h160v-160H620v160Z\"/>\n",
              "  </svg>\n",
              "    </button>\n",
              "\n",
              "  <style>\n",
              "    .colab-df-container {\n",
              "      display:flex;\n",
              "      gap: 12px;\n",
              "    }\n",
              "\n",
              "    .colab-df-convert {\n",
              "      background-color: #E8F0FE;\n",
              "      border: none;\n",
              "      border-radius: 50%;\n",
              "      cursor: pointer;\n",
              "      display: none;\n",
              "      fill: #1967D2;\n",
              "      height: 32px;\n",
              "      padding: 0 0 0 0;\n",
              "      width: 32px;\n",
              "    }\n",
              "\n",
              "    .colab-df-convert:hover {\n",
              "      background-color: #E2EBFA;\n",
              "      box-shadow: 0px 1px 2px rgba(60, 64, 67, 0.3), 0px 1px 3px 1px rgba(60, 64, 67, 0.15);\n",
              "      fill: #174EA6;\n",
              "    }\n",
              "\n",
              "    .colab-df-buttons div {\n",
              "      margin-bottom: 4px;\n",
              "    }\n",
              "\n",
              "    [theme=dark] .colab-df-convert {\n",
              "      background-color: #3B4455;\n",
              "      fill: #D2E3FC;\n",
              "    }\n",
              "\n",
              "    [theme=dark] .colab-df-convert:hover {\n",
              "      background-color: #434B5C;\n",
              "      box-shadow: 0px 1px 3px 1px rgba(0, 0, 0, 0.15);\n",
              "      filter: drop-shadow(0px 1px 2px rgba(0, 0, 0, 0.3));\n",
              "      fill: #FFFFFF;\n",
              "    }\n",
              "  </style>\n",
              "\n",
              "    <script>\n",
              "      const buttonEl =\n",
              "        document.querySelector('#df-28bcf0e5-9378-4ee2-811a-cc8451eba3e0 button.colab-df-convert');\n",
              "      buttonEl.style.display =\n",
              "        google.colab.kernel.accessAllowed ? 'block' : 'none';\n",
              "\n",
              "      async function convertToInteractive(key) {\n",
              "        const element = document.querySelector('#df-28bcf0e5-9378-4ee2-811a-cc8451eba3e0');\n",
              "        const dataTable =\n",
              "          await google.colab.kernel.invokeFunction('convertToInteractive',\n",
              "                                                    [key], {});\n",
              "        if (!dataTable) return;\n",
              "\n",
              "        const docLinkHtml = 'Like what you see? Visit the ' +\n",
              "          '<a target=\"_blank\" href=https://colab.research.google.com/notebooks/data_table.ipynb>data table notebook</a>'\n",
              "          + ' to learn more about interactive tables.';\n",
              "        element.innerHTML = '';\n",
              "        dataTable['output_type'] = 'display_data';\n",
              "        await google.colab.output.renderOutput(dataTable, element);\n",
              "        const docLink = document.createElement('div');\n",
              "        docLink.innerHTML = docLinkHtml;\n",
              "        element.appendChild(docLink);\n",
              "      }\n",
              "    </script>\n",
              "  </div>\n",
              "\n",
              "\n",
              "<div id=\"df-4c80dd24-f5fc-49ef-8b4f-087b950d99e0\">\n",
              "  <button class=\"colab-df-quickchart\" onclick=\"quickchart('df-4c80dd24-f5fc-49ef-8b4f-087b950d99e0')\"\n",
              "            title=\"Suggest charts\"\n",
              "            style=\"display:none;\">\n",
              "\n",
              "<svg xmlns=\"http://www.w3.org/2000/svg\" height=\"24px\"viewBox=\"0 0 24 24\"\n",
              "     width=\"24px\">\n",
              "    <g>\n",
              "        <path d=\"M19 3H5c-1.1 0-2 .9-2 2v14c0 1.1.9 2 2 2h14c1.1 0 2-.9 2-2V5c0-1.1-.9-2-2-2zM9 17H7v-7h2v7zm4 0h-2V7h2v10zm4 0h-2v-4h2v4z\"/>\n",
              "    </g>\n",
              "</svg>\n",
              "  </button>\n",
              "\n",
              "<style>\n",
              "  .colab-df-quickchart {\n",
              "      --bg-color: #E8F0FE;\n",
              "      --fill-color: #1967D2;\n",
              "      --hover-bg-color: #E2EBFA;\n",
              "      --hover-fill-color: #174EA6;\n",
              "      --disabled-fill-color: #AAA;\n",
              "      --disabled-bg-color: #DDD;\n",
              "  }\n",
              "\n",
              "  [theme=dark] .colab-df-quickchart {\n",
              "      --bg-color: #3B4455;\n",
              "      --fill-color: #D2E3FC;\n",
              "      --hover-bg-color: #434B5C;\n",
              "      --hover-fill-color: #FFFFFF;\n",
              "      --disabled-bg-color: #3B4455;\n",
              "      --disabled-fill-color: #666;\n",
              "  }\n",
              "\n",
              "  .colab-df-quickchart {\n",
              "    background-color: var(--bg-color);\n",
              "    border: none;\n",
              "    border-radius: 50%;\n",
              "    cursor: pointer;\n",
              "    display: none;\n",
              "    fill: var(--fill-color);\n",
              "    height: 32px;\n",
              "    padding: 0;\n",
              "    width: 32px;\n",
              "  }\n",
              "\n",
              "  .colab-df-quickchart:hover {\n",
              "    background-color: var(--hover-bg-color);\n",
              "    box-shadow: 0 1px 2px rgba(60, 64, 67, 0.3), 0 1px 3px 1px rgba(60, 64, 67, 0.15);\n",
              "    fill: var(--button-hover-fill-color);\n",
              "  }\n",
              "\n",
              "  .colab-df-quickchart-complete:disabled,\n",
              "  .colab-df-quickchart-complete:disabled:hover {\n",
              "    background-color: var(--disabled-bg-color);\n",
              "    fill: var(--disabled-fill-color);\n",
              "    box-shadow: none;\n",
              "  }\n",
              "\n",
              "  .colab-df-spinner {\n",
              "    border: 2px solid var(--fill-color);\n",
              "    border-color: transparent;\n",
              "    border-bottom-color: var(--fill-color);\n",
              "    animation:\n",
              "      spin 1s steps(1) infinite;\n",
              "  }\n",
              "\n",
              "  @keyframes spin {\n",
              "    0% {\n",
              "      border-color: transparent;\n",
              "      border-bottom-color: var(--fill-color);\n",
              "      border-left-color: var(--fill-color);\n",
              "    }\n",
              "    20% {\n",
              "      border-color: transparent;\n",
              "      border-left-color: var(--fill-color);\n",
              "      border-top-color: var(--fill-color);\n",
              "    }\n",
              "    30% {\n",
              "      border-color: transparent;\n",
              "      border-left-color: var(--fill-color);\n",
              "      border-top-color: var(--fill-color);\n",
              "      border-right-color: var(--fill-color);\n",
              "    }\n",
              "    40% {\n",
              "      border-color: transparent;\n",
              "      border-right-color: var(--fill-color);\n",
              "      border-top-color: var(--fill-color);\n",
              "    }\n",
              "    60% {\n",
              "      border-color: transparent;\n",
              "      border-right-color: var(--fill-color);\n",
              "    }\n",
              "    80% {\n",
              "      border-color: transparent;\n",
              "      border-right-color: var(--fill-color);\n",
              "      border-bottom-color: var(--fill-color);\n",
              "    }\n",
              "    90% {\n",
              "      border-color: transparent;\n",
              "      border-bottom-color: var(--fill-color);\n",
              "    }\n",
              "  }\n",
              "</style>\n",
              "\n",
              "  <script>\n",
              "    async function quickchart(key) {\n",
              "      const quickchartButtonEl =\n",
              "        document.querySelector('#' + key + ' button');\n",
              "      quickchartButtonEl.disabled = true;  // To prevent multiple clicks.\n",
              "      quickchartButtonEl.classList.add('colab-df-spinner');\n",
              "      try {\n",
              "        const charts = await google.colab.kernel.invokeFunction(\n",
              "            'suggestCharts', [key], {});\n",
              "      } catch (error) {\n",
              "        console.error('Error during call to suggestCharts:', error);\n",
              "      }\n",
              "      quickchartButtonEl.classList.remove('colab-df-spinner');\n",
              "      quickchartButtonEl.classList.add('colab-df-quickchart-complete');\n",
              "    }\n",
              "    (() => {\n",
              "      let quickchartButtonEl =\n",
              "        document.querySelector('#df-4c80dd24-f5fc-49ef-8b4f-087b950d99e0 button');\n",
              "      quickchartButtonEl.style.display =\n",
              "        google.colab.kernel.accessAllowed ? 'block' : 'none';\n",
              "    })();\n",
              "  </script>\n",
              "</div>\n",
              "    </div>\n",
              "  </div>\n"
            ]
          },
          "metadata": {},
          "execution_count": 4
        }
      ],
      "source": [
        "import pandas as pd\n",
        "\n",
        "table = pd.read_html('https://www.w3schools.com/python/python_operators.asp') # reads HTML tables from a given URL or string and returns a list of DataFrame objects\n",
        "table[0]"
      ]
    },
    {
      "cell_type": "code",
      "source": [
        "table[1]"
      ],
      "metadata": {
        "colab": {
          "base_uri": "https://localhost:8080/",
          "height": 457
        },
        "id": "z4K2wq4jx5Tm",
        "outputId": "eae91470-0876-459c-f358-b07538d19111"
      },
      "execution_count": 3,
      "outputs": [
        {
          "output_type": "execute_result",
          "data": {
            "text/plain": [
              "   Operator  Example     Same As    Try it\n",
              "0         =    x = 5       x = 5  Try it »\n",
              "1        +=   x += 3   x = x + 3  Try it »\n",
              "2        -=   x -= 3   x = x - 3  Try it »\n",
              "3        *=   x *= 3   x = x * 3  Try it »\n",
              "4        /=   x /= 3   x = x / 3  Try it »\n",
              "5        %=   x %= 3   x = x % 3  Try it »\n",
              "6       //=  x //= 3  x = x // 3  Try it »\n",
              "7       **=  x **= 3  x = x ** 3  Try it »\n",
              "8        &=   x &= 3   x = x & 3  Try it »\n",
              "9        |=   x |= 3   x = x | 3  Try it »\n",
              "10       ^=   x ^= 3   x = x ^ 3  Try it »\n",
              "11      >>=  x >>= 3  x = x >> 3  Try it »\n",
              "12      <<=  x <<= 3  x = x << 3  Try it »"
            ],
            "text/html": [
              "\n",
              "  <div id=\"df-581f5c3d-59a2-4b6e-b39b-8941aa8d31b9\" class=\"colab-df-container\">\n",
              "    <div>\n",
              "<style scoped>\n",
              "    .dataframe tbody tr th:only-of-type {\n",
              "        vertical-align: middle;\n",
              "    }\n",
              "\n",
              "    .dataframe tbody tr th {\n",
              "        vertical-align: top;\n",
              "    }\n",
              "\n",
              "    .dataframe thead th {\n",
              "        text-align: right;\n",
              "    }\n",
              "</style>\n",
              "<table border=\"1\" class=\"dataframe\">\n",
              "  <thead>\n",
              "    <tr style=\"text-align: right;\">\n",
              "      <th></th>\n",
              "      <th>Operator</th>\n",
              "      <th>Example</th>\n",
              "      <th>Same As</th>\n",
              "      <th>Try it</th>\n",
              "    </tr>\n",
              "  </thead>\n",
              "  <tbody>\n",
              "    <tr>\n",
              "      <th>0</th>\n",
              "      <td>=</td>\n",
              "      <td>x = 5</td>\n",
              "      <td>x = 5</td>\n",
              "      <td>Try it »</td>\n",
              "    </tr>\n",
              "    <tr>\n",
              "      <th>1</th>\n",
              "      <td>+=</td>\n",
              "      <td>x += 3</td>\n",
              "      <td>x = x + 3</td>\n",
              "      <td>Try it »</td>\n",
              "    </tr>\n",
              "    <tr>\n",
              "      <th>2</th>\n",
              "      <td>-=</td>\n",
              "      <td>x -= 3</td>\n",
              "      <td>x = x - 3</td>\n",
              "      <td>Try it »</td>\n",
              "    </tr>\n",
              "    <tr>\n",
              "      <th>3</th>\n",
              "      <td>*=</td>\n",
              "      <td>x *= 3</td>\n",
              "      <td>x = x * 3</td>\n",
              "      <td>Try it »</td>\n",
              "    </tr>\n",
              "    <tr>\n",
              "      <th>4</th>\n",
              "      <td>/=</td>\n",
              "      <td>x /= 3</td>\n",
              "      <td>x = x / 3</td>\n",
              "      <td>Try it »</td>\n",
              "    </tr>\n",
              "    <tr>\n",
              "      <th>5</th>\n",
              "      <td>%=</td>\n",
              "      <td>x %= 3</td>\n",
              "      <td>x = x % 3</td>\n",
              "      <td>Try it »</td>\n",
              "    </tr>\n",
              "    <tr>\n",
              "      <th>6</th>\n",
              "      <td>//=</td>\n",
              "      <td>x //= 3</td>\n",
              "      <td>x = x // 3</td>\n",
              "      <td>Try it »</td>\n",
              "    </tr>\n",
              "    <tr>\n",
              "      <th>7</th>\n",
              "      <td>**=</td>\n",
              "      <td>x **= 3</td>\n",
              "      <td>x = x ** 3</td>\n",
              "      <td>Try it »</td>\n",
              "    </tr>\n",
              "    <tr>\n",
              "      <th>8</th>\n",
              "      <td>&amp;=</td>\n",
              "      <td>x &amp;= 3</td>\n",
              "      <td>x = x &amp; 3</td>\n",
              "      <td>Try it »</td>\n",
              "    </tr>\n",
              "    <tr>\n",
              "      <th>9</th>\n",
              "      <td>|=</td>\n",
              "      <td>x |= 3</td>\n",
              "      <td>x = x | 3</td>\n",
              "      <td>Try it »</td>\n",
              "    </tr>\n",
              "    <tr>\n",
              "      <th>10</th>\n",
              "      <td>^=</td>\n",
              "      <td>x ^= 3</td>\n",
              "      <td>x = x ^ 3</td>\n",
              "      <td>Try it »</td>\n",
              "    </tr>\n",
              "    <tr>\n",
              "      <th>11</th>\n",
              "      <td>&gt;&gt;=</td>\n",
              "      <td>x &gt;&gt;= 3</td>\n",
              "      <td>x = x &gt;&gt; 3</td>\n",
              "      <td>Try it »</td>\n",
              "    </tr>\n",
              "    <tr>\n",
              "      <th>12</th>\n",
              "      <td>&lt;&lt;=</td>\n",
              "      <td>x &lt;&lt;= 3</td>\n",
              "      <td>x = x &lt;&lt; 3</td>\n",
              "      <td>Try it »</td>\n",
              "    </tr>\n",
              "  </tbody>\n",
              "</table>\n",
              "</div>\n",
              "    <div class=\"colab-df-buttons\">\n",
              "\n",
              "  <div class=\"colab-df-container\">\n",
              "    <button class=\"colab-df-convert\" onclick=\"convertToInteractive('df-581f5c3d-59a2-4b6e-b39b-8941aa8d31b9')\"\n",
              "            title=\"Convert this dataframe to an interactive table.\"\n",
              "            style=\"display:none;\">\n",
              "\n",
              "  <svg xmlns=\"http://www.w3.org/2000/svg\" height=\"24px\" viewBox=\"0 -960 960 960\">\n",
              "    <path d=\"M120-120v-720h720v720H120Zm60-500h600v-160H180v160Zm220 220h160v-160H400v160Zm0 220h160v-160H400v160ZM180-400h160v-160H180v160Zm440 0h160v-160H620v160ZM180-180h160v-160H180v160Zm440 0h160v-160H620v160Z\"/>\n",
              "  </svg>\n",
              "    </button>\n",
              "\n",
              "  <style>\n",
              "    .colab-df-container {\n",
              "      display:flex;\n",
              "      gap: 12px;\n",
              "    }\n",
              "\n",
              "    .colab-df-convert {\n",
              "      background-color: #E8F0FE;\n",
              "      border: none;\n",
              "      border-radius: 50%;\n",
              "      cursor: pointer;\n",
              "      display: none;\n",
              "      fill: #1967D2;\n",
              "      height: 32px;\n",
              "      padding: 0 0 0 0;\n",
              "      width: 32px;\n",
              "    }\n",
              "\n",
              "    .colab-df-convert:hover {\n",
              "      background-color: #E2EBFA;\n",
              "      box-shadow: 0px 1px 2px rgba(60, 64, 67, 0.3), 0px 1px 3px 1px rgba(60, 64, 67, 0.15);\n",
              "      fill: #174EA6;\n",
              "    }\n",
              "\n",
              "    .colab-df-buttons div {\n",
              "      margin-bottom: 4px;\n",
              "    }\n",
              "\n",
              "    [theme=dark] .colab-df-convert {\n",
              "      background-color: #3B4455;\n",
              "      fill: #D2E3FC;\n",
              "    }\n",
              "\n",
              "    [theme=dark] .colab-df-convert:hover {\n",
              "      background-color: #434B5C;\n",
              "      box-shadow: 0px 1px 3px 1px rgba(0, 0, 0, 0.15);\n",
              "      filter: drop-shadow(0px 1px 2px rgba(0, 0, 0, 0.3));\n",
              "      fill: #FFFFFF;\n",
              "    }\n",
              "  </style>\n",
              "\n",
              "    <script>\n",
              "      const buttonEl =\n",
              "        document.querySelector('#df-581f5c3d-59a2-4b6e-b39b-8941aa8d31b9 button.colab-df-convert');\n",
              "      buttonEl.style.display =\n",
              "        google.colab.kernel.accessAllowed ? 'block' : 'none';\n",
              "\n",
              "      async function convertToInteractive(key) {\n",
              "        const element = document.querySelector('#df-581f5c3d-59a2-4b6e-b39b-8941aa8d31b9');\n",
              "        const dataTable =\n",
              "          await google.colab.kernel.invokeFunction('convertToInteractive',\n",
              "                                                    [key], {});\n",
              "        if (!dataTable) return;\n",
              "\n",
              "        const docLinkHtml = 'Like what you see? Visit the ' +\n",
              "          '<a target=\"_blank\" href=https://colab.research.google.com/notebooks/data_table.ipynb>data table notebook</a>'\n",
              "          + ' to learn more about interactive tables.';\n",
              "        element.innerHTML = '';\n",
              "        dataTable['output_type'] = 'display_data';\n",
              "        await google.colab.output.renderOutput(dataTable, element);\n",
              "        const docLink = document.createElement('div');\n",
              "        docLink.innerHTML = docLinkHtml;\n",
              "        element.appendChild(docLink);\n",
              "      }\n",
              "    </script>\n",
              "  </div>\n",
              "\n",
              "\n",
              "<div id=\"df-64c41ec9-399a-4525-83ed-f9b90671e6e8\">\n",
              "  <button class=\"colab-df-quickchart\" onclick=\"quickchart('df-64c41ec9-399a-4525-83ed-f9b90671e6e8')\"\n",
              "            title=\"Suggest charts\"\n",
              "            style=\"display:none;\">\n",
              "\n",
              "<svg xmlns=\"http://www.w3.org/2000/svg\" height=\"24px\"viewBox=\"0 0 24 24\"\n",
              "     width=\"24px\">\n",
              "    <g>\n",
              "        <path d=\"M19 3H5c-1.1 0-2 .9-2 2v14c0 1.1.9 2 2 2h14c1.1 0 2-.9 2-2V5c0-1.1-.9-2-2-2zM9 17H7v-7h2v7zm4 0h-2V7h2v10zm4 0h-2v-4h2v4z\"/>\n",
              "    </g>\n",
              "</svg>\n",
              "  </button>\n",
              "\n",
              "<style>\n",
              "  .colab-df-quickchart {\n",
              "      --bg-color: #E8F0FE;\n",
              "      --fill-color: #1967D2;\n",
              "      --hover-bg-color: #E2EBFA;\n",
              "      --hover-fill-color: #174EA6;\n",
              "      --disabled-fill-color: #AAA;\n",
              "      --disabled-bg-color: #DDD;\n",
              "  }\n",
              "\n",
              "  [theme=dark] .colab-df-quickchart {\n",
              "      --bg-color: #3B4455;\n",
              "      --fill-color: #D2E3FC;\n",
              "      --hover-bg-color: #434B5C;\n",
              "      --hover-fill-color: #FFFFFF;\n",
              "      --disabled-bg-color: #3B4455;\n",
              "      --disabled-fill-color: #666;\n",
              "  }\n",
              "\n",
              "  .colab-df-quickchart {\n",
              "    background-color: var(--bg-color);\n",
              "    border: none;\n",
              "    border-radius: 50%;\n",
              "    cursor: pointer;\n",
              "    display: none;\n",
              "    fill: var(--fill-color);\n",
              "    height: 32px;\n",
              "    padding: 0;\n",
              "    width: 32px;\n",
              "  }\n",
              "\n",
              "  .colab-df-quickchart:hover {\n",
              "    background-color: var(--hover-bg-color);\n",
              "    box-shadow: 0 1px 2px rgba(60, 64, 67, 0.3), 0 1px 3px 1px rgba(60, 64, 67, 0.15);\n",
              "    fill: var(--button-hover-fill-color);\n",
              "  }\n",
              "\n",
              "  .colab-df-quickchart-complete:disabled,\n",
              "  .colab-df-quickchart-complete:disabled:hover {\n",
              "    background-color: var(--disabled-bg-color);\n",
              "    fill: var(--disabled-fill-color);\n",
              "    box-shadow: none;\n",
              "  }\n",
              "\n",
              "  .colab-df-spinner {\n",
              "    border: 2px solid var(--fill-color);\n",
              "    border-color: transparent;\n",
              "    border-bottom-color: var(--fill-color);\n",
              "    animation:\n",
              "      spin 1s steps(1) infinite;\n",
              "  }\n",
              "\n",
              "  @keyframes spin {\n",
              "    0% {\n",
              "      border-color: transparent;\n",
              "      border-bottom-color: var(--fill-color);\n",
              "      border-left-color: var(--fill-color);\n",
              "    }\n",
              "    20% {\n",
              "      border-color: transparent;\n",
              "      border-left-color: var(--fill-color);\n",
              "      border-top-color: var(--fill-color);\n",
              "    }\n",
              "    30% {\n",
              "      border-color: transparent;\n",
              "      border-left-color: var(--fill-color);\n",
              "      border-top-color: var(--fill-color);\n",
              "      border-right-color: var(--fill-color);\n",
              "    }\n",
              "    40% {\n",
              "      border-color: transparent;\n",
              "      border-right-color: var(--fill-color);\n",
              "      border-top-color: var(--fill-color);\n",
              "    }\n",
              "    60% {\n",
              "      border-color: transparent;\n",
              "      border-right-color: var(--fill-color);\n",
              "    }\n",
              "    80% {\n",
              "      border-color: transparent;\n",
              "      border-right-color: var(--fill-color);\n",
              "      border-bottom-color: var(--fill-color);\n",
              "    }\n",
              "    90% {\n",
              "      border-color: transparent;\n",
              "      border-bottom-color: var(--fill-color);\n",
              "    }\n",
              "  }\n",
              "</style>\n",
              "\n",
              "  <script>\n",
              "    async function quickchart(key) {\n",
              "      const quickchartButtonEl =\n",
              "        document.querySelector('#' + key + ' button');\n",
              "      quickchartButtonEl.disabled = true;  // To prevent multiple clicks.\n",
              "      quickchartButtonEl.classList.add('colab-df-spinner');\n",
              "      try {\n",
              "        const charts = await google.colab.kernel.invokeFunction(\n",
              "            'suggestCharts', [key], {});\n",
              "      } catch (error) {\n",
              "        console.error('Error during call to suggestCharts:', error);\n",
              "      }\n",
              "      quickchartButtonEl.classList.remove('colab-df-spinner');\n",
              "      quickchartButtonEl.classList.add('colab-df-quickchart-complete');\n",
              "    }\n",
              "    (() => {\n",
              "      let quickchartButtonEl =\n",
              "        document.querySelector('#df-64c41ec9-399a-4525-83ed-f9b90671e6e8 button');\n",
              "      quickchartButtonEl.style.display =\n",
              "        google.colab.kernel.accessAllowed ? 'block' : 'none';\n",
              "    })();\n",
              "  </script>\n",
              "</div>\n",
              "    </div>\n",
              "  </div>\n"
            ]
          },
          "metadata": {},
          "execution_count": 3
        }
      ]
    },
    {
      "cell_type": "code",
      "execution_count": 5,
      "metadata": {
        "colab": {
          "base_uri": "https://localhost:8080/"
        },
        "id": "bmIaXFQgxVSR",
        "outputId": "042f841d-7c21-483e-916a-1d463c3e503a"
      },
      "outputs": [
        {
          "output_type": "stream",
          "name": "stdout",
          "text": [
            "9\n",
            "5\n",
            "14\n",
            "3.5\n"
          ]
        }
      ],
      "source": [
        "a : int = 7\n",
        "b : int = 2\n",
        "\n",
        "print(a + b) # addtition\n",
        "print(a - b) # subtraction\n",
        "print(a * b)\n",
        "print(a / b) # division"
      ]
    },
    {
      "cell_type": "code",
      "execution_count": null,
      "metadata": {
        "id": "uqQVRKUsxVST",
        "outputId": "902f3f7a-b471-4b35-db49-f25d04b59367"
      },
      "outputs": [
        {
          "name": "stdout",
          "output_type": "stream",
          "text": [
            "2\n"
          ]
        }
      ],
      "source": [
        "a : int = 11\n",
        "b : int = 3\n",
        "\n",
        "print(a % 3)\n"
      ]
    },
    {
      "cell_type": "code",
      "execution_count": null,
      "metadata": {
        "id": "XfuWDMdXxVSU",
        "outputId": "e7abbe24-977d-45ec-b661-4402324bbde0"
      },
      "outputs": [
        {
          "name": "stdout",
          "output_type": "stream",
          "text": [
            "4\n",
            "8\n"
          ]
        }
      ],
      "source": [
        "print(2**2)\n",
        "print(2**3)"
      ]
    },
    {
      "cell_type": "code",
      "execution_count": null,
      "metadata": {
        "id": "N6_dTvlwxVSV",
        "outputId": "7d84b298-880b-4242-f376-3b2dc2e43669"
      },
      "outputs": [
        {
          "name": "stdout",
          "output_type": "stream",
          "text": [
            "4.0\n"
          ]
        }
      ],
      "source": [
        "print(12 / 3)"
      ]
    },
    {
      "cell_type": "code",
      "execution_count": null,
      "metadata": {
        "id": "QDMNVa7nxVSW",
        "outputId": "233020f0-c0e0-4306-85e8-2b937dadf7b4"
      },
      "outputs": [
        {
          "name": "stdout",
          "output_type": "stream",
          "text": [
            "4.933333333333334\n"
          ]
        }
      ],
      "source": [
        "print(14.8 / 3)"
      ]
    },
    {
      "cell_type": "code",
      "execution_count": null,
      "metadata": {
        "id": "sY3Q8lSrxVSW",
        "outputId": "b8314592-a860-4749-bd6f-f9a15f82faaf"
      },
      "outputs": [
        {
          "name": "stdout",
          "output_type": "stream",
          "text": [
            "4.0\n"
          ]
        }
      ],
      "source": [
        "print( 14.8 // 3)"
      ]
    },
    {
      "cell_type": "code",
      "execution_count": null,
      "metadata": {
        "id": "Qu8nRBx7xVSY",
        "outputId": "35bec269-4dcc-43ba-87c3-a9165431276d"
      },
      "outputs": [
        {
          "name": "stdout",
          "output_type": "stream",
          "text": [
            "4\n"
          ]
        }
      ],
      "source": [
        "print( 14 // 3)"
      ]
    },
    {
      "cell_type": "markdown",
      "metadata": {
        "id": "SSa4PTHExVSY"
      },
      "source": [
        "# Python Assignment Operators\n"
      ]
    },
    {
      "cell_type": "code",
      "execution_count": null,
      "metadata": {
        "id": "AuFzx95zxVSZ",
        "outputId": "7632eaaa-cedc-4261-b8fd-709f51432b5a"
      },
      "outputs": [
        {
          "data": {
            "text/html": [
              "<div>\n",
              "<style scoped>\n",
              "    .dataframe tbody tr th:only-of-type {\n",
              "        vertical-align: middle;\n",
              "    }\n",
              "\n",
              "    .dataframe tbody tr th {\n",
              "        vertical-align: top;\n",
              "    }\n",
              "\n",
              "    .dataframe thead th {\n",
              "        text-align: right;\n",
              "    }\n",
              "</style>\n",
              "<table border=\"1\" class=\"dataframe\">\n",
              "  <thead>\n",
              "    <tr style=\"text-align: right;\">\n",
              "      <th></th>\n",
              "      <th>Operator</th>\n",
              "      <th>Example</th>\n",
              "      <th>Same As</th>\n",
              "      <th>Try it</th>\n",
              "    </tr>\n",
              "  </thead>\n",
              "  <tbody>\n",
              "    <tr>\n",
              "      <th>0</th>\n",
              "      <td>=</td>\n",
              "      <td>x = 5</td>\n",
              "      <td>x = 5</td>\n",
              "      <td>Try it »</td>\n",
              "    </tr>\n",
              "    <tr>\n",
              "      <th>1</th>\n",
              "      <td>+=</td>\n",
              "      <td>x += 3</td>\n",
              "      <td>x = x + 3</td>\n",
              "      <td>Try it »</td>\n",
              "    </tr>\n",
              "    <tr>\n",
              "      <th>2</th>\n",
              "      <td>-=</td>\n",
              "      <td>x -= 3</td>\n",
              "      <td>x = x - 3</td>\n",
              "      <td>Try it »</td>\n",
              "    </tr>\n",
              "    <tr>\n",
              "      <th>3</th>\n",
              "      <td>*=</td>\n",
              "      <td>x *= 3</td>\n",
              "      <td>x = x * 3</td>\n",
              "      <td>Try it »</td>\n",
              "    </tr>\n",
              "    <tr>\n",
              "      <th>4</th>\n",
              "      <td>/=</td>\n",
              "      <td>x /= 3</td>\n",
              "      <td>x = x / 3</td>\n",
              "      <td>Try it »</td>\n",
              "    </tr>\n",
              "    <tr>\n",
              "      <th>5</th>\n",
              "      <td>%=</td>\n",
              "      <td>x %= 3</td>\n",
              "      <td>x = x % 3</td>\n",
              "      <td>Try it »</td>\n",
              "    </tr>\n",
              "    <tr>\n",
              "      <th>6</th>\n",
              "      <td>//=</td>\n",
              "      <td>x //= 3</td>\n",
              "      <td>x = x // 3</td>\n",
              "      <td>Try it »</td>\n",
              "    </tr>\n",
              "    <tr>\n",
              "      <th>7</th>\n",
              "      <td>**=</td>\n",
              "      <td>x **= 3</td>\n",
              "      <td>x = x ** 3</td>\n",
              "      <td>Try it »</td>\n",
              "    </tr>\n",
              "    <tr>\n",
              "      <th>8</th>\n",
              "      <td>&amp;=</td>\n",
              "      <td>x &amp;= 3</td>\n",
              "      <td>x = x &amp; 3</td>\n",
              "      <td>Try it »</td>\n",
              "    </tr>\n",
              "    <tr>\n",
              "      <th>9</th>\n",
              "      <td>|=</td>\n",
              "      <td>x |= 3</td>\n",
              "      <td>x = x | 3</td>\n",
              "      <td>Try it »</td>\n",
              "    </tr>\n",
              "    <tr>\n",
              "      <th>10</th>\n",
              "      <td>^=</td>\n",
              "      <td>x ^= 3</td>\n",
              "      <td>x = x ^ 3</td>\n",
              "      <td>Try it »</td>\n",
              "    </tr>\n",
              "    <tr>\n",
              "      <th>11</th>\n",
              "      <td>&gt;&gt;=</td>\n",
              "      <td>x &gt;&gt;= 3</td>\n",
              "      <td>x = x &gt;&gt; 3</td>\n",
              "      <td>Try it »</td>\n",
              "    </tr>\n",
              "    <tr>\n",
              "      <th>12</th>\n",
              "      <td>&lt;&lt;=</td>\n",
              "      <td>x &lt;&lt;= 3</td>\n",
              "      <td>x = x &lt;&lt; 3</td>\n",
              "      <td>Try it »</td>\n",
              "    </tr>\n",
              "  </tbody>\n",
              "</table>\n",
              "</div>"
            ],
            "text/plain": [
              "   Operator  Example     Same As    Try it\n",
              "0         =    x = 5       x = 5  Try it »\n",
              "1        +=   x += 3   x = x + 3  Try it »\n",
              "2        -=   x -= 3   x = x - 3  Try it »\n",
              "3        *=   x *= 3   x = x * 3  Try it »\n",
              "4        /=   x /= 3   x = x / 3  Try it »\n",
              "5        %=   x %= 3   x = x % 3  Try it »\n",
              "6       //=  x //= 3  x = x // 3  Try it »\n",
              "7       **=  x **= 3  x = x ** 3  Try it »\n",
              "8        &=   x &= 3   x = x & 3  Try it »\n",
              "9        |=   x |= 3   x = x | 3  Try it »\n",
              "10       ^=   x ^= 3   x = x ^ 3  Try it »\n",
              "11      >>=  x >>= 3  x = x >> 3  Try it »\n",
              "12      <<=  x <<= 3  x = x << 3  Try it »"
            ]
          },
          "execution_count": 10,
          "metadata": {},
          "output_type": "execute_result"
        }
      ],
      "source": [
        "table[1]"
      ]
    },
    {
      "cell_type": "code",
      "execution_count": 6,
      "metadata": {
        "id": "VxxCYKNkxVSZ"
      },
      "outputs": [],
      "source": [
        "#:= walrus operator allows the programmer to assign a value to a variable and return that value in the same expression"
      ]
    },
    {
      "cell_type": "code",
      "execution_count": 7,
      "metadata": {
        "colab": {
          "base_uri": "https://localhost:8080/"
        },
        "id": "EYaOXNv9xVSZ",
        "outputId": "2f3df574-33cc-4096-ea66-9dfb9f9ed77f"
      },
      "outputs": [
        {
          "output_type": "stream",
          "name": "stdout",
          "text": [
            "7\n"
          ]
        }
      ],
      "source": [
        "a : int = 7\n",
        "print(b := 7)\n"
      ]
    },
    {
      "cell_type": "code",
      "execution_count": null,
      "metadata": {
        "id": "-kA13HkkxVSa"
      },
      "outputs": [],
      "source": [
        "# = assign\n",
        "a : int = 7\n",
        "b : int = 2"
      ]
    },
    {
      "cell_type": "code",
      "execution_count": null,
      "metadata": {
        "id": "Y7gHNVp9xVSa",
        "outputId": "4930e709-29a8-4542-9397-b3946d9a7d72"
      },
      "outputs": [
        {
          "name": "stdout",
          "output_type": "stream",
          "text": [
            "7\n",
            "9\n"
          ]
        }
      ],
      "source": [
        "# +=\n",
        "a : int = 7\n",
        "print(a)\n",
        "a = a + 2\n",
        "print(a)"
      ]
    },
    {
      "cell_type": "code",
      "execution_count": null,
      "metadata": {
        "id": "_0Vzyj9fxVSa",
        "outputId": "542cf957-fa52-4ab7-817b-83781fe5f6ca"
      },
      "outputs": [
        {
          "name": "stdout",
          "output_type": "stream",
          "text": [
            "7\n",
            "9\n"
          ]
        }
      ],
      "source": [
        "# +=\n",
        "a : int = 7\n",
        "print(a)\n",
        "a += 2\n",
        "print(a)"
      ]
    },
    {
      "cell_type": "code",
      "execution_count": null,
      "metadata": {
        "id": "-O1nyORWxVSa",
        "outputId": "8e51a1f3-4d46-4d0e-9530-4b4cf172d9a0"
      },
      "outputs": [
        {
          "name": "stdout",
          "output_type": "stream",
          "text": [
            "7\n",
            "5\n"
          ]
        }
      ],
      "source": [
        "a : int = 7\n",
        "print(a)\n",
        "a -= 2\n",
        "print(a)"
      ]
    },
    {
      "cell_type": "markdown",
      "metadata": {
        "id": "KigKNU8txVSb"
      },
      "source": [
        "# Python Comparison Operators\n"
      ]
    },
    {
      "cell_type": "code",
      "execution_count": null,
      "metadata": {
        "id": "TOKEMObVxVSb",
        "outputId": "9480d627-3ad1-49eb-d149-645872c25aef"
      },
      "outputs": [
        {
          "data": {
            "text/html": [
              "<div>\n",
              "<style scoped>\n",
              "    .dataframe tbody tr th:only-of-type {\n",
              "        vertical-align: middle;\n",
              "    }\n",
              "\n",
              "    .dataframe tbody tr th {\n",
              "        vertical-align: top;\n",
              "    }\n",
              "\n",
              "    .dataframe thead th {\n",
              "        text-align: right;\n",
              "    }\n",
              "</style>\n",
              "<table border=\"1\" class=\"dataframe\">\n",
              "  <thead>\n",
              "    <tr style=\"text-align: right;\">\n",
              "      <th></th>\n",
              "      <th>Operator</th>\n",
              "      <th>Name</th>\n",
              "      <th>Example</th>\n",
              "      <th>Try it</th>\n",
              "    </tr>\n",
              "  </thead>\n",
              "  <tbody>\n",
              "    <tr>\n",
              "      <th>0</th>\n",
              "      <td>==</td>\n",
              "      <td>Equal</td>\n",
              "      <td>x == y</td>\n",
              "      <td>Try it »</td>\n",
              "    </tr>\n",
              "    <tr>\n",
              "      <th>1</th>\n",
              "      <td>!=</td>\n",
              "      <td>Not equal</td>\n",
              "      <td>x != y</td>\n",
              "      <td>Try it »</td>\n",
              "    </tr>\n",
              "    <tr>\n",
              "      <th>2</th>\n",
              "      <td>&gt;</td>\n",
              "      <td>Greater than</td>\n",
              "      <td>x &gt; y</td>\n",
              "      <td>Try it »</td>\n",
              "    </tr>\n",
              "    <tr>\n",
              "      <th>3</th>\n",
              "      <td>&lt;</td>\n",
              "      <td>Less than</td>\n",
              "      <td>x &lt; y</td>\n",
              "      <td>Try it »</td>\n",
              "    </tr>\n",
              "    <tr>\n",
              "      <th>4</th>\n",
              "      <td>&gt;=</td>\n",
              "      <td>Greater than or equal to</td>\n",
              "      <td>x &gt;= y</td>\n",
              "      <td>Try it »</td>\n",
              "    </tr>\n",
              "    <tr>\n",
              "      <th>5</th>\n",
              "      <td>&lt;=</td>\n",
              "      <td>Less than or equal to</td>\n",
              "      <td>x &lt;= y</td>\n",
              "      <td>Try it »</td>\n",
              "    </tr>\n",
              "  </tbody>\n",
              "</table>\n",
              "</div>"
            ],
            "text/plain": [
              "  Operator                      Name Example    Try it\n",
              "0       ==                     Equal  x == y  Try it »\n",
              "1       !=                 Not equal  x != y  Try it »\n",
              "2        >              Greater than   x > y  Try it »\n",
              "3        <                 Less than   x < y  Try it »\n",
              "4       >=  Greater than or equal to  x >= y  Try it »\n",
              "5       <=     Less than or equal to  x <= y  Try it »"
            ]
          },
          "execution_count": 19,
          "metadata": {},
          "output_type": "execute_result"
        }
      ],
      "source": [
        "table[2]"
      ]
    },
    {
      "cell_type": "code",
      "execution_count": 8,
      "metadata": {
        "colab": {
          "base_uri": "https://localhost:8080/"
        },
        "id": "Z2wMFj12xVSb",
        "outputId": "11a1eb5c-1f3c-4ab2-f617-93c66cbfa134"
      },
      "outputs": [
        {
          "output_type": "stream",
          "name": "stdout",
          "text": [
            "False\n"
          ]
        }
      ],
      "source": [
        "a : int = 7\n",
        "b : int = 10\n",
        "\n",
        "print( a == b ) # checks if 'a' and 'b' are equal and then returns a boolean value of true and false\n",
        "# a == b\n",
        "# 7 == 10\n",
        "# False"
      ]
    },
    {
      "cell_type": "code",
      "execution_count": null,
      "metadata": {
        "id": "Qfi6dR_OxVSb",
        "outputId": "ede755dd-4699-4c5c-be01-b7ba2a775ab5"
      },
      "outputs": [
        {
          "name": "stdout",
          "output_type": "stream",
          "text": [
            "True\n"
          ]
        }
      ],
      "source": [
        "a : int = 7\n",
        "b : int = 7\n",
        "\n",
        "print( a == b )\n",
        "# a == b\n",
        "# 7 == 7\n",
        "# True"
      ]
    },
    {
      "cell_type": "code",
      "execution_count": 9,
      "metadata": {
        "colab": {
          "base_uri": "https://localhost:8080/"
        },
        "id": "Aiay40rqxVSb",
        "outputId": "26b13842-847a-49f6-97d0-9c851f9eeb67"
      },
      "outputs": [
        {
          "output_type": "stream",
          "name": "stdout",
          "text": [
            "False\n"
          ]
        }
      ],
      "source": [
        "a : int = 7\n",
        "b : str = '7' # variable 'b' is a string\n",
        "\n",
        "print(a == b) # condition checks the value as well as the datatype, while the numeric value is equal, the datatypes are not\n",
        "# a == b\n",
        "# 7 == 7\n",
        "# True"
      ]
    },
    {
      "cell_type": "code",
      "execution_count": null,
      "metadata": {
        "id": "Iyjg6r0gxVSc",
        "outputId": "7d8ec680-06d4-42b4-8e51-05aa0470ee8a"
      },
      "outputs": [
        {
          "name": "stdout",
          "output_type": "stream",
          "text": [
            "False\n"
          ]
        }
      ],
      "source": [
        "# !=\n",
        "a : int = 7\n",
        "b : int = 7\n",
        "\n",
        "print( a != b )\n",
        "# a == b\n",
        "# 7 == 7\n",
        "# False"
      ]
    },
    {
      "cell_type": "code",
      "execution_count": 11,
      "metadata": {
        "colab": {
          "base_uri": "https://localhost:8080/"
        },
        "id": "ed20kOj3xVSc",
        "outputId": "ee8ce02d-fd97-492c-c1cf-e8b9f9159c87"
      },
      "outputs": [
        {
          "output_type": "stream",
          "name": "stdout",
          "text": [
            "False\n"
          ]
        }
      ],
      "source": [
        "#>\n",
        "a : int = 7\n",
        "b : int = 8\n",
        "\n",
        "print(a > b) #is variable 'a' greater than variable 'b'?\n",
        "# a > b\n",
        "# 7 > 8\n",
        "# False"
      ]
    },
    {
      "cell_type": "code",
      "execution_count": 12,
      "metadata": {
        "colab": {
          "base_uri": "https://localhost:8080/"
        },
        "id": "Rus7QLcHxVSd",
        "outputId": "6b16f6ca-bb8e-4e22-aaeb-cd2c178fc9fe"
      },
      "outputs": [
        {
          "output_type": "stream",
          "name": "stdout",
          "text": [
            "False\n"
          ]
        }
      ],
      "source": [
        "# >\n",
        "a : int = 7\n",
        "b : int = 7\n",
        "\n",
        "print(a > b)\n",
        "# a > b\n",
        "# 7 > 8\n",
        "# False"
      ]
    },
    {
      "cell_type": "code",
      "execution_count": 13,
      "metadata": {
        "colab": {
          "base_uri": "https://localhost:8080/"
        },
        "id": "SXrx5v6uxVSd",
        "outputId": "d114446b-8620-4546-de9a-4a1dc827479f"
      },
      "outputs": [
        {
          "output_type": "stream",
          "name": "stdout",
          "text": [
            "True\n"
          ]
        }
      ],
      "source": [
        "# >\n",
        "a : int = 10\n",
        "b : int = 8\n",
        "\n",
        "print(a > b)\n",
        "# a > b\n",
        "# 10 > 8\n",
        "# False"
      ]
    },
    {
      "cell_type": "code",
      "execution_count": 14,
      "metadata": {
        "colab": {
          "base_uri": "https://localhost:8080/"
        },
        "id": "9-bLd0RNxVSd",
        "outputId": "bf45ac14-be92-4967-f190-ebe4405968d8"
      },
      "outputs": [
        {
          "output_type": "stream",
          "name": "stdout",
          "text": [
            "False\n"
          ]
        }
      ],
      "source": [
        "# <\n",
        "a : int = 10\n",
        "b : int = 8\n",
        "\n",
        "print(a < b)\n",
        "# a < b\n",
        "# 10 < 8\n",
        "# False"
      ]
    },
    {
      "cell_type": "code",
      "execution_count": 15,
      "metadata": {
        "colab": {
          "base_uri": "https://localhost:8080/"
        },
        "id": "W0R8J39PxVSe",
        "outputId": "195fc44a-08d5-4cf8-866b-83d3e8bc0495"
      },
      "outputs": [
        {
          "output_type": "stream",
          "name": "stdout",
          "text": [
            "False\n"
          ]
        }
      ],
      "source": [
        "#>=\n",
        "a : int = 2\n",
        "b : int = 7\n",
        "\n",
        "print(a >= b)"
      ]
    },
    {
      "cell_type": "code",
      "execution_count": 16,
      "metadata": {
        "colab": {
          "base_uri": "https://localhost:8080/"
        },
        "id": "OwL07hKHxVSe",
        "outputId": "b8368a62-5c77-4b99-df4c-2e64a62d91d6"
      },
      "outputs": [
        {
          "output_type": "stream",
          "name": "stdout",
          "text": [
            "True\n"
          ]
        }
      ],
      "source": [
        "# >=\n",
        "a : int = 7\n",
        "b : int = 7\n",
        "\n",
        "print(a >= b)"
      ]
    },
    {
      "cell_type": "code",
      "execution_count": null,
      "metadata": {
        "id": "SYJ-T0uFxVSe",
        "outputId": "abec2c1e-6995-4c2d-ab89-38a9022b7c8b"
      },
      "outputs": [
        {
          "name": "stdout",
          "output_type": "stream",
          "text": [
            "True\n"
          ]
        }
      ],
      "source": [
        "# !=\n",
        "a : int = 7\n",
        "b : int = 7\n",
        "\n",
        "print(a <= b)"
      ]
    },
    {
      "cell_type": "code",
      "execution_count": 17,
      "metadata": {
        "colab": {
          "base_uri": "https://localhost:8080/",
          "height": 145
        },
        "id": "aTG8lQvwxVSg",
        "outputId": "80bb1706-0d49-43b0-ab43-9c1b38efa827"
      },
      "outputs": [
        {
          "output_type": "error",
          "ename": "SyntaxError",
          "evalue": "ignored",
          "traceback": [
            "\u001b[0;36m  File \u001b[0;32m\"<ipython-input-17-5d106729f60a>\"\u001b[0;36m, line \u001b[0;32m5\u001b[0m\n\u001b[0;31m    print(a => b)\u001b[0m\n\u001b[0m             ^\u001b[0m\n\u001b[0;31mSyntaxError\u001b[0m\u001b[0;31m:\u001b[0m invalid syntax\n"
          ]
        }
      ],
      "source": [
        "# =>\n",
        "a : int = 7\n",
        "b : int = 7\n",
        "\n",
        "print(a => b)"
      ]
    },
    {
      "cell_type": "markdown",
      "metadata": {
        "id": "HelS6dacxVSg"
      },
      "source": [
        "ASCII Code\n",
        "```\n",
        "A = 65\n",
        "B = 66\n",
        "Z = 90\n",
        "\n",
        "a = 97\n",
        "b = 98\n",
        "z = 122\n",
        "\n",
        "0=48\n",
        "1=49\n",
        "9=57\n",
        "```"
      ]
    },
    {
      "cell_type": "code",
      "execution_count": null,
      "metadata": {
        "id": "VizcSy5rxVSg",
        "outputId": "9036028d-ac89-49af-9d97-440d7c0d66e7"
      },
      "outputs": [
        {
          "data": {
            "text/plain": [
              "65"
            ]
          },
          "execution_count": 36,
          "metadata": {},
          "output_type": "execute_result"
        }
      ],
      "source": [
        "ord('A')"
      ]
    },
    {
      "cell_type": "code",
      "execution_count": null,
      "metadata": {
        "id": "3V-sSj-lxVSg",
        "outputId": "1b5c85db-2088-41f6-bb42-77b74cf4c490"
      },
      "outputs": [
        {
          "data": {
            "text/plain": [
              "'A'"
            ]
          },
          "execution_count": 35,
          "metadata": {},
          "output_type": "execute_result"
        }
      ],
      "source": [
        "chr(65)"
      ]
    },
    {
      "cell_type": "code",
      "execution_count": 20,
      "metadata": {
        "colab": {
          "base_uri": "https://localhost:8080/"
        },
        "id": "KHQZDl31xVSh",
        "outputId": "55018928-82a5-434e-b22e-6c4dc080c4fc"
      },
      "outputs": [
        {
          "output_type": "stream",
          "name": "stdout",
          "text": [
            "True\n"
          ]
        }
      ],
      "source": [
        "a : str = 'A' # value A = 65\n",
        "b : str = 'B' # value B = 66\n",
        "\n",
        "print(b >= a) # ordinal value of 66 is greater than 65"
      ]
    },
    {
      "cell_type": "code",
      "execution_count": null,
      "metadata": {
        "id": "OtbWqmPBxVSh",
        "outputId": "9f2f5cfd-d892-4326-deb1-2e570a71fedc"
      },
      "outputs": [
        {
          "name": "stdout",
          "output_type": "stream",
          "text": [
            "True\n"
          ]
        }
      ],
      "source": [
        "a : str = 'A'\n",
        "b : str = 'a'\n",
        "\n",
        "print(b >= a)"
      ]
    },
    {
      "cell_type": "markdown",
      "metadata": {
        "id": "8w1iEMw6xVSs"
      },
      "source": [
        "# Python Logical Operators"
      ]
    },
    {
      "cell_type": "code",
      "execution_count": null,
      "metadata": {
        "id": "uDdgbGy5xVSs",
        "outputId": "c667195a-c37c-4b17-8553-215759c80e95"
      },
      "outputs": [
        {
          "data": {
            "text/html": [
              "<div>\n",
              "<style scoped>\n",
              "    .dataframe tbody tr th:only-of-type {\n",
              "        vertical-align: middle;\n",
              "    }\n",
              "\n",
              "    .dataframe tbody tr th {\n",
              "        vertical-align: top;\n",
              "    }\n",
              "\n",
              "    .dataframe thead th {\n",
              "        text-align: right;\n",
              "    }\n",
              "</style>\n",
              "<table border=\"1\" class=\"dataframe\">\n",
              "  <thead>\n",
              "    <tr style=\"text-align: right;\">\n",
              "      <th></th>\n",
              "      <th>Operator</th>\n",
              "      <th>Description</th>\n",
              "      <th>Example</th>\n",
              "      <th>Try it</th>\n",
              "    </tr>\n",
              "  </thead>\n",
              "  <tbody>\n",
              "    <tr>\n",
              "      <th>0</th>\n",
              "      <td>and</td>\n",
              "      <td>Returns True if both statements are true</td>\n",
              "      <td>x &lt; 5 and x &lt; 10</td>\n",
              "      <td>Try it »</td>\n",
              "    </tr>\n",
              "    <tr>\n",
              "      <th>1</th>\n",
              "      <td>or</td>\n",
              "      <td>Returns True if one of the statements is true</td>\n",
              "      <td>x &lt; 5 or x &lt; 4</td>\n",
              "      <td>Try it »</td>\n",
              "    </tr>\n",
              "    <tr>\n",
              "      <th>2</th>\n",
              "      <td>not</td>\n",
              "      <td>Reverse the result, returns False if the resul...</td>\n",
              "      <td>not(x &lt; 5 and x &lt; 10)</td>\n",
              "      <td>Try it »</td>\n",
              "    </tr>\n",
              "  </tbody>\n",
              "</table>\n",
              "</div>"
            ],
            "text/plain": [
              "  Operator                                        Description  \\\n",
              "0      and           Returns True if both statements are true   \n",
              "1       or      Returns True if one of the statements is true   \n",
              "2      not  Reverse the result, returns False if the resul...   \n",
              "\n",
              "                 Example    Try it  \n",
              "0       x < 5 and x < 10  Try it »  \n",
              "1         x < 5 or x < 4  Try it »  \n",
              "2  not(x < 5 and x < 10)  Try it »  "
            ]
          },
          "execution_count": 37,
          "metadata": {},
          "output_type": "execute_result"
        }
      ],
      "source": [
        "table[3]"
      ]
    },
    {
      "cell_type": "code",
      "execution_count": 21,
      "metadata": {
        "colab": {
          "base_uri": "https://localhost:8080/"
        },
        "id": "qbPABx7OxVSt",
        "outputId": "7d991888-75d6-4eb0-fa47-4f4516714b99"
      },
      "outputs": [
        {
          "output_type": "execute_result",
          "data": {
            "text/plain": [
              "True"
            ]
          },
          "metadata": {},
          "execution_count": 21
        }
      ],
      "source": [
        "# and لازمی\n",
        "# or = optional\n",
        "#1        2        3        4\n",
        "True and True and True and True"
      ]
    },
    {
      "cell_type": "code",
      "execution_count": 22,
      "metadata": {
        "colab": {
          "base_uri": "https://localhost:8080/"
        },
        "id": "WXT981HLxVSt",
        "outputId": "466afbe1-c7ba-4946-ab14-4d84fbf64e34"
      },
      "outputs": [
        {
          "output_type": "stream",
          "name": "stdout",
          "text": [
            "True\n",
            "False\n",
            "False\n"
          ]
        }
      ],
      "source": [
        "# and لازمی\n",
        "# or = optional\n",
        "#1        2        3        4\n",
        "print(True and True and True and True  )\n",
        "print(True and True and False and True)\n",
        "print(False and False and False and True)\n"
      ]
    },
    {
      "cell_type": "code",
      "execution_count": null,
      "metadata": {
        "id": "YiaPtER5xVSu",
        "outputId": "78c51c10-79a6-466d-f8e8-921d40773e59"
      },
      "outputs": [
        {
          "name": "stdout",
          "output_type": "stream",
          "text": [
            "True\n",
            "True\n",
            "True\n"
          ]
        }
      ],
      "source": [
        "# and لازمی\n",
        "# or = optional\n",
        "#1        2        3        4\n",
        "print(True or True or True or True  )\n",
        "print(True or True or False or True)\n",
        "print(False or False or False or True)\n",
        "print(False or False or False or False)\n",
        "\n"
      ]
    },
    {
      "cell_type": "code",
      "execution_count": null,
      "metadata": {
        "id": "Eg3ucgSbxVSu",
        "outputId": "da7e7806-d759-4042-e883-37e2d566228c"
      },
      "outputs": [
        {
          "data": {
            "text/plain": [
              "False"
            ]
          },
          "execution_count": 44,
          "metadata": {},
          "output_type": "execute_result"
        }
      ],
      "source": [
        "not True"
      ]
    },
    {
      "cell_type": "code",
      "execution_count": 24,
      "metadata": {
        "colab": {
          "base_uri": "https://localhost:8080/"
        },
        "id": "hU5a5h4DxVSu",
        "outputId": "2f34cc02-5127-41f6-a603-77d23191717e"
      },
      "outputs": [
        {
          "output_type": "stream",
          "name": "stdout",
          "text": [
            "False\n"
          ]
        }
      ],
      "source": [
        "name : str = \"Nazneen\"\n",
        "print(not name==\"Nazneen\")\n",
        "# name == \"Nazneen\"\n",
        "# \"Qasim\" == \"Nazneen\"\n",
        "# True"
      ]
    },
    {
      "cell_type": "code",
      "execution_count": 25,
      "metadata": {
        "colab": {
          "base_uri": "https://localhost:8080/"
        },
        "id": "QZ24zL86xVSu",
        "outputId": "c9be7d74-86f2-421d-9f31-2747a7becaa2"
      },
      "outputs": [
        {
          "output_type": "stream",
          "name": "stdout",
          "text": [
            "False\n"
          ]
        }
      ],
      "source": [
        "name : str = \"Nazneen\"\n",
        "print(name!=\"Nazneen\")\n",
        "# name == \"Nazneen\"\n",
        "# \"Qasim\" == \"Nazneen\""
      ]
    },
    {
      "cell_type": "markdown",
      "metadata": {
        "id": "Gko6QIooxVSv"
      },
      "source": [
        "# Python Identity Operators\n"
      ]
    },
    {
      "cell_type": "code",
      "execution_count": 26,
      "metadata": {
        "colab": {
          "base_uri": "https://localhost:8080/",
          "height": 112
        },
        "id": "5mmAXQBhxVSv",
        "outputId": "9801a907-dbae-4193-a66d-c8ae9de05ab8"
      },
      "outputs": [
        {
          "output_type": "execute_result",
          "data": {
            "text/plain": [
              "  Operator                                        Description     Example  \\\n",
              "0       is  Returns True if both variables are the same ob...      x is y   \n",
              "1   is not  Returns True if both variables are not the sam...  x is not y   \n",
              "\n",
              "     Try it  \n",
              "0  Try it »  \n",
              "1  Try it »  "
            ],
            "text/html": [
              "\n",
              "  <div id=\"df-7767f966-ba9d-4fa0-b522-0503341e5e49\" class=\"colab-df-container\">\n",
              "    <div>\n",
              "<style scoped>\n",
              "    .dataframe tbody tr th:only-of-type {\n",
              "        vertical-align: middle;\n",
              "    }\n",
              "\n",
              "    .dataframe tbody tr th {\n",
              "        vertical-align: top;\n",
              "    }\n",
              "\n",
              "    .dataframe thead th {\n",
              "        text-align: right;\n",
              "    }\n",
              "</style>\n",
              "<table border=\"1\" class=\"dataframe\">\n",
              "  <thead>\n",
              "    <tr style=\"text-align: right;\">\n",
              "      <th></th>\n",
              "      <th>Operator</th>\n",
              "      <th>Description</th>\n",
              "      <th>Example</th>\n",
              "      <th>Try it</th>\n",
              "    </tr>\n",
              "  </thead>\n",
              "  <tbody>\n",
              "    <tr>\n",
              "      <th>0</th>\n",
              "      <td>is</td>\n",
              "      <td>Returns True if both variables are the same ob...</td>\n",
              "      <td>x is y</td>\n",
              "      <td>Try it »</td>\n",
              "    </tr>\n",
              "    <tr>\n",
              "      <th>1</th>\n",
              "      <td>is not</td>\n",
              "      <td>Returns True if both variables are not the sam...</td>\n",
              "      <td>x is not y</td>\n",
              "      <td>Try it »</td>\n",
              "    </tr>\n",
              "  </tbody>\n",
              "</table>\n",
              "</div>\n",
              "    <div class=\"colab-df-buttons\">\n",
              "\n",
              "  <div class=\"colab-df-container\">\n",
              "    <button class=\"colab-df-convert\" onclick=\"convertToInteractive('df-7767f966-ba9d-4fa0-b522-0503341e5e49')\"\n",
              "            title=\"Convert this dataframe to an interactive table.\"\n",
              "            style=\"display:none;\">\n",
              "\n",
              "  <svg xmlns=\"http://www.w3.org/2000/svg\" height=\"24px\" viewBox=\"0 -960 960 960\">\n",
              "    <path d=\"M120-120v-720h720v720H120Zm60-500h600v-160H180v160Zm220 220h160v-160H400v160Zm0 220h160v-160H400v160ZM180-400h160v-160H180v160Zm440 0h160v-160H620v160ZM180-180h160v-160H180v160Zm440 0h160v-160H620v160Z\"/>\n",
              "  </svg>\n",
              "    </button>\n",
              "\n",
              "  <style>\n",
              "    .colab-df-container {\n",
              "      display:flex;\n",
              "      gap: 12px;\n",
              "    }\n",
              "\n",
              "    .colab-df-convert {\n",
              "      background-color: #E8F0FE;\n",
              "      border: none;\n",
              "      border-radius: 50%;\n",
              "      cursor: pointer;\n",
              "      display: none;\n",
              "      fill: #1967D2;\n",
              "      height: 32px;\n",
              "      padding: 0 0 0 0;\n",
              "      width: 32px;\n",
              "    }\n",
              "\n",
              "    .colab-df-convert:hover {\n",
              "      background-color: #E2EBFA;\n",
              "      box-shadow: 0px 1px 2px rgba(60, 64, 67, 0.3), 0px 1px 3px 1px rgba(60, 64, 67, 0.15);\n",
              "      fill: #174EA6;\n",
              "    }\n",
              "\n",
              "    .colab-df-buttons div {\n",
              "      margin-bottom: 4px;\n",
              "    }\n",
              "\n",
              "    [theme=dark] .colab-df-convert {\n",
              "      background-color: #3B4455;\n",
              "      fill: #D2E3FC;\n",
              "    }\n",
              "\n",
              "    [theme=dark] .colab-df-convert:hover {\n",
              "      background-color: #434B5C;\n",
              "      box-shadow: 0px 1px 3px 1px rgba(0, 0, 0, 0.15);\n",
              "      filter: drop-shadow(0px 1px 2px rgba(0, 0, 0, 0.3));\n",
              "      fill: #FFFFFF;\n",
              "    }\n",
              "  </style>\n",
              "\n",
              "    <script>\n",
              "      const buttonEl =\n",
              "        document.querySelector('#df-7767f966-ba9d-4fa0-b522-0503341e5e49 button.colab-df-convert');\n",
              "      buttonEl.style.display =\n",
              "        google.colab.kernel.accessAllowed ? 'block' : 'none';\n",
              "\n",
              "      async function convertToInteractive(key) {\n",
              "        const element = document.querySelector('#df-7767f966-ba9d-4fa0-b522-0503341e5e49');\n",
              "        const dataTable =\n",
              "          await google.colab.kernel.invokeFunction('convertToInteractive',\n",
              "                                                    [key], {});\n",
              "        if (!dataTable) return;\n",
              "\n",
              "        const docLinkHtml = 'Like what you see? Visit the ' +\n",
              "          '<a target=\"_blank\" href=https://colab.research.google.com/notebooks/data_table.ipynb>data table notebook</a>'\n",
              "          + ' to learn more about interactive tables.';\n",
              "        element.innerHTML = '';\n",
              "        dataTable['output_type'] = 'display_data';\n",
              "        await google.colab.output.renderOutput(dataTable, element);\n",
              "        const docLink = document.createElement('div');\n",
              "        docLink.innerHTML = docLinkHtml;\n",
              "        element.appendChild(docLink);\n",
              "      }\n",
              "    </script>\n",
              "  </div>\n",
              "\n",
              "\n",
              "<div id=\"df-34f17adc-5213-4238-ac15-acf3f6b6c405\">\n",
              "  <button class=\"colab-df-quickchart\" onclick=\"quickchart('df-34f17adc-5213-4238-ac15-acf3f6b6c405')\"\n",
              "            title=\"Suggest charts\"\n",
              "            style=\"display:none;\">\n",
              "\n",
              "<svg xmlns=\"http://www.w3.org/2000/svg\" height=\"24px\"viewBox=\"0 0 24 24\"\n",
              "     width=\"24px\">\n",
              "    <g>\n",
              "        <path d=\"M19 3H5c-1.1 0-2 .9-2 2v14c0 1.1.9 2 2 2h14c1.1 0 2-.9 2-2V5c0-1.1-.9-2-2-2zM9 17H7v-7h2v7zm4 0h-2V7h2v10zm4 0h-2v-4h2v4z\"/>\n",
              "    </g>\n",
              "</svg>\n",
              "  </button>\n",
              "\n",
              "<style>\n",
              "  .colab-df-quickchart {\n",
              "      --bg-color: #E8F0FE;\n",
              "      --fill-color: #1967D2;\n",
              "      --hover-bg-color: #E2EBFA;\n",
              "      --hover-fill-color: #174EA6;\n",
              "      --disabled-fill-color: #AAA;\n",
              "      --disabled-bg-color: #DDD;\n",
              "  }\n",
              "\n",
              "  [theme=dark] .colab-df-quickchart {\n",
              "      --bg-color: #3B4455;\n",
              "      --fill-color: #D2E3FC;\n",
              "      --hover-bg-color: #434B5C;\n",
              "      --hover-fill-color: #FFFFFF;\n",
              "      --disabled-bg-color: #3B4455;\n",
              "      --disabled-fill-color: #666;\n",
              "  }\n",
              "\n",
              "  .colab-df-quickchart {\n",
              "    background-color: var(--bg-color);\n",
              "    border: none;\n",
              "    border-radius: 50%;\n",
              "    cursor: pointer;\n",
              "    display: none;\n",
              "    fill: var(--fill-color);\n",
              "    height: 32px;\n",
              "    padding: 0;\n",
              "    width: 32px;\n",
              "  }\n",
              "\n",
              "  .colab-df-quickchart:hover {\n",
              "    background-color: var(--hover-bg-color);\n",
              "    box-shadow: 0 1px 2px rgba(60, 64, 67, 0.3), 0 1px 3px 1px rgba(60, 64, 67, 0.15);\n",
              "    fill: var(--button-hover-fill-color);\n",
              "  }\n",
              "\n",
              "  .colab-df-quickchart-complete:disabled,\n",
              "  .colab-df-quickchart-complete:disabled:hover {\n",
              "    background-color: var(--disabled-bg-color);\n",
              "    fill: var(--disabled-fill-color);\n",
              "    box-shadow: none;\n",
              "  }\n",
              "\n",
              "  .colab-df-spinner {\n",
              "    border: 2px solid var(--fill-color);\n",
              "    border-color: transparent;\n",
              "    border-bottom-color: var(--fill-color);\n",
              "    animation:\n",
              "      spin 1s steps(1) infinite;\n",
              "  }\n",
              "\n",
              "  @keyframes spin {\n",
              "    0% {\n",
              "      border-color: transparent;\n",
              "      border-bottom-color: var(--fill-color);\n",
              "      border-left-color: var(--fill-color);\n",
              "    }\n",
              "    20% {\n",
              "      border-color: transparent;\n",
              "      border-left-color: var(--fill-color);\n",
              "      border-top-color: var(--fill-color);\n",
              "    }\n",
              "    30% {\n",
              "      border-color: transparent;\n",
              "      border-left-color: var(--fill-color);\n",
              "      border-top-color: var(--fill-color);\n",
              "      border-right-color: var(--fill-color);\n",
              "    }\n",
              "    40% {\n",
              "      border-color: transparent;\n",
              "      border-right-color: var(--fill-color);\n",
              "      border-top-color: var(--fill-color);\n",
              "    }\n",
              "    60% {\n",
              "      border-color: transparent;\n",
              "      border-right-color: var(--fill-color);\n",
              "    }\n",
              "    80% {\n",
              "      border-color: transparent;\n",
              "      border-right-color: var(--fill-color);\n",
              "      border-bottom-color: var(--fill-color);\n",
              "    }\n",
              "    90% {\n",
              "      border-color: transparent;\n",
              "      border-bottom-color: var(--fill-color);\n",
              "    }\n",
              "  }\n",
              "</style>\n",
              "\n",
              "  <script>\n",
              "    async function quickchart(key) {\n",
              "      const quickchartButtonEl =\n",
              "        document.querySelector('#' + key + ' button');\n",
              "      quickchartButtonEl.disabled = true;  // To prevent multiple clicks.\n",
              "      quickchartButtonEl.classList.add('colab-df-spinner');\n",
              "      try {\n",
              "        const charts = await google.colab.kernel.invokeFunction(\n",
              "            'suggestCharts', [key], {});\n",
              "      } catch (error) {\n",
              "        console.error('Error during call to suggestCharts:', error);\n",
              "      }\n",
              "      quickchartButtonEl.classList.remove('colab-df-spinner');\n",
              "      quickchartButtonEl.classList.add('colab-df-quickchart-complete');\n",
              "    }\n",
              "    (() => {\n",
              "      let quickchartButtonEl =\n",
              "        document.querySelector('#df-34f17adc-5213-4238-ac15-acf3f6b6c405 button');\n",
              "      quickchartButtonEl.style.display =\n",
              "        google.colab.kernel.accessAllowed ? 'block' : 'none';\n",
              "    })();\n",
              "  </script>\n",
              "</div>\n",
              "    </div>\n",
              "  </div>\n"
            ]
          },
          "metadata": {},
          "execution_count": 26
        }
      ],
      "source": [
        "table[4]"
      ]
    },
    {
      "cell_type": "code",
      "execution_count": 27,
      "metadata": {
        "colab": {
          "base_uri": "https://localhost:8080/"
        },
        "id": "jyJwtTxXxVSv",
        "outputId": "51c9d41c-dcd1-4136-b345-fa8e845239b1"
      },
      "outputs": [
        {
          "output_type": "stream",
          "name": "stdout",
          "text": [
            "138664377209072\n",
            "138664377209072\n"
          ]
        }
      ],
      "source": [
        "x : str = 'abc'\n",
        "z : str = 'abc'\n",
        "\n",
        "print(id(x))\n",
        "print(id(z))"
      ]
    },
    {
      "cell_type": "code",
      "execution_count": 28,
      "metadata": {
        "colab": {
          "base_uri": "https://localhost:8080/"
        },
        "id": "p-MY03-JxVSv",
        "outputId": "045baa00-cee0-4e45-9bc6-e20a5dfe4b0a"
      },
      "outputs": [
        {
          "output_type": "stream",
          "name": "stdout",
          "text": [
            "138664377209072\n",
            "138664167572528\n"
          ]
        },
        {
          "output_type": "execute_result",
          "data": {
            "text/plain": [
              "False"
            ]
          },
          "metadata": {},
          "execution_count": 28
        }
      ],
      "source": [
        "i : str = 'abc'\n",
        "j : str = 'xyz'\n",
        "\n",
        "print(id(i))\n",
        "print(id(j))\n",
        "\n",
        "i is j"
      ]
    },
    {
      "cell_type": "code",
      "execution_count": 29,
      "metadata": {
        "colab": {
          "base_uri": "https://localhost:8080/"
        },
        "id": "Pi4GzCOMxVSv",
        "outputId": "2ed6d15f-6b95-4034-c054-c6dd62034038"
      },
      "outputs": [
        {
          "output_type": "execute_result",
          "data": {
            "text/plain": [
              "True"
            ]
          },
          "metadata": {},
          "execution_count": 29
        }
      ],
      "source": [
        "x is z"
      ]
    },
    {
      "cell_type": "code",
      "execution_count": null,
      "metadata": {
        "id": "-Bq8lo_3xVSw",
        "outputId": "7ce63678-e636-43a9-ae93-6b592f2290f2"
      },
      "outputs": [
        {
          "name": "stdout",
          "output_type": "stream",
          "text": [
            "4314307568\n",
            "4314307568\n"
          ]
        },
        {
          "data": {
            "text/plain": [
              "False"
            ]
          },
          "execution_count": 57,
          "metadata": {},
          "output_type": "execute_result"
        }
      ],
      "source": [
        "x : str = 'abc'\n",
        "z : str = 'abc'\n",
        "\n",
        "print(id(x))\n",
        "print(id(z))\n",
        "\n",
        "x is not z"
      ]
    },
    {
      "cell_type": "markdown",
      "metadata": {
        "id": "OIQp8bbBxVSw"
      },
      "source": [
        "# Python Membership Operators\n"
      ]
    },
    {
      "cell_type": "code",
      "execution_count": null,
      "metadata": {
        "id": "Pp6lq9f0xVSw",
        "outputId": "2a17f467-5318-48db-fcd0-eeaaa58808b6"
      },
      "outputs": [
        {
          "data": {
            "text/html": [
              "<div>\n",
              "<style scoped>\n",
              "    .dataframe tbody tr th:only-of-type {\n",
              "        vertical-align: middle;\n",
              "    }\n",
              "\n",
              "    .dataframe tbody tr th {\n",
              "        vertical-align: top;\n",
              "    }\n",
              "\n",
              "    .dataframe thead th {\n",
              "        text-align: right;\n",
              "    }\n",
              "</style>\n",
              "<table border=\"1\" class=\"dataframe\">\n",
              "  <thead>\n",
              "    <tr style=\"text-align: right;\">\n",
              "      <th></th>\n",
              "      <th>Operator</th>\n",
              "      <th>Description</th>\n",
              "      <th>Example</th>\n",
              "      <th>Try it</th>\n",
              "    </tr>\n",
              "  </thead>\n",
              "  <tbody>\n",
              "    <tr>\n",
              "      <th>0</th>\n",
              "      <td>in</td>\n",
              "      <td>Returns True if a sequence with the specified ...</td>\n",
              "      <td>x in y</td>\n",
              "      <td>Try it »</td>\n",
              "    </tr>\n",
              "    <tr>\n",
              "      <th>1</th>\n",
              "      <td>not in</td>\n",
              "      <td>Returns True if a sequence with the specified ...</td>\n",
              "      <td>x not in y</td>\n",
              "      <td>Try it »</td>\n",
              "    </tr>\n",
              "  </tbody>\n",
              "</table>\n",
              "</div>"
            ],
            "text/plain": [
              "  Operator                                        Description     Example  \\\n",
              "0       in  Returns True if a sequence with the specified ...      x in y   \n",
              "1   not in  Returns True if a sequence with the specified ...  x not in y   \n",
              "\n",
              "     Try it  \n",
              "0  Try it »  \n",
              "1  Try it »  "
            ]
          },
          "execution_count": 61,
          "metadata": {},
          "output_type": "execute_result"
        }
      ],
      "source": [
        "table[5]"
      ]
    },
    {
      "cell_type": "code",
      "execution_count": 39,
      "metadata": {
        "colab": {
          "base_uri": "https://localhost:8080/"
        },
        "id": "fWuT39ejxVSx",
        "outputId": "8342f479-0a25-457e-dddf-458cfc8ed85f"
      },
      "outputs": [
        {
          "output_type": "stream",
          "name": "stdout",
          "text": [
            "['A', 'B', 'C', 'D', 'E', 'F', 'G', 'H', 'I', 'J', 'K', 'L', 'M', 'N', 'O', 'P', 'Q', 'R', 'S', 'T', 'U', 'V', 'W', 'X', 'Y', 'Z']\n",
            "26\n"
          ]
        }
      ],
      "source": [
        "names: list[str] = [chr(i) for i in range(65,91)]\n",
        "print(names)\n",
        "print(len(names))"
      ]
    },
    {
      "cell_type": "code",
      "source": [
        "for i in range(len(names)):\n",
        "    print(i, names[i],ord(names[i]))\n",
        "    if names[i] == \"N\":\n",
        "        print(\"True\")\n",
        "        break"
      ],
      "metadata": {
        "colab": {
          "base_uri": "https://localhost:8080/"
        },
        "id": "f3I4sb0x4g4l",
        "outputId": "ca6d0aff-f2cb-4f15-e549-39a428c3bf4d"
      },
      "execution_count": 40,
      "outputs": [
        {
          "output_type": "stream",
          "name": "stdout",
          "text": [
            "0 A 65\n",
            "1 B 66\n",
            "2 C 67\n",
            "3 D 68\n",
            "4 E 69\n",
            "5 F 70\n",
            "6 G 71\n",
            "7 H 72\n",
            "8 I 73\n",
            "9 J 74\n",
            "10 K 75\n",
            "11 L 76\n",
            "12 M 77\n",
            "13 N 78\n",
            "True\n"
          ]
        }
      ]
    },
    {
      "cell_type": "code",
      "execution_count": 44,
      "metadata": {
        "colab": {
          "base_uri": "https://localhost:8080/"
        },
        "id": "A7iRn-hrxVSx",
        "outputId": "5827960a-1a0b-42d8-d369-905c69231111"
      },
      "outputs": [
        {
          "output_type": "execute_result",
          "data": {
            "text/plain": [
              "True"
            ]
          },
          "metadata": {},
          "execution_count": 44
        }
      ],
      "source": [
        "names: list[str] = [chr(i) for i in range(65,91)]\n",
        "\n",
        "\"N\" in names # same as names[i]==\"N\""
      ]
    },
    {
      "cell_type": "code",
      "execution_count": null,
      "metadata": {
        "id": "fK2sFqN5xVSy",
        "outputId": "53fa88f5-af80-4a59-ea5a-5aeafc593baf"
      },
      "outputs": [
        {
          "data": {
            "text/plain": [
              "['A',\n",
              " 'B',\n",
              " 'C',\n",
              " 'D',\n",
              " 'E',\n",
              " 'F',\n",
              " 'G',\n",
              " 'H',\n",
              " 'I',\n",
              " 'J',\n",
              " 'K',\n",
              " 'L',\n",
              " 'M',\n",
              " 'N',\n",
              " 'O',\n",
              " 'P',\n",
              " 'Q',\n",
              " 'R',\n",
              " 'S',\n",
              " 'T',\n",
              " 'U',\n",
              " 'V',\n",
              " 'W',\n",
              " 'X',\n",
              " 'Y',\n",
              " 'Z']"
            ]
          },
          "metadata": {},
          "output_type": "display_data"
        },
        {
          "data": {
            "text/plain": [
              "False"
            ]
          },
          "execution_count": 68,
          "metadata": {},
          "output_type": "execute_result"
        }
      ],
      "source": [
        "names: list[str] = [chr(i) for i in range(65,91)]\n",
        "display(names)\n",
        "\n",
        "\"Pakistan\" in names"
      ]
    },
    {
      "cell_type": "code",
      "source": [
        "names[13]==\"N\""
      ],
      "metadata": {
        "colab": {
          "base_uri": "https://localhost:8080/"
        },
        "id": "JBMTBhVl6CWr",
        "outputId": "6cd1e89c-d6d5-46d3-d697-b236f3a0be23"
      },
      "execution_count": 45,
      "outputs": [
        {
          "output_type": "execute_result",
          "data": {
            "text/plain": [
              "True"
            ]
          },
          "metadata": {},
          "execution_count": 45
        }
      ]
    },
    {
      "cell_type": "code",
      "execution_count": 46,
      "metadata": {
        "colab": {
          "base_uri": "https://localhost:8080/"
        },
        "id": "IRPrqhG_xVSy",
        "outputId": "63192609-eedd-4b0a-d033-14b742f8d978"
      },
      "outputs": [
        {
          "output_type": "execute_result",
          "data": {
            "text/plain": [
              "False"
            ]
          },
          "metadata": {},
          "execution_count": 46
        }
      ],
      "source": [
        "names: list[str] = [chr(i) for i in range(65,91)]\n",
        "\n",
        "\"D\" not in names"
      ]
    },
    {
      "cell_type": "code",
      "execution_count": 47,
      "metadata": {
        "colab": {
          "base_uri": "https://localhost:8080/"
        },
        "id": "owIWAcNQxVSz",
        "outputId": "adc3bb00-bbdb-4819-f1aa-d2a1f147c5cc"
      },
      "outputs": [
        {
          "name": "stdout",
          "output_type": "stream",
          "text": [
            "Enter your nameNazneen\n"
          ]
        },
        {
          "output_type": "execute_result",
          "data": {
            "text/plain": [
              "False"
            ]
          },
          "metadata": {},
          "execution_count": 47
        }
      ],
      "source": [
        "names : list[str] = ['Sir Zia','Sir Inam', 'Qasim']\n",
        "\n",
        "uinput : str = input(\"Enter your name\")\n",
        "\n",
        "uinput in names"
      ]
    },
    {
      "cell_type": "code",
      "execution_count": 48,
      "metadata": {
        "colab": {
          "base_uri": "https://localhost:8080/"
        },
        "id": "ZrZ7RYsoxVS2",
        "outputId": "73d54b56-2a7b-4c75-fdca-9f8d75c817dd"
      },
      "outputs": [
        {
          "name": "stdout",
          "output_type": "stream",
          "text": [
            "Enter your nameNazneen\n"
          ]
        },
        {
          "output_type": "execute_result",
          "data": {
            "text/plain": [
              "True"
            ]
          },
          "metadata": {},
          "execution_count": 48
        }
      ],
      "source": [
        "names : list[str] = ['Sir Zia','Sir Inam', 'Qasim']\n",
        "\n",
        "uinput : str = input(\"Enter your name\")\n",
        "\n",
        "uinput not in names"
      ]
    },
    {
      "cell_type": "code",
      "execution_count": null,
      "metadata": {
        "id": "tCrb-w22xVS3",
        "outputId": "f7f2c4e2-c18f-421e-b81c-66f7ab5bce83"
      },
      "outputs": [
        {
          "data": {
            "text/plain": [
              "False"
            ]
          },
          "execution_count": 78,
          "metadata": {},
          "output_type": "execute_result"
        }
      ],
      "source": [
        "uinput not in names"
      ]
    },
    {
      "cell_type": "markdown",
      "metadata": {
        "id": "1rTl3Y1ZxVS3"
      },
      "source": [
        "<img src='https://learningmonkey.in/wp-content/uploads/2021/05/Operator-Precedence-and-Associativity-in-Python.jpg'>\n",
        "\n",
        "## PEMDAS"
      ]
    },
    {
      "cell_type": "code",
      "execution_count": null,
      "metadata": {
        "id": "2eRFRIGGxVS3",
        "outputId": "c74d1771-66f6-42b4-9c43-571eceaedd55"
      },
      "outputs": [
        {
          "name": "stdout",
          "output_type": "stream",
          "text": [
            "3.0\n"
          ]
        }
      ],
      "source": [
        "print(3 + 2 - 2 * 4 /2 + 2)\n",
        "#     3+2−2×4÷2+2\n",
        "#     3 + 2 - 4 + 2\n",
        "#      6    - 8"
      ]
    },
    {
      "cell_type": "markdown",
      "metadata": {
        "id": "TI_soZ4SxVS4"
      },
      "source": [
        "Alright, let's solve the equation step by step. We'll use the order of operations, often remembered by the acronym PEMDAS/BODMAS:\n",
        "\n",
        "- **P**arentheses/**B**rackets\n",
        "- **E**xponents (ie Powers and Square Roots, etc.)/**O**rders (ie Powers and Square Roots, etc.)\n",
        "- **MD** Multiplication and Division (left-to-right)\n",
        "- **AS** Addition and Subtraction (left-to-right)\n",
        "\n",
        "Given the expression:\n",
        "\n",
        "\\[ 3 + 2 - 2 \\times 4 \\div 2 + 2 \\]\n",
        "\n",
        "Let's solve it step by step:\n",
        "\n",
        "1. **Multiplication and Division**:\n",
        "\\[ 2 \\times 4 = 8 \\]\n",
        "\\[ 8 \\div 2 = 4 \\]\n",
        "\n",
        "Replacing these values in the expression, we get:\n",
        "\n",
        "\\[ 3 + 2 - 4 + 2 \\]\n",
        "\n",
        "2. **Addition and Subtraction** (from left to right):\n",
        "\\[ 3 + 2 = 5 \\]\n",
        "\\[ 5 - 4 = 1 \\]\n",
        "\\[ 1 + 2 = 3 \\]\n",
        "\n",
        "So, the final answer is:\n",
        "\n",
        "\\[ 3 \\]"
      ]
    },
    {
      "cell_type": "code",
      "execution_count": null,
      "metadata": {
        "id": "2nx67Mj-xVS4",
        "outputId": "04f06e69-bd36-4abf-85b8-a942df6583f8"
      },
      "outputs": [
        {
          "name": "stdout",
          "output_type": "stream",
          "text": [
            "0\n"
          ]
        }
      ],
      "source": [
        "print((6 + 3) - (6 + 3))"
      ]
    },
    {
      "cell_type": "code",
      "execution_count": null,
      "metadata": {
        "id": "LyyAAO_OxVS5",
        "outputId": "bc886b54-3392-4d92-ce0d-2b5123d22d02"
      },
      "outputs": [
        {
          "name": "stdout",
          "output_type": "stream",
          "text": [
            "14000000000\n"
          ]
        }
      ],
      "source": [
        "universe_age: int  = 14_000_000_000\n",
        "print(universe_age)\n"
      ]
    },
    {
      "cell_type": "code",
      "execution_count": 49,
      "metadata": {
        "colab": {
          "base_uri": "https://localhost:8080/"
        },
        "id": "HhtmMyVJxVS5",
        "outputId": "1bc3e252-1259-4d60-cae3-572689e4931d"
      },
      "outputs": [
        {
          "output_type": "stream",
          "name": "stdout",
          "text": [
            "nazneen\n",
            "7\n",
            "3.0\n"
          ]
        }
      ],
      "source": [
        "\n",
        "\n",
        "# unzip\n",
        "#0  1    2     0        1   2\n",
        "a , b  , c  = 'nazneen', 7, 3.0\n",
        "\n",
        "print(a)\n",
        "print(b)\n",
        "print(c)"
      ]
    },
    {
      "cell_type": "code",
      "execution_count": 50,
      "metadata": {
        "colab": {
          "base_uri": "https://localhost:8080/"
        },
        "id": "Y9G_aGPGxVS6",
        "outputId": "9ee2843a-f499-4381-86bb-364c92de098f"
      },
      "outputs": [
        {
          "output_type": "execute_result",
          "data": {
            "text/plain": [
              "('nazneen', 7, 3.0)"
            ]
          },
          "metadata": {},
          "execution_count": 50
        }
      ],
      "source": [
        "'nazneen', 7, 3.0"
      ]
    },
    {
      "cell_type": "code",
      "execution_count": 51,
      "metadata": {
        "colab": {
          "base_uri": "https://localhost:8080/"
        },
        "id": "JbV55852xVS6",
        "outputId": "1dc4a416-6f6a-4c97-d15c-9cb1a679c792"
      },
      "outputs": [
        {
          "output_type": "stream",
          "name": "stdout",
          "text": [
            "nazneen\n",
            "7\n",
            "3.0\n"
          ]
        }
      ],
      "source": [
        "a, b, c = ('nazneen', 7, 3.0)\n",
        "print(a)\n",
        "print(b)\n",
        "print(c)\n"
      ]
    },
    {
      "cell_type": "code",
      "execution_count": 52,
      "metadata": {
        "colab": {
          "base_uri": "https://localhost:8080/"
        },
        "id": "AkG78WCCxVS7",
        "outputId": "9e879965-544a-4448-871c-b9569a2ff4cb"
      },
      "outputs": [
        {
          "output_type": "stream",
          "name": "stdout",
          "text": [
            "nazneen 7 3.0\n"
          ]
        }
      ],
      "source": [
        "data = ('nazneen', 7, 3.0)\n",
        "print(data[0], data[1], data[2])"
      ]
    },
    {
      "cell_type": "code",
      "execution_count": 53,
      "metadata": {
        "colab": {
          "base_uri": "https://localhost:8080/"
        },
        "id": "rIyt3dDixVS7",
        "outputId": "578bfd29-40dd-4023-a0ae-bf33c352704b"
      },
      "outputs": [
        {
          "output_type": "stream",
          "name": "stdout",
          "text": [
            "nazneen 7 3.0\n"
          ]
        }
      ],
      "source": [
        "data = ('nazneen', 7, 3.0)\n",
        "print(*data)"
      ]
    },
    {
      "cell_type": "code",
      "execution_count": null,
      "metadata": {
        "id": "FtAZyAIHxVS8",
        "outputId": "51d84986-4f93-49ca-f0a4-788cf4cd5478"
      },
      "outputs": [
        {
          "data": {
            "text/plain": [
              "'aaa'"
            ]
          },
          "execution_count": 90,
          "metadata": {},
          "output_type": "execute_result"
        }
      ],
      "source": [
        "2 * 2\n",
        "\"a\" * 3"
      ]
    },
    {
      "cell_type": "code",
      "execution_count": null,
      "metadata": {
        "id": "KJAALHPsxVS8"
      },
      "outputs": [],
      "source": [
        "# akadkjas\n",
        "\n",
        "\n",
        "# adskf\n",
        "# ads\n",
        "# Falsea\n",
        "# df"
      ]
    },
    {
      "cell_type": "code",
      "execution_count": null,
      "metadata": {
        "id": "bUHH5vE7xVS8",
        "outputId": "edf8bcb6-b09b-486f-a14b-5cfdae088d3f"
      },
      "outputs": [
        {
          "name": "stdout",
          "output_type": "stream",
          "text": [
            "hello\n"
          ]
        }
      ],
      "source": [
        "\"\"\"\n",
        "asdf\n",
        "asd\n",
        "f\n",
        "asdf\n",
        "\n",
        "\"\"\"\n",
        "\n",
        "print('hello')"
      ]
    },
    {
      "cell_type": "code",
      "execution_count": null,
      "metadata": {
        "id": "2yrwXpuDxVS9",
        "outputId": "7c6c306e-1417-47f9-8e11-b076503290f8"
      },
      "outputs": [
        {
          "name": "stdout",
          "output_type": "stream",
          "text": [
            "The Zen of Python, by Tim Peters\n",
            "\n",
            "Beautiful is better than ugly.\n",
            "Explicit is better than implicit.\n",
            "Simple is better than complex.\n",
            "Complex is better than complicated.\n",
            "Flat is better than nested.\n",
            "Sparse is better than dense.\n",
            "Readability counts.\n",
            "Special cases aren't special enough to break the rules.\n",
            "Although practicality beats purity.\n",
            "Errors should never pass silently.\n",
            "Unless explicitly silenced.\n",
            "In the face of ambiguity, refuse the temptation to guess.\n",
            "There should be one-- and preferably only one --obvious way to do it.\n",
            "Although that way may not be obvious at first unless you're Dutch.\n",
            "Now is better than never.\n",
            "Although never is often better than *right* now.\n",
            "If the implementation is hard to explain, it's a bad idea.\n",
            "If the implementation is easy to explain, it may be a good idea.\n",
            "Namespaces are one honking great idea -- let's do more of those!\n"
          ]
        }
      ],
      "source": [
        "import this"
      ]
    }
  ],
  "metadata": {
    "kernelspec": {
      "display_name": "py12",
      "language": "python",
      "name": "python3"
    },
    "language_info": {
      "codemirror_mode": {
        "name": "ipython",
        "version": 3
      },
      "file_extension": ".py",
      "mimetype": "text/x-python",
      "name": "python",
      "nbconvert_exporter": "python",
      "pygments_lexer": "ipython3",
      "version": "3.12.0"
    },
    "orig_nbformat": 4,
    "colab": {
      "provenance": [],
      "include_colab_link": true
    }
  },
  "nbformat": 4,
  "nbformat_minor": 0
}