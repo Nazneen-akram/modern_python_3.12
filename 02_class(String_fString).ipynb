{
  "cells": [
    {
      "cell_type": "markdown",
      "metadata": {
        "id": "view-in-github",
        "colab_type": "text"
      },
      "source": [
        "<a href=\"https://colab.research.google.com/github/Nazneen-akram/modern_python_3.12/blob/main/02_class(String_fString).ipynb\" target=\"_parent\"><img src=\"https://colab.research.google.com/assets/colab-badge.svg\" alt=\"Open In Colab\"/></a>"
      ]
    },
    {
      "cell_type": "markdown",
      "metadata": {
        "id": "FGTlnvD3f-W7"
      },
      "source": [
        "### String Data type in python"
      ]
    },
    {
      "cell_type": "code",
      "execution_count": null,
      "metadata": {
        "id": "eDMm9yj5f-XL",
        "outputId": "2f613cb2-a7ed-461e-c2df-515d9e29aabf"
      },
      "outputs": [
        {
          "name": "stdout",
          "output_type": "stream",
          "text": [
            "<class 'str'>\n",
            "Nazneen Akram\n"
          ]
        }
      ],
      "source": [
        "name: str = 'Nazneen Akram'\n",
        "print(type(name))\n",
        "print(name)"
      ]
    },
    {
      "cell_type": "code",
      "execution_count": null,
      "metadata": {
        "id": "qlOwC_irf-XX",
        "outputId": "e8d7b019-8950-4914-fd4f-04e8b5a66fe0"
      },
      "outputs": [
        {
          "name": "stdout",
          "output_type": "stream",
          "text": [
            "PIAIC Student Card \n",
            " father's Name\n"
          ]
        }
      ],
      "source": [
        "message: str = \"PIAIC Student Card \\n father's Name\"\n",
        "print(message)"
      ]
    },
    {
      "cell_type": "code",
      "execution_count": null,
      "metadata": {
        "id": "vtSlHvMkf-Xa",
        "outputId": "be23242d-1225-4069-af7d-5ebfa38feb88"
      },
      "outputs": [
        {
          "name": "stdout",
          "output_type": "stream",
          "text": [
            "PIAIC Student Card \n",
            " father's Name\n"
          ]
        }
      ],
      "source": [
        "# convert any special character into simple character, place \\ before character\n",
        "message : str = 'PIAIC Student Card \\n father\\'s Name'\n",
        "print(message)"
      ]
    },
    {
      "cell_type": "markdown",
      "metadata": {
        "id": "eGnsy2CGf-Xc"
      },
      "source": [
        "### String and Integer cannot be concatenated"
      ]
    },
    {
      "cell_type": "code",
      "execution_count": null,
      "metadata": {
        "id": "LbKg8DHXf-Xf",
        "outputId": "396a12ca-5e55-4a10-a08b-eea9567cfca6"
      },
      "outputs": [
        {
          "ename": "TypeError",
          "evalue": "can only concatenate str (not \"int\") to str",
          "output_type": "error",
          "traceback": [
            "\u001b[1;31m---------------------------------------------------------------------------\u001b[0m",
            "\u001b[1;31mTypeError\u001b[0m                                 Traceback (most recent call last)",
            "\u001b[1;32md:\\modern_py\\02_class(String_fString).ipynb Cell 5\u001b[0m line \u001b[0;36m3\n\u001b[0;32m      <a href='vscode-notebook-cell:/d%3A/modern_py/02_class%28String_fString%29.ipynb#X10sZmlsZQ%3D%3D?line=0'>1</a>\u001b[0m name: \u001b[39mstr\u001b[39m \u001b[39m=\u001b[39m\u001b[39m\"\u001b[39m\u001b[39mNazneen Akram\u001b[39m\u001b[39m\"\u001b[39m\n\u001b[0;32m      <a href='vscode-notebook-cell:/d%3A/modern_py/02_class%28String_fString%29.ipynb#X10sZmlsZQ%3D%3D?line=1'>2</a>\u001b[0m age: \u001b[39mint\u001b[39m \u001b[39m=\u001b[39m \u001b[39m30\u001b[39m\n\u001b[1;32m----> <a href='vscode-notebook-cell:/d%3A/modern_py/02_class%28String_fString%29.ipynb#X10sZmlsZQ%3D%3D?line=2'>3</a>\u001b[0m card: \u001b[39many\u001b[39m \u001b[39m=\u001b[39m \u001b[39m\"\u001b[39;49m\u001b[39mStudent Name :\u001b[39;49m\u001b[39m\"\u001b[39;49m \u001b[39m+\u001b[39;49m name \u001b[39m+\u001b[39;49m \u001b[39m\"\u001b[39;49m\u001b[39m and age is \u001b[39;49m\u001b[39m\"\u001b[39;49m \u001b[39m+\u001b[39;49m age\n\u001b[0;32m      <a href='vscode-notebook-cell:/d%3A/modern_py/02_class%28String_fString%29.ipynb#X10sZmlsZQ%3D%3D?line=3'>4</a>\u001b[0m \u001b[39mprint\u001b[39m(card)\n",
            "\u001b[1;31mTypeError\u001b[0m: can only concatenate str (not \"int\") to str"
          ]
        }
      ],
      "source": [
        "name: str =\"Nazneen Akram\"\n",
        "age: int = 30\n",
        "card: any = \"Student Name :\" + name + \" and age is \" + age\n",
        "print(card)"
      ]
    },
    {
      "cell_type": "markdown",
      "metadata": {
        "id": "su5jsRr7f-Xj"
      },
      "source": [
        "### To Concatenate string and int, use str() to type change"
      ]
    },
    {
      "cell_type": "code",
      "execution_count": null,
      "metadata": {
        "id": "w9AHbOrsf-Xl",
        "outputId": "5e3165f5-d9e1-476b-a055-4993df862a6d"
      },
      "outputs": [
        {
          "name": "stdout",
          "output_type": "stream",
          "text": [
            "Student Name is Nazneen Akram and age is : 30\n"
          ]
        }
      ],
      "source": [
        "name: str = \"Nazneen Akram\"\n",
        "age: int = 30\n",
        "card: str = \"Student Name is \" +name + \" and age is : \"+ str(age)\n",
        "print(card)"
      ]
    },
    {
      "cell_type": "markdown",
      "metadata": {
        "id": "C01fcobpf-Xo"
      },
      "source": [
        "### '\\\\' line continue"
      ]
    },
    {
      "cell_type": "code",
      "execution_count": null,
      "metadata": {
        "id": "mWUlfx_bf-Xq",
        "outputId": "f45073f0-e1a3-4b6e-f1df-a9f0441233d9"
      },
      "outputs": [
        {
          "name": "stdout",
          "output_type": "stream",
          "text": [
            "PIAIC Student Card\n",
            "Student Name: Nazneen Akram\n",
            "Father's Name: Syed Muhammad Akram Rizvi\n",
            "Education: PGD in Data Science and Artificial Intelligent\n",
            "Age: 30\n"
          ]
        }
      ],
      "source": [
        "name: str = \"Nazneen Akram\\n\"\n",
        "fname: str =\"Syed Muhammad Akram Rizvi\\n\"\n",
        "education: str = \"PGD in Data Science and Artificial Intelligent\\n\"\n",
        "age:int = 30\n",
        "card = \"PIAIC Student Card\\n\" \\\n",
        "+ \"Student Name: \" + name \\\n",
        "+ \"Father's Name: \" + fname \\\n",
        "+ \"Education: \" + education \\\n",
        "+ \"Age: \" + str(age)\n",
        "print(card)\n",
        "\n"
      ]
    },
    {
      "cell_type": "markdown",
      "metadata": {
        "id": "KBlMoqa6f-Xs"
      },
      "source": [
        "### Define multiline string \"\"\" \"\"\", ''' '''"
      ]
    },
    {
      "cell_type": "code",
      "execution_count": null,
      "metadata": {
        "id": "BrdlABisf-Xt",
        "outputId": "416d178d-e59d-49f8-cc8a-a3f72fd2c5f4"
      },
      "outputs": [
        {
          "name": "stdout",
          "output_type": "stream",
          "text": [
            "\n",
            "PIAIC Student Card\n",
            "Student's Name:...\n",
            "Father's Name:...\n",
            "Education:...\n",
            "Age:...\n",
            "\n",
            "\n"
          ]
        }
      ],
      "source": [
        "card: str =  \"\"\"\n",
        "PIAIC Student Card\n",
        "Student's Name:...\n",
        "Father's Name:...\n",
        "Education:...\n",
        "Age:...\n",
        "\n",
        "\"\"\"\n",
        "print(card)"
      ]
    },
    {
      "cell_type": "markdown",
      "metadata": {
        "id": "7qVlVV-Wf-Xw"
      },
      "source": [
        "### F-string pthon"
      ]
    },
    {
      "cell_type": "code",
      "execution_count": null,
      "metadata": {
        "id": "9G-MjqQWf-Xx",
        "outputId": "bda718d6-38bf-459d-d46c-5bf69f782a0e"
      },
      "outputs": [
        {
          "name": "stdout",
          "output_type": "stream",
          "text": [
            "\n",
            "PIAIC Student Card\n",
            "Student's Name: Nazneen Akram\n",
            "Father's Name: Syed Muhammad Akram Rizvi\n",
            "Education: PGD in Data Science and AI\n",
            "Age:30\n",
            "\n"
          ]
        }
      ],
      "source": [
        "name: str = \"Nazneen Akram\"\n",
        "fname: str = \"Syed Muhammad Akram Rizvi\"\n",
        "education: str =\"PGD in Data Science and AI\"\n",
        "age: int = 30\n",
        "\n",
        "card:str = f\"\"\"\n",
        "PIAIC Student Card\n",
        "Student's Name: {name}\n",
        "Father's Name: {fname}\n",
        "Education: {education}\n",
        "Age:{age}\n",
        "\"\"\"\n",
        "print(card)"
      ]
    },
    {
      "cell_type": "code",
      "execution_count": null,
      "metadata": {
        "id": "Y_mgcOyMf-Xz",
        "outputId": "7cc651ba-6271-4849-e07a-ba96bca7dc10"
      },
      "outputs": [
        {
          "name": "stdout",
          "output_type": "stream",
          "text": [
            "\n",
            "PIAIC Student Card\n",
            "Student Name : Nazneen Akram\n",
            "Father's Name: PGD DSAI\n",
            "Age: 30\n",
            "Education : Master in Data Science\n",
            "\n",
            "Total 22\n",
            "\n"
          ]
        }
      ],
      "source": [
        "name : str = 'Nazneen Akram'\n",
        "fname : str = \"PGD DSAI\"\n",
        "education : str = \"Master in Data Science\"\n",
        "age : int = 30\n",
        "\n",
        "\n",
        "card : str = f\"\"\"\n",
        "PIAIC Student Card\n",
        "Student Name : {name}\n",
        "Father's Name: {fname}\n",
        "Age: {age}\n",
        "Education : {education}\n",
        "\n",
        "Total {2 + 8 + 9 + 3}\n",
        "\"\"\"\n",
        "\n",
        "print(card)"
      ]
    },
    {
      "cell_type": "markdown",
      "metadata": {
        "id": "cUIHVOEgf-X1"
      },
      "source": [
        "### F-string and Jinja style"
      ]
    },
    {
      "cell_type": "code",
      "execution_count": null,
      "metadata": {
        "id": "z9M5q8wFf-X2",
        "outputId": "3984fce1-6121-4d6f-cc41-9cfc3a74943b"
      },
      "outputs": [
        {
          "data": {
            "text/plain": [
              "'\\nstudent name Nazneen Akram\\n'"
            ]
          },
          "execution_count": 15,
          "metadata": {},
          "output_type": "execute_result"
        }
      ],
      "source": [
        "\n",
        "f\"\"\"\n",
        "student name {name}\n",
        "\"\"\""
      ]
    },
    {
      "cell_type": "code",
      "execution_count": null,
      "metadata": {
        "id": "HzvsPjrtf-X3",
        "outputId": "16772ff9-5193-4c8d-fde5-1e4194bd36c9"
      },
      "outputs": [
        {
          "data": {
            "text/plain": [
              "'\\nstudent name {{name}}\\n'"
            ]
          },
          "execution_count": 16,
          "metadata": {},
          "output_type": "execute_result"
        }
      ],
      "source": [
        "# Jinja Style\n",
        "\"\"\"\n",
        "student name {{name}}\n",
        "\"\"\""
      ]
    },
    {
      "cell_type": "code",
      "execution_count": null,
      "metadata": {
        "id": "mcKrxOMaf-X4"
      },
      "outputs": [],
      "source": []
    }
  ],
  "metadata": {
    "kernelspec": {
      "display_name": "Python 3",
      "language": "python",
      "name": "python3"
    },
    "language_info": {
      "codemirror_mode": {
        "name": "ipython",
        "version": 3
      },
      "file_extension": ".py",
      "mimetype": "text/x-python",
      "name": "python",
      "nbconvert_exporter": "python",
      "pygments_lexer": "ipython3",
      "version": "3.11.4"
    },
    "colab": {
      "provenance": [],
      "include_colab_link": true
    }
  },
  "nbformat": 4,
  "nbformat_minor": 0
}