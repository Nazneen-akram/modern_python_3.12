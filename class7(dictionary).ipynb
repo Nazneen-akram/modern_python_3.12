{
  "cells": [
    {
      "cell_type": "markdown",
      "metadata": {
        "id": "view-in-github",
        "colab_type": "text"
      },
      "source": [
        "<a href=\"https://colab.research.google.com/github/Nazneen-akram/modern_python_3.12/blob/main/class7(dictionary).ipynb\" target=\"_parent\"><img src=\"https://colab.research.google.com/assets/colab-badge.svg\" alt=\"Open In Colab\"/></a>"
      ]
    },
    {
      "cell_type": "code",
      "execution_count": 1,
      "metadata": {
        "colab": {
          "base_uri": "https://localhost:8080/"
        },
        "id": "5uYFDnNypeMH",
        "outputId": "8a29e71e-908c-4106-d35e-0ac17014bcc1"
      },
      "outputs": [
        {
          "output_type": "stream",
          "name": "stdout",
          "text": [
            "Product B\n"
          ]
        }
      ],
      "source": [
        "\n",
        "# List                    0                1            2\n",
        "data : list[str] = [\"Product A\",\"Product B\",\"Product C\"]\n",
        "\n",
        "print(data[1])"
      ]
    },
    {
      "cell_type": "code",
      "execution_count": 3,
      "metadata": {
        "colab": {
          "base_uri": "https://localhost:8080/"
        },
        "id": "Tk7nok-fpeMN",
        "outputId": "98a07104-a6c2-427f-c3f9-1a2f8033641d"
      },
      "outputs": [
        {
          "output_type": "stream",
          "name": "stdout",
          "text": [
            "{1, 2, 3, 7}\n"
          ]
        }
      ],
      "source": [
        "data : set = {7,1,2,1,1,1,1,3,2} # set extract unique values and removes duplicated\n",
        "print(data) # return unique"
      ]
    },
    {
      "cell_type": "code",
      "execution_count": null,
      "metadata": {
        "id": "r3MKiAp0peMO",
        "outputId": "f2b6178f-bb91-4f77-c5a6-d3ce99db39ce"
      },
      "outputs": [
        {
          "data": {
            "text/plain": [
              "['add',\n",
              " 'clear',\n",
              " 'copy',\n",
              " 'difference',\n",
              " 'difference_update',\n",
              " 'discard',\n",
              " 'intersection',\n",
              " 'intersection_update',\n",
              " 'isdisjoint',\n",
              " 'issubset',\n",
              " 'issuperset',\n",
              " 'pop',\n",
              " 'remove',\n",
              " 'symmetric_difference',\n",
              " 'symmetric_difference_update',\n",
              " 'union',\n",
              " 'update']"
            ]
          },
          "execution_count": 21,
          "metadata": {},
          "output_type": "execute_result"
        }
      ],
      "source": [
        "[i for i in dir(data) if \"__\" not in i]"
      ]
    },
    {
      "cell_type": "code",
      "execution_count": null,
      "metadata": {
        "id": "W-Pd4KRQpeMP",
        "outputId": "e75a6fef-d935-47a1-d659-dadefb0799c7"
      },
      "outputs": [
        {
          "ename": "TypeError",
          "evalue": "'set' object is not subscriptable",
          "output_type": "error",
          "traceback": [
            "\u001b[0;31m---------------------------------------------------------------------------\u001b[0m",
            "\u001b[0;31mTypeError\u001b[0m                                 Traceback (most recent call last)",
            "Cell \u001b[0;32mIn[22], line 2\u001b[0m\n\u001b[1;32m      1\u001b[0m data : \u001b[39mset\u001b[39m \u001b[39m=\u001b[39m {\u001b[39m7\u001b[39m,\u001b[39m1\u001b[39m,\u001b[39m2\u001b[39m,\u001b[39m1\u001b[39m,\u001b[39m1\u001b[39m,\u001b[39m1\u001b[39m,\u001b[39m1\u001b[39m,\u001b[39m3\u001b[39m,\u001b[39m2\u001b[39m}\n\u001b[0;32m----> 2\u001b[0m \u001b[39mprint\u001b[39m(data[\u001b[39m0\u001b[39;49m]) \u001b[39m# return unique\u001b[39;00m\n",
            "\u001b[0;31mTypeError\u001b[0m: 'set' object is not subscriptable"
          ]
        }
      ],
      "source": [
        "data : set = {7,1,2,1,1,1,1,3,2}\n",
        "print(data[0]) # return unique"
      ]
    },
    {
      "cell_type": "markdown",
      "metadata": {
        "id": "B6imTYTdpeMQ"
      },
      "source": [
        "# Dictionary\n",
        "* key:value (items)\n",
        "    * key replacement of indexes\n",
        "    * value item\n",
        "\n",
        "* dict_variable[key]\n",
        "    * dict_variable[new_key] = new_value\n",
        "        * add new value\n",
        "        * update value\n",
        "        \n"
      ]
    },
    {
      "cell_type": "code",
      "execution_count": null,
      "metadata": {
        "id": "xeh3DcAbpeMT",
        "outputId": "f724e7db-8f8b-43b2-d4c3-073ea8888323"
      },
      "outputs": [
        {
          "name": "stdout",
          "output_type": "stream",
          "text": [
            "{'education': 'MSDS', 'fname': 'Muhammad Aslam', 'name': 'Muhammad Qasim'}\n"
          ]
        }
      ],
      "source": [
        "from typing import Dict\n",
        "import pprint\n",
        "\n",
        "# List                    0                1            2\n",
        "data : Dict[str,str] = {\n",
        "                        \"fname\":\"Muhammad Aslam\",\n",
        "                        \"name\":\"Muhammad Qasim\",\n",
        "                        \"education\": \"MSDS\"\n",
        "                        }\n",
        "\n",
        "pprint.pprint(data)\n"
      ]
    },
    {
      "cell_type": "code",
      "execution_count": null,
      "metadata": {
        "id": "9-j2bSttpeMV",
        "outputId": "06375e48-1141-491b-b8fa-a8f04d034c38"
      },
      "outputs": [
        {
          "name": "stdout",
          "output_type": "stream",
          "text": [
            "{'education': 'MSDS', 'fname': 'Muhammad Aslam', 'name': 'Muhammad Qasim'}\n"
          ]
        }
      ],
      "source": [
        "from typing import Dict, Union, Optional\n",
        "import pprint\n",
        "\n",
        "\n",
        "Key = Union[int,str] # create custom type\n",
        "Value = Union[int, str, list, dict, tuple, set]\n",
        "\n",
        "# List                    0                1            2\n",
        "data : Dict[Key,Value] = {\n",
        "                        \"fname\":\"Muhammad Aslam\",\n",
        "                        \"name\":\"Muhammad Qasim\",\n",
        "                        \"education\": \"MSDS\"\n",
        "                        }\n",
        "\n",
        "pprint.pprint(data)\n"
      ]
    },
    {
      "cell_type": "code",
      "execution_count": null,
      "metadata": {
        "id": "FAwMPIfGpeMX",
        "outputId": "693cee58-6b31-4c00-b1f5-c0cc07175ba0"
      },
      "outputs": [
        {
          "name": "stdout",
          "output_type": "stream",
          "text": [
            "{'education': 'MSDS', 'fname': 'Muhammad Aslam', 'name': 'Muhammad Qasim'}\n",
            "Muhammad Qasim\n",
            "Muhammad Aslam\n",
            "MSDS\n"
          ]
        }
      ],
      "source": [
        "from typing import Dict, Union, Optional\n",
        "import pprint\n",
        "\n",
        "\n",
        "Key = Union[int,str] # create custom type\n",
        "Value = Union[int, str, list, dict, tuple, set]\n",
        "\n",
        "# List                    0                1            2\n",
        "data : Dict[Key,Value] = {\n",
        "                        \"fname\":\"Muhammad Aslam\",\n",
        "                        \"name\":\"Muhammad Qasim\",\n",
        "                        \"education\": \"MSDS\"\n",
        "                        }\n",
        "\n",
        "pprint.pprint(data)\n",
        "print(data[\"name\"])\n",
        "print(data['fname'])\n",
        "print(data['education'])"
      ]
    },
    {
      "cell_type": "code",
      "execution_count": null,
      "metadata": {
        "id": "axG5J_ILpeMX",
        "outputId": "7f143af0-64a6-45c8-d7a1-17be047d9f35"
      },
      "outputs": [
        {
          "name": "stdout",
          "output_type": "stream",
          "text": [
            "{0: 'Pakistan',\n",
            " 'education': 'MSDS',\n",
            " 'fname': 'Muhammad Aslam',\n",
            " 'name': 'Muhammad Qasim'}\n",
            "Muhammad Qasim\n",
            "Muhammad Aslam\n",
            "MSDS\n",
            "Pakistan\n"
          ]
        }
      ],
      "source": [
        "from typing import Dict, Union, Optional\n",
        "import pprint\n",
        "\n",
        "Key = Union[int,str] # create custom type\n",
        "Value = Union[int, str, list, dict, tuple, set]\n",
        "\n",
        "# List                    0                1            2\n",
        "data : Dict[Key,Value] = {\n",
        "                        \"fname\":\"Muhammad Aslam\",\n",
        "                        \"name\":\"Muhammad Qasim\",\n",
        "                        \"education\": \"MSDS\",\n",
        "                        0 : \"Pakistan\"\n",
        "                        }\n",
        "\n",
        "pprint.pprint(data)\n",
        "print(data[\"name\"])\n",
        "print(data['fname'])\n",
        "print(data['education'])\n",
        "print(data[0]) # index = key\n"
      ]
    },
    {
      "cell_type": "code",
      "execution_count": null,
      "metadata": {
        "id": "ykb0ZX2ypeMY",
        "outputId": "ebfbea2e-bc85-41cc-a223-64f028ada8b0"
      },
      "outputs": [
        {
          "ename": "TypeError",
          "evalue": "unhashable type: 'set'",
          "output_type": "error",
          "traceback": [
            "\u001b[0;31m---------------------------------------------------------------------------\u001b[0m",
            "\u001b[0;31mTypeError\u001b[0m                                 Traceback (most recent call last)",
            "Cell \u001b[0;32mIn[18], line 9\u001b[0m\n\u001b[1;32m      6\u001b[0m Value \u001b[39m=\u001b[39m Union[\u001b[39mint\u001b[39m, \u001b[39mstr\u001b[39m, \u001b[39mlist\u001b[39m, \u001b[39mdict\u001b[39m, \u001b[39mtuple\u001b[39m, \u001b[39mset\u001b[39m]\n\u001b[1;32m      8\u001b[0m \u001b[39m# List                    0                1            2\u001b[39;00m\n\u001b[0;32m----> 9\u001b[0m data : Dict[Key,Value] \u001b[39m=\u001b[39m {\n\u001b[1;32m     10\u001b[0m                         \u001b[39m\"\u001b[39m\u001b[39mfname\u001b[39m\u001b[39m\"\u001b[39m:\u001b[39m\"\u001b[39m\u001b[39mMuhammad Aslam\u001b[39m\u001b[39m\"\u001b[39m,\n\u001b[1;32m     11\u001b[0m                         \u001b[39m\"\u001b[39m\u001b[39mname\u001b[39m\u001b[39m\"\u001b[39m:\u001b[39m\"\u001b[39m\u001b[39mMuhammad Qasim\u001b[39m\u001b[39m\"\u001b[39m,\n\u001b[1;32m     12\u001b[0m                         \u001b[39m\"\u001b[39m\u001b[39meducation\u001b[39m\u001b[39m\"\u001b[39m: \u001b[39m\"\u001b[39m\u001b[39mMSDS\u001b[39m\u001b[39m\"\u001b[39m,\n\u001b[1;32m     13\u001b[0m                         \u001b[39m# [1,2,3] : \"Pakistan\", # error\u001b[39;00m\n\u001b[1;32m     14\u001b[0m                         \u001b[39m# (1,2,3) : \"Pakistan\", #error\u001b[39;00m\n\u001b[1;32m     15\u001b[0m                         {\u001b[39m1\u001b[39m,\u001b[39m2\u001b[39m,\u001b[39m3\u001b[39m} : \u001b[39m\"\u001b[39m\u001b[39mpakistan\u001b[39m\u001b[39m\"\u001b[39m\n\u001b[1;32m     16\u001b[0m                         }\n\u001b[1;32m     18\u001b[0m pprint\u001b[39m.\u001b[39mpprint(data)\n\u001b[1;32m     19\u001b[0m \u001b[39mprint\u001b[39m(data[\u001b[39m\"\u001b[39m\u001b[39mname\u001b[39m\u001b[39m\"\u001b[39m])\n",
            "\u001b[0;31mTypeError\u001b[0m: unhashable type: 'set'"
          ]
        }
      ],
      "source": [
        "from typing import Dict, Union, Optional\n",
        "import pprint\n",
        "\n",
        "\n",
        "Key = Union[int,str] # create custom type\n",
        "Value = Union[int, str, list, dict, tuple, set]\n",
        "\n",
        "# List                    0                1            2\n",
        "data : Dict[Key,Value] = {\n",
        "                        \"fname\":\"Muhammad Aslam\",\n",
        "                        \"name\":\"Muhammad Qasim\",\n",
        "                        \"education\": \"MSDS\",\n",
        "                        # [1,2,3] : \"Pakistan\", # error\n",
        "                        # (1,2,3) : \"Pakistan\", #error\n",
        "                        # {1,2,3} : \"pakistan\", #error\n",
        "                        }\n",
        "\n",
        "pprint.pprint(data)\n",
        "print(data[\"name\"])\n",
        "print(data['fname'])\n",
        "print(data['education'])\n",
        "# print(data[0]) # index = key\n"
      ]
    },
    {
      "cell_type": "code",
      "execution_count": null,
      "metadata": {
        "id": "MVL1uHaGpeMa",
        "outputId": "0149ea32-4166-4272-d649-9cb4620c67e6"
      },
      "outputs": [
        {
          "name": "stdout",
          "output_type": "stream",
          "text": [
            "{'abc': [1, 2, 3],\n",
            " 'cde': {'a': 1, 'b': 2},\n",
            " 'education': 'MSDS',\n",
            " 'efg': (1, 2, 3),\n",
            " 'fname': 'Muhammad Aslam',\n",
            " 'name': 'Muhammad Qasim',\n",
            " 'xyz': {1, 2, 3}}\n",
            "Muhammad Qasim\n",
            "Muhammad Aslam\n",
            "{1, 2, 3}\n",
            "MSDS\n"
          ]
        }
      ],
      "source": [
        "from typing import Dict, Union, Optional\n",
        "import pprint\n",
        "\n",
        "\n",
        "Key = Union[int,str] # create custom type\n",
        "Value = Union[int, str, list, dict, tuple, set]\n",
        "\n",
        "# List                    0                1            2\n",
        "data : Dict[Key,Value] = {\n",
        "                        \"fname\":\"Muhammad Aslam\",\n",
        "                        \"name\":\"Muhammad Qasim\",\n",
        "                        \"education\": \"MSDS\",\n",
        "                        \"abc\" : [1,2,3],\n",
        "                        'xyz': {1,2,3},\n",
        "                        'efg' : (1,2,3),\n",
        "                        'cde' : {\"a\":1, \"b\":2}\n",
        "                        # [1,2,3] : \"Pakistan\", # error\n",
        "                        # (1,2,3) : \"Pakistan\", #error\n",
        "                        # {1,2,3} : \"pakistan\", #error\n",
        "                        }\n",
        "\n",
        "pprint.pprint(data)\n",
        "print(data[\"name\"])\n",
        "print(data['fname'])\n",
        "\n",
        "print(data['xyz'])\n",
        "print(data['education'])\n",
        "\n"
      ]
    },
    {
      "cell_type": "code",
      "execution_count": null,
      "metadata": {
        "id": "iEkdRuhepeMb",
        "outputId": "a5d4838d-ff31-471b-e144-897d555c1f8e"
      },
      "outputs": [
        {
          "name": "stdout",
          "output_type": "stream",
          "text": [
            "{1, 2, 3}\n",
            "[1, 2, 3]\n"
          ]
        }
      ],
      "source": [
        "abc : set = {1,2,3,2,2,2,1}\n",
        "print(abc)\n",
        "xyz : list[int] = list(abc)\n",
        "print(xyz)"
      ]
    },
    {
      "cell_type": "code",
      "execution_count": null,
      "metadata": {
        "id": "BJd2L4T4peMb",
        "outputId": "fae857ec-b82f-471a-fe53-a3797ca7bbd9"
      },
      "outputs": [
        {
          "data": {
            "text/plain": [
              "2"
            ]
          },
          "execution_count": 30,
          "metadata": {},
          "output_type": "execute_result"
        }
      ],
      "source": [
        "from typing import Dict, Union, Optional\n",
        "import pprint\n",
        "\n",
        "\n",
        "Key = Union[int,str] # create custom type\n",
        "Value = Union[int, str, list, dict, tuple, set]\n",
        "\n",
        "# List                    0                1            2\n",
        "data : Dict[Key,Value] = {\n",
        "                        \"fname\":\"Muhammad Aslam\",\n",
        "                        \"name\":\"Muhammad Qasim\",\n",
        "                        \"education\": \"MSDS\",\n",
        "                        \"abc\" : [1,2,3],\n",
        "                        'xyz': {1,2,3},\n",
        "                        'efg' : (1,2,3),\n",
        "                        'cde' : {\"a\":1, \"b\":2}\n",
        "                        # [1,2,3] : \"Pakistan\", # error\n",
        "                        # (1,2,3) : \"Pakistan\", #error\n",
        "                        # {1,2,3} : \"pakistan\", #error\n",
        "                        }\n",
        "\n",
        "data['cde']['b']"
      ]
    },
    {
      "cell_type": "code",
      "execution_count": null,
      "metadata": {
        "id": "nVySAOSBpeMc",
        "outputId": "0c48bb3b-5448-49c1-af02-dc3cb822bb06"
      },
      "outputs": [
        {
          "name": "stdout",
          "output_type": "stream",
          "text": [
            "{'name': 'Muhammad Qasim', 'fname': 'Muhammad Aslam', 'education': 'MSDS'}\n"
          ]
        }
      ],
      "source": [
        "from typing import Dict, Union, Optional\n",
        "import pprint\n",
        "\n",
        "\n",
        "Key = Union[int,str] # create custom type\n",
        "Value = Union[int, str, list, dict, tuple, set]\n",
        "\n",
        "data : dict[Key,Value] = {}\n",
        "\n",
        "data['name'] = \"Muhammad Qasim\" #add new key and values\n",
        "data['fname'] = \"Muhammad Aslam\"\n",
        "data['education'] = \"MSDS\"\n",
        "\n",
        "print(data)"
      ]
    },
    {
      "cell_type": "code",
      "execution_count": null,
      "metadata": {
        "id": "hyAxtVf8peMd",
        "outputId": "8fa49e21-916b-4492-a1b6-7cf99af19928"
      },
      "outputs": [
        {
          "name": "stdout",
          "output_type": "stream",
          "text": [
            "{'fname': 'Muhammad Aslam', 'name': 'Muhammad Qasim', 'education': 'MSDS'}\n",
            "{'fname': 'Muhammad Aslam', 'name': 'M.Qasim', 'education': 'MSDS'}\n"
          ]
        }
      ],
      "source": [
        "from typing import Dict, Union, Optional\n",
        "import pprint\n",
        "\n",
        "\n",
        "Key = Union[int,str] # create custom type\n",
        "Value = Union[int, str, list, dict, tuple, set]\n",
        "\n",
        "data : Dict[Key,Value] = {\n",
        "                        \"fname\":\"Muhammad Aslam\",\n",
        "                        \"name\":\"Muhammad Qasim\",\n",
        "                        \"education\": \"MSDS\"}\n",
        "\n",
        "\n",
        "print(data)\n",
        "\n",
        "data['name'] = \"M.Qasim\" # update\n",
        "\n",
        "print(data)"
      ]
    },
    {
      "cell_type": "code",
      "execution_count": null,
      "metadata": {
        "id": "FscvRu-UpeMf",
        "outputId": "6e9e9287-e78d-4590-8e23-4f114f3fbd52"
      },
      "outputs": [
        {
          "ename": "KeyError",
          "evalue": "'pakistan'",
          "output_type": "error",
          "traceback": [
            "\u001b[0;31m---------------------------------------------------------------------------\u001b[0m",
            "\u001b[0;31mKeyError\u001b[0m                                  Traceback (most recent call last)",
            "Cell \u001b[0;32mIn[35], line 15\u001b[0m\n\u001b[1;32m      6\u001b[0m Value \u001b[39m=\u001b[39m Union[\u001b[39mint\u001b[39m, \u001b[39mstr\u001b[39m, \u001b[39mlist\u001b[39m, \u001b[39mdict\u001b[39m, \u001b[39mtuple\u001b[39m, \u001b[39mset\u001b[39m]\n\u001b[1;32m      8\u001b[0m data : Dict[Key,Value] \u001b[39m=\u001b[39m {\n\u001b[1;32m      9\u001b[0m                         \u001b[39m\"\u001b[39m\u001b[39mfname\u001b[39m\u001b[39m\"\u001b[39m:\u001b[39m\"\u001b[39m\u001b[39mMuhammad Aslam\u001b[39m\u001b[39m\"\u001b[39m,\n\u001b[1;32m     10\u001b[0m                         \u001b[39m\"\u001b[39m\u001b[39mname\u001b[39m\u001b[39m\"\u001b[39m:\u001b[39m\"\u001b[39m\u001b[39mMuhammad Qasim\u001b[39m\u001b[39m\"\u001b[39m,\n\u001b[1;32m     11\u001b[0m                         \u001b[39m\"\u001b[39m\u001b[39meducation\u001b[39m\u001b[39m\"\u001b[39m: \u001b[39m\"\u001b[39m\u001b[39mMSDS\u001b[39m\u001b[39m\"\u001b[39m}\n\u001b[0;32m---> 15\u001b[0m \u001b[39mprint\u001b[39m(data[\u001b[39m'\u001b[39;49m\u001b[39mpakistan\u001b[39;49m\u001b[39m'\u001b[39;49m])\n\u001b[1;32m     17\u001b[0m [i \u001b[39mfor\u001b[39;00m i \u001b[39min\u001b[39;00m \u001b[39mdir\u001b[39m(data) \u001b[39mif\u001b[39;00m \u001b[39m\"\u001b[39m\u001b[39m__\u001b[39m\u001b[39m\"\u001b[39m \u001b[39mnot\u001b[39;00m \u001b[39min\u001b[39;00m i]\n",
            "\u001b[0;31mKeyError\u001b[0m: 'pakistan'"
          ]
        }
      ],
      "source": [
        "from typing import Dict, Union, Optional\n",
        "import pprint\n",
        "\n",
        "\n",
        "Key = Union[int,str] # create custom type\n",
        "Value = Union[int, str, list, dict, tuple, set]\n",
        "\n",
        "data : Dict[Key,Value] = {\n",
        "                        \"fname\":\"Muhammad Aslam\",\n",
        "                        \"name\":\"Muhammad Qasim\",\n",
        "                        \"education\": \"MSDS\"}\n",
        "\n",
        "\n",
        "\n",
        "print(data['pakistan'])\n",
        "\n",
        "[i for i in dir(data) if \"__\" not in i]"
      ]
    },
    {
      "cell_type": "code",
      "execution_count": null,
      "metadata": {
        "id": "z6cCEygtpeMg",
        "outputId": "913afb31-27c8-45f2-fb0b-78423765454b"
      },
      "outputs": [
        {
          "name": "stdout",
          "output_type": "stream",
          "text": [
            "NA\n",
            "Muhammad Qasim\n"
          ]
        },
        {
          "data": {
            "text/plain": [
              "['clear',\n",
              " 'copy',\n",
              " 'fromkeys',\n",
              " 'get',\n",
              " 'items',\n",
              " 'keys',\n",
              " 'pop',\n",
              " 'popitem',\n",
              " 'setdefault',\n",
              " 'update',\n",
              " 'values']"
            ]
          },
          "execution_count": 38,
          "metadata": {},
          "output_type": "execute_result"
        }
      ],
      "source": [
        "from typing import Dict, Union, Optional\n",
        "import pprint\n",
        "\n",
        "\n",
        "Key = Union[int,str] # create custom type\n",
        "Value = Union[int, str, list, dict, tuple, set]\n",
        "\n",
        "data : Dict[Key,Value] = {\n",
        "                        \"fname\":\"Muhammad Aslam\",\n",
        "                        \"name\":\"Muhammad Qasim\",\n",
        "                        \"education\": \"MSDS\"}\n",
        "\n",
        "\n",
        "#                 key\n",
        "print(data.get('pakistan',\"NA\"))\n",
        "print(data.get('name',\"NA\"))\n",
        "\n",
        "[i for i in dir(data) if \"__\" not in i]"
      ]
    },
    {
      "cell_type": "code",
      "execution_count": null,
      "metadata": {
        "id": "5dmiegJOpeMh",
        "outputId": "ddc2ba55-21d2-40ea-d760-0e8b9c16c8fe"
      },
      "outputs": [
        {
          "name": "stdout",
          "output_type": "stream",
          "text": [
            "fname\n",
            "name\n",
            "education\n"
          ]
        }
      ],
      "source": [
        "from typing import Dict, Union, Optional\n",
        "import pprint\n",
        "\n",
        "\n",
        "Key = Union[int,str] # create custom type\n",
        "Value = Union[int, str, list, dict, tuple, set]\n",
        "\n",
        "data : Dict[Key,Value] = {\n",
        "                        \"fname\":\"Muhammad Aslam\",\n",
        "                        \"name\":\"Muhammad Qasim\",\n",
        "                        \"education\": \"MSDS\"}\n",
        "\n",
        "\n",
        "for d in data:\n",
        "    print(d) # keys\n",
        "\n",
        "\n",
        "# [i for i in dir(data) if \"__\" not in i]"
      ]
    },
    {
      "cell_type": "code",
      "execution_count": null,
      "metadata": {
        "id": "eZm1Uj9vpeMi",
        "outputId": "6f4a965d-5e43-4d94-fa49-df22641657ca"
      },
      "outputs": [
        {
          "name": "stdout",
          "output_type": "stream",
          "text": [
            "dict_keys(['fname', 'name', 'education'])\n",
            "dict_values(['Muhammad Aslam', 'Muhammad Qasim', 'MSDS'])\n",
            "dict_items([('fname', 'Muhammad Aslam'), ('name', 'Muhammad Qasim'), ('education', 'MSDS')])\n",
            "fname\n",
            "name\n",
            "education\n"
          ]
        }
      ],
      "source": [
        "from typing import Dict, Union, Optional\n",
        "import pprint\n",
        "\n",
        "\n",
        "Key = Union[int,str] # create custom type\n",
        "Value = Union[int, str, list, dict, tuple, set]\n",
        "\n",
        "data : Dict[Key,Value] = {\n",
        "                        \"fname\":\"Muhammad Aslam\",\n",
        "                        \"name\":\"Muhammad Qasim\",\n",
        "                        \"education\": \"MSDS\"}\n",
        "\n",
        "\n",
        "print(data.keys()) # keys\n",
        "print(data.values()) # values\n",
        "print(data.items())\n",
        "\n",
        "for k in data.keys():\n",
        "    print(k)\n",
        "\n",
        "\n",
        "# [i for i in dir(data) if \"__\" not in i]"
      ]
    },
    {
      "cell_type": "code",
      "execution_count": null,
      "metadata": {
        "id": "jtt6cixOpeMj",
        "outputId": "2b634377-5679-46b0-adbf-3656b5ca769f"
      },
      "outputs": [
        {
          "name": "stdout",
          "output_type": "stream",
          "text": [
            "dict_keys(['fname', 'name', 'education'])\n",
            "dict_values(['Muhammad Aslam', 'Muhammad Qasim', 'MSDS'])\n",
            "dict_items([('fname', 'Muhammad Aslam'), ('name', 'Muhammad Qasim'), ('education', 'MSDS')])\n",
            "Muhammad Aslam\n",
            "Muhammad Qasim\n",
            "MSDS\n"
          ]
        }
      ],
      "source": [
        "from typing import Dict, Union, Optional\n",
        "import pprint\n",
        "\n",
        "\n",
        "Key = Union[int,str] # create custom type\n",
        "Value = Union[int, str, list, dict, tuple, set]\n",
        "\n",
        "data : Dict[Key,Value] = {\n",
        "                        \"fname\":\"Muhammad Aslam\",\n",
        "                        \"name\":\"Muhammad Qasim\",\n",
        "                        \"education\": \"MSDS\"}\n",
        "\n",
        "\n",
        "print(data.keys()) # keys\n",
        "print(data.values()) # values\n",
        "print(data.items())\n",
        "\n",
        "for v in data.values():\n",
        "    print(v)\n",
        "\n",
        "\n",
        "# [i for i in dir(data) if \"__\" not in i]"
      ]
    },
    {
      "cell_type": "code",
      "execution_count": null,
      "metadata": {
        "id": "F8IDrboppeMk",
        "outputId": "5e55f9b6-d721-4f20-8383-3bd15bc6827a"
      },
      "outputs": [
        {
          "name": "stdout",
          "output_type": "stream",
          "text": [
            "dict_keys(['fname', 'name', 'education'])\n",
            "dict_values(['Muhammad Aslam', 'Muhammad Qasim', 'MSDS'])\n",
            "dict_items([('fname', 'Muhammad Aslam'), ('name', 'Muhammad Qasim'), ('education', 'MSDS')])\n",
            "fname Muhammad Aslam\n",
            "name Muhammad Qasim\n",
            "education MSDS\n"
          ]
        }
      ],
      "source": [
        "from typing import Dict, Union, Optional\n",
        "import pprint\n",
        "\n",
        "\n",
        "Key = Union[int,str] # create custom type\n",
        "Value = Union[int, str, list, dict, tuple, set]\n",
        "\n",
        "data : Dict[Key,Value] = {\n",
        "                        \"fname\":\"Muhammad Aslam\",\n",
        "                        \"name\":\"Muhammad Qasim\",\n",
        "                        \"education\": \"MSDS\"}\n",
        "\n",
        "\n",
        "print(data.keys()) # keys\n",
        "print(data.values()) # values\n",
        "print(data.items())\n",
        "\n",
        "for k,v in data.items():\n",
        "    print(k,v)"
      ]
    },
    {
      "cell_type": "code",
      "execution_count": null,
      "metadata": {
        "id": "JFo5J525peMm",
        "outputId": "61da9f2b-b4c9-4007-996b-0898e48cd7ed"
      },
      "outputs": [
        {
          "data": {
            "text/plain": [
              "{'Muhammad Aslam': 'fname', 'Muhammad Qasim': 'name', 'MSDS': 'education'}"
            ]
          },
          "execution_count": 50,
          "metadata": {},
          "output_type": "execute_result"
        }
      ],
      "source": [
        "{v:k for k,v in data.items()}\n"
      ]
    },
    {
      "cell_type": "code",
      "execution_count": null,
      "metadata": {
        "id": "ysx5QobFpeMq",
        "outputId": "56be8cd3-ee0d-4b76-fce7-fcd9078021f9"
      },
      "outputs": [
        {
          "name": "stdout",
          "output_type": "stream",
          "text": [
            "9 7\n"
          ]
        }
      ],
      "source": [
        "a : int = 7\n",
        "b : int = 9\n",
        "\n",
        "a, b = b, a # shuffle\n",
        "\n",
        "print(a,b)"
      ]
    },
    {
      "cell_type": "code",
      "execution_count": null,
      "metadata": {
        "id": "dDDItMmXpeMr",
        "outputId": "5d9c7195-d8b0-4472-fc14-39fc527a8917"
      },
      "outputs": [
        {
          "name": "stdout",
          "output_type": "stream",
          "text": [
            "{}\n",
            "{'id': None, 'name': None, 'fname': None, 'course': None}\n"
          ]
        }
      ],
      "source": [
        "\n",
        "keys : list[str] = ['id','name','fname','course']\n",
        "\n",
        "data : dict[Key,Value] = {}\n",
        "\n",
        "print(data)\n",
        "\n",
        "data = data.fromkeys(keys) # inline\n",
        "\n",
        "print(data)"
      ]
    },
    {
      "cell_type": "code",
      "execution_count": null,
      "metadata": {
        "id": "3qZ1agkupeMs"
      },
      "outputs": [],
      "source": []
    }
  ],
  "metadata": {
    "kernelspec": {
      "display_name": "python12",
      "language": "python",
      "name": "python3"
    },
    "language_info": {
      "codemirror_mode": {
        "name": "ipython",
        "version": 3
      },
      "file_extension": ".py",
      "mimetype": "text/x-python",
      "name": "python",
      "nbconvert_exporter": "python",
      "pygments_lexer": "ipython3",
      "version": "3.12.0"
    },
    "orig_nbformat": 4,
    "colab": {
      "provenance": [],
      "include_colab_link": true
    }
  },
  "nbformat": 4,
  "nbformat_minor": 0
}